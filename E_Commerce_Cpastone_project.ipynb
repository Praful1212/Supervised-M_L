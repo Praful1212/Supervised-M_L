{
 "cells": [
  {
   "cell_type": "markdown",
   "id": "820b278d",
   "metadata": {},
   "source": [
    "# CAPSTONE PROJECT- E-Commerce-Shipping Data"
   ]
  },
  {
   "cell_type": "code",
   "execution_count": 22,
   "id": "8a0309e8",
   "metadata": {},
   "outputs": [],
   "source": [
    "import numpy as np\n",
    "import pandas as pd\n",
    "import warnings\n",
    "warnings.filterwarnings('ignore')\n",
    "import matplotlib.pyplot as plt\n",
    "import seaborn as sns"
   ]
  },
  {
   "cell_type": "markdown",
   "id": "3d37207c",
   "metadata": {},
   "source": [
    "# Importing the Data "
   ]
  },
  {
   "cell_type": "code",
   "execution_count": 23,
   "id": "49a189a8",
   "metadata": {},
   "outputs": [],
   "source": [
    "df=pd.read_csv('E_Commerce_data.csv')"
   ]
  },
  {
   "cell_type": "markdown",
   "id": "2f11469b",
   "metadata": {},
   "source": [
    "# Checking up the Top 5 rows of the given Data\n",
    "\n",
    "#It is helpful for quickly testing if your object has the right type of data in it"
   ]
  },
  {
   "cell_type": "code",
   "execution_count": 24,
   "id": "d15f3f88",
   "metadata": {},
   "outputs": [
    {
     "data": {
      "text/html": [
       "<div>\n",
       "<style scoped>\n",
       "    .dataframe tbody tr th:only-of-type {\n",
       "        vertical-align: middle;\n",
       "    }\n",
       "\n",
       "    .dataframe tbody tr th {\n",
       "        vertical-align: top;\n",
       "    }\n",
       "\n",
       "    .dataframe thead th {\n",
       "        text-align: right;\n",
       "    }\n",
       "</style>\n",
       "<table border=\"1\" class=\"dataframe\">\n",
       "  <thead>\n",
       "    <tr style=\"text-align: right;\">\n",
       "      <th></th>\n",
       "      <th>ID</th>\n",
       "      <th>Warehouse_block</th>\n",
       "      <th>Mode_of_Shipment</th>\n",
       "      <th>Customer_care_calls</th>\n",
       "      <th>Customer_rating</th>\n",
       "      <th>Cost_of_the_Product</th>\n",
       "      <th>Prior_purchases</th>\n",
       "      <th>Product_importance</th>\n",
       "      <th>Gender</th>\n",
       "      <th>Discount_offered</th>\n",
       "      <th>Weight_in_gms</th>\n",
       "      <th>Reached.on.Time_Y.N</th>\n",
       "    </tr>\n",
       "  </thead>\n",
       "  <tbody>\n",
       "    <tr>\n",
       "      <th>0</th>\n",
       "      <td>1</td>\n",
       "      <td>D</td>\n",
       "      <td>Flight</td>\n",
       "      <td>4</td>\n",
       "      <td>2</td>\n",
       "      <td>177</td>\n",
       "      <td>3</td>\n",
       "      <td>low</td>\n",
       "      <td>F</td>\n",
       "      <td>44</td>\n",
       "      <td>1233</td>\n",
       "      <td>1</td>\n",
       "    </tr>\n",
       "    <tr>\n",
       "      <th>1</th>\n",
       "      <td>2</td>\n",
       "      <td>F</td>\n",
       "      <td>Flight</td>\n",
       "      <td>4</td>\n",
       "      <td>5</td>\n",
       "      <td>216</td>\n",
       "      <td>2</td>\n",
       "      <td>low</td>\n",
       "      <td>M</td>\n",
       "      <td>59</td>\n",
       "      <td>3088</td>\n",
       "      <td>1</td>\n",
       "    </tr>\n",
       "    <tr>\n",
       "      <th>2</th>\n",
       "      <td>3</td>\n",
       "      <td>A</td>\n",
       "      <td>Flight</td>\n",
       "      <td>2</td>\n",
       "      <td>2</td>\n",
       "      <td>183</td>\n",
       "      <td>4</td>\n",
       "      <td>low</td>\n",
       "      <td>M</td>\n",
       "      <td>48</td>\n",
       "      <td>3374</td>\n",
       "      <td>1</td>\n",
       "    </tr>\n",
       "    <tr>\n",
       "      <th>3</th>\n",
       "      <td>4</td>\n",
       "      <td>B</td>\n",
       "      <td>Flight</td>\n",
       "      <td>3</td>\n",
       "      <td>3</td>\n",
       "      <td>176</td>\n",
       "      <td>4</td>\n",
       "      <td>medium</td>\n",
       "      <td>M</td>\n",
       "      <td>10</td>\n",
       "      <td>1177</td>\n",
       "      <td>1</td>\n",
       "    </tr>\n",
       "    <tr>\n",
       "      <th>4</th>\n",
       "      <td>5</td>\n",
       "      <td>C</td>\n",
       "      <td>Flight</td>\n",
       "      <td>2</td>\n",
       "      <td>2</td>\n",
       "      <td>184</td>\n",
       "      <td>3</td>\n",
       "      <td>medium</td>\n",
       "      <td>F</td>\n",
       "      <td>46</td>\n",
       "      <td>2484</td>\n",
       "      <td>1</td>\n",
       "    </tr>\n",
       "  </tbody>\n",
       "</table>\n",
       "</div>"
      ],
      "text/plain": [
       "   ID Warehouse_block Mode_of_Shipment  Customer_care_calls  Customer_rating  \\\n",
       "0   1               D           Flight                    4                2   \n",
       "1   2               F           Flight                    4                5   \n",
       "2   3               A           Flight                    2                2   \n",
       "3   4               B           Flight                    3                3   \n",
       "4   5               C           Flight                    2                2   \n",
       "\n",
       "   Cost_of_the_Product  Prior_purchases Product_importance Gender  \\\n",
       "0                  177                3                low      F   \n",
       "1                  216                2                low      M   \n",
       "2                  183                4                low      M   \n",
       "3                  176                4             medium      M   \n",
       "4                  184                3             medium      F   \n",
       "\n",
       "   Discount_offered  Weight_in_gms  Reached.on.Time_Y.N  \n",
       "0                44           1233                    1  \n",
       "1                59           3088                    1  \n",
       "2                48           3374                    1  \n",
       "3                10           1177                    1  \n",
       "4                46           2484                    1  "
      ]
     },
     "execution_count": 24,
     "metadata": {},
     "output_type": "execute_result"
    }
   ],
   "source": [
    "df.head()"
   ]
  },
  {
   "cell_type": "code",
   "execution_count": 25,
   "id": "edfb626b",
   "metadata": {},
   "outputs": [
    {
     "data": {
      "text/html": [
       "<div>\n",
       "<style scoped>\n",
       "    .dataframe tbody tr th:only-of-type {\n",
       "        vertical-align: middle;\n",
       "    }\n",
       "\n",
       "    .dataframe tbody tr th {\n",
       "        vertical-align: top;\n",
       "    }\n",
       "\n",
       "    .dataframe thead th {\n",
       "        text-align: right;\n",
       "    }\n",
       "</style>\n",
       "<table border=\"1\" class=\"dataframe\">\n",
       "  <thead>\n",
       "    <tr style=\"text-align: right;\">\n",
       "      <th></th>\n",
       "      <th>ID</th>\n",
       "      <th>Warehouse_block</th>\n",
       "      <th>Mode_of_Shipment</th>\n",
       "      <th>Customer_care_calls</th>\n",
       "      <th>Customer_rating</th>\n",
       "      <th>Cost_of_the_Product</th>\n",
       "      <th>Prior_purchases</th>\n",
       "      <th>Product_importance</th>\n",
       "      <th>Gender</th>\n",
       "      <th>Discount_offered</th>\n",
       "      <th>Weight_in_gms</th>\n",
       "      <th>Reached.on.Time_Y.N</th>\n",
       "    </tr>\n",
       "  </thead>\n",
       "  <tbody>\n",
       "    <tr>\n",
       "      <th>10994</th>\n",
       "      <td>10995</td>\n",
       "      <td>A</td>\n",
       "      <td>Ship</td>\n",
       "      <td>4</td>\n",
       "      <td>1</td>\n",
       "      <td>252</td>\n",
       "      <td>5</td>\n",
       "      <td>medium</td>\n",
       "      <td>F</td>\n",
       "      <td>1</td>\n",
       "      <td>1538</td>\n",
       "      <td>1</td>\n",
       "    </tr>\n",
       "    <tr>\n",
       "      <th>10995</th>\n",
       "      <td>10996</td>\n",
       "      <td>B</td>\n",
       "      <td>Ship</td>\n",
       "      <td>4</td>\n",
       "      <td>1</td>\n",
       "      <td>232</td>\n",
       "      <td>5</td>\n",
       "      <td>medium</td>\n",
       "      <td>F</td>\n",
       "      <td>6</td>\n",
       "      <td>1247</td>\n",
       "      <td>0</td>\n",
       "    </tr>\n",
       "    <tr>\n",
       "      <th>10996</th>\n",
       "      <td>10997</td>\n",
       "      <td>C</td>\n",
       "      <td>Ship</td>\n",
       "      <td>5</td>\n",
       "      <td>4</td>\n",
       "      <td>242</td>\n",
       "      <td>5</td>\n",
       "      <td>low</td>\n",
       "      <td>F</td>\n",
       "      <td>4</td>\n",
       "      <td>1155</td>\n",
       "      <td>0</td>\n",
       "    </tr>\n",
       "    <tr>\n",
       "      <th>10997</th>\n",
       "      <td>10998</td>\n",
       "      <td>F</td>\n",
       "      <td>Ship</td>\n",
       "      <td>5</td>\n",
       "      <td>2</td>\n",
       "      <td>223</td>\n",
       "      <td>6</td>\n",
       "      <td>medium</td>\n",
       "      <td>M</td>\n",
       "      <td>2</td>\n",
       "      <td>1210</td>\n",
       "      <td>0</td>\n",
       "    </tr>\n",
       "    <tr>\n",
       "      <th>10998</th>\n",
       "      <td>10999</td>\n",
       "      <td>D</td>\n",
       "      <td>Ship</td>\n",
       "      <td>2</td>\n",
       "      <td>5</td>\n",
       "      <td>155</td>\n",
       "      <td>5</td>\n",
       "      <td>low</td>\n",
       "      <td>F</td>\n",
       "      <td>6</td>\n",
       "      <td>1639</td>\n",
       "      <td>0</td>\n",
       "    </tr>\n",
       "  </tbody>\n",
       "</table>\n",
       "</div>"
      ],
      "text/plain": [
       "          ID Warehouse_block Mode_of_Shipment  Customer_care_calls  \\\n",
       "10994  10995               A             Ship                    4   \n",
       "10995  10996               B             Ship                    4   \n",
       "10996  10997               C             Ship                    5   \n",
       "10997  10998               F             Ship                    5   \n",
       "10998  10999               D             Ship                    2   \n",
       "\n",
       "       Customer_rating  Cost_of_the_Product  Prior_purchases  \\\n",
       "10994                1                  252                5   \n",
       "10995                1                  232                5   \n",
       "10996                4                  242                5   \n",
       "10997                2                  223                6   \n",
       "10998                5                  155                5   \n",
       "\n",
       "      Product_importance Gender  Discount_offered  Weight_in_gms  \\\n",
       "10994             medium      F                 1           1538   \n",
       "10995             medium      F                 6           1247   \n",
       "10996                low      F                 4           1155   \n",
       "10997             medium      M                 2           1210   \n",
       "10998                low      F                 6           1639   \n",
       "\n",
       "       Reached.on.Time_Y.N  \n",
       "10994                    1  \n",
       "10995                    0  \n",
       "10996                    0  \n",
       "10997                    0  \n",
       "10998                    0  "
      ]
     },
     "execution_count": 25,
     "metadata": {},
     "output_type": "execute_result"
    }
   ],
   "source": [
    "df.tail()"
   ]
  },
  {
   "cell_type": "markdown",
   "id": "c99e3b40",
   "metadata": {},
   "source": [
    "# Shape of the data"
   ]
  },
  {
   "cell_type": "markdown",
   "id": "45052825",
   "metadata": {},
   "source": [
    "Checking up the shape of the data. Shape indicates us the dimension . "
   ]
  },
  {
   "cell_type": "code",
   "execution_count": 26,
   "id": "d8ffd86b",
   "metadata": {},
   "outputs": [
    {
     "data": {
      "text/plain": [
       "(10999, 12)"
      ]
     },
     "execution_count": 26,
     "metadata": {},
     "output_type": "execute_result"
    }
   ],
   "source": [
    "df.shape"
   ]
  },
  {
   "cell_type": "markdown",
   "id": "e4dad885",
   "metadata": {},
   "source": [
    "# checking of data type"
   ]
  },
  {
   "cell_type": "markdown",
   "id": "281bafe6",
   "metadata": {},
   "source": [
    "By using Below code we can get to know what are the data types in the dataframe.\n",
    "\n",
    "It also describes how the bytes in the fixed-size block of memory corresponding to an array item should be interpreted"
   ]
  },
  {
   "cell_type": "code",
   "execution_count": 27,
   "id": "85ce2dbe",
   "metadata": {},
   "outputs": [
    {
     "data": {
      "text/plain": [
       "ID                      int64\n",
       "Warehouse_block        object\n",
       "Mode_of_Shipment       object\n",
       "Customer_care_calls     int64\n",
       "Customer_rating         int64\n",
       "Cost_of_the_Product     int64\n",
       "Prior_purchases         int64\n",
       "Product_importance     object\n",
       "Gender                 object\n",
       "Discount_offered        int64\n",
       "Weight_in_gms           int64\n",
       "Reached.on.Time_Y.N     int64\n",
       "dtype: object"
      ]
     },
     "execution_count": 27,
     "metadata": {},
     "output_type": "execute_result"
    }
   ],
   "source": [
    "df.dtypes"
   ]
  },
  {
   "cell_type": "markdown",
   "id": "fd101952",
   "metadata": {},
   "source": []
  },
  {
   "cell_type": "markdown",
   "id": "c42fd53c",
   "metadata": {},
   "source": [
    "By using below code we can get to know all the information about the dataframe.\n",
    "\n",
    "This contains the information like number of columns, column labels,columns data types,range index and number of cells in each columns or NON NULL Values"
   ]
  },
  {
   "cell_type": "code",
   "execution_count": 28,
   "id": "be6fbc6f",
   "metadata": {},
   "outputs": [
    {
     "name": "stdout",
     "output_type": "stream",
     "text": [
      "<class 'pandas.core.frame.DataFrame'>\n",
      "RangeIndex: 10999 entries, 0 to 10998\n",
      "Data columns (total 12 columns):\n",
      " #   Column               Non-Null Count  Dtype \n",
      "---  ------               --------------  ----- \n",
      " 0   ID                   10999 non-null  int64 \n",
      " 1   Warehouse_block      10999 non-null  object\n",
      " 2   Mode_of_Shipment     10999 non-null  object\n",
      " 3   Customer_care_calls  10999 non-null  int64 \n",
      " 4   Customer_rating      10999 non-null  int64 \n",
      " 5   Cost_of_the_Product  10999 non-null  int64 \n",
      " 6   Prior_purchases      10999 non-null  int64 \n",
      " 7   Product_importance   10999 non-null  object\n",
      " 8   Gender               10999 non-null  object\n",
      " 9   Discount_offered     10999 non-null  int64 \n",
      " 10  Weight_in_gms        10999 non-null  int64 \n",
      " 11  Reached.on.Time_Y.N  10999 non-null  int64 \n",
      "dtypes: int64(8), object(4)\n",
      "memory usage: 1.0+ MB\n"
     ]
    }
   ],
   "source": [
    "df.info()"
   ]
  },
  {
   "cell_type": "markdown",
   "id": "fd52cdb3",
   "metadata": {},
   "source": [
    "# Describe"
   ]
  },
  {
   "cell_type": "markdown",
   "id": "ed3165ad",
   "metadata": {},
   "source": [
    "Describe tells us the five number summary and a descriptive statistics of the data in the dataframe.\n",
    "\n",
    "Descriptive statistics contains all  :- Count, Mean, Std, min, 25%, 50%, 75%, max.\n",
    "\n",
    "Five Number Summary contains only :- max, 75%, 50%, 25%, min.\n"
   ]
  },
  {
   "cell_type": "code",
   "execution_count": 29,
   "id": "63e57020",
   "metadata": {},
   "outputs": [
    {
     "data": {
      "text/html": [
       "<div>\n",
       "<style scoped>\n",
       "    .dataframe tbody tr th:only-of-type {\n",
       "        vertical-align: middle;\n",
       "    }\n",
       "\n",
       "    .dataframe tbody tr th {\n",
       "        vertical-align: top;\n",
       "    }\n",
       "\n",
       "    .dataframe thead th {\n",
       "        text-align: right;\n",
       "    }\n",
       "</style>\n",
       "<table border=\"1\" class=\"dataframe\">\n",
       "  <thead>\n",
       "    <tr style=\"text-align: right;\">\n",
       "      <th></th>\n",
       "      <th>count</th>\n",
       "      <th>mean</th>\n",
       "      <th>std</th>\n",
       "      <th>min</th>\n",
       "      <th>25%</th>\n",
       "      <th>50%</th>\n",
       "      <th>75%</th>\n",
       "      <th>max</th>\n",
       "    </tr>\n",
       "  </thead>\n",
       "  <tbody>\n",
       "    <tr>\n",
       "      <th>ID</th>\n",
       "      <td>10999.0</td>\n",
       "      <td>5500.000000</td>\n",
       "      <td>3175.282140</td>\n",
       "      <td>1.0</td>\n",
       "      <td>2750.5</td>\n",
       "      <td>5500.0</td>\n",
       "      <td>8249.5</td>\n",
       "      <td>10999.0</td>\n",
       "    </tr>\n",
       "    <tr>\n",
       "      <th>Customer_care_calls</th>\n",
       "      <td>10999.0</td>\n",
       "      <td>4.054459</td>\n",
       "      <td>1.141490</td>\n",
       "      <td>2.0</td>\n",
       "      <td>3.0</td>\n",
       "      <td>4.0</td>\n",
       "      <td>5.0</td>\n",
       "      <td>7.0</td>\n",
       "    </tr>\n",
       "    <tr>\n",
       "      <th>Customer_rating</th>\n",
       "      <td>10999.0</td>\n",
       "      <td>2.990545</td>\n",
       "      <td>1.413603</td>\n",
       "      <td>1.0</td>\n",
       "      <td>2.0</td>\n",
       "      <td>3.0</td>\n",
       "      <td>4.0</td>\n",
       "      <td>5.0</td>\n",
       "    </tr>\n",
       "    <tr>\n",
       "      <th>Cost_of_the_Product</th>\n",
       "      <td>10999.0</td>\n",
       "      <td>210.196836</td>\n",
       "      <td>48.063272</td>\n",
       "      <td>96.0</td>\n",
       "      <td>169.0</td>\n",
       "      <td>214.0</td>\n",
       "      <td>251.0</td>\n",
       "      <td>310.0</td>\n",
       "    </tr>\n",
       "    <tr>\n",
       "      <th>Prior_purchases</th>\n",
       "      <td>10999.0</td>\n",
       "      <td>3.567597</td>\n",
       "      <td>1.522860</td>\n",
       "      <td>2.0</td>\n",
       "      <td>3.0</td>\n",
       "      <td>3.0</td>\n",
       "      <td>4.0</td>\n",
       "      <td>10.0</td>\n",
       "    </tr>\n",
       "    <tr>\n",
       "      <th>Discount_offered</th>\n",
       "      <td>10999.0</td>\n",
       "      <td>13.373216</td>\n",
       "      <td>16.205527</td>\n",
       "      <td>1.0</td>\n",
       "      <td>4.0</td>\n",
       "      <td>7.0</td>\n",
       "      <td>10.0</td>\n",
       "      <td>65.0</td>\n",
       "    </tr>\n",
       "    <tr>\n",
       "      <th>Weight_in_gms</th>\n",
       "      <td>10999.0</td>\n",
       "      <td>3634.016729</td>\n",
       "      <td>1635.377251</td>\n",
       "      <td>1001.0</td>\n",
       "      <td>1839.5</td>\n",
       "      <td>4149.0</td>\n",
       "      <td>5050.0</td>\n",
       "      <td>7846.0</td>\n",
       "    </tr>\n",
       "    <tr>\n",
       "      <th>Reached.on.Time_Y.N</th>\n",
       "      <td>10999.0</td>\n",
       "      <td>0.596691</td>\n",
       "      <td>0.490584</td>\n",
       "      <td>0.0</td>\n",
       "      <td>0.0</td>\n",
       "      <td>1.0</td>\n",
       "      <td>1.0</td>\n",
       "      <td>1.0</td>\n",
       "    </tr>\n",
       "  </tbody>\n",
       "</table>\n",
       "</div>"
      ],
      "text/plain": [
       "                       count         mean          std     min     25%  \\\n",
       "ID                   10999.0  5500.000000  3175.282140     1.0  2750.5   \n",
       "Customer_care_calls  10999.0     4.054459     1.141490     2.0     3.0   \n",
       "Customer_rating      10999.0     2.990545     1.413603     1.0     2.0   \n",
       "Cost_of_the_Product  10999.0   210.196836    48.063272    96.0   169.0   \n",
       "Prior_purchases      10999.0     3.567597     1.522860     2.0     3.0   \n",
       "Discount_offered     10999.0    13.373216    16.205527     1.0     4.0   \n",
       "Weight_in_gms        10999.0  3634.016729  1635.377251  1001.0  1839.5   \n",
       "Reached.on.Time_Y.N  10999.0     0.596691     0.490584     0.0     0.0   \n",
       "\n",
       "                        50%     75%      max  \n",
       "ID                   5500.0  8249.5  10999.0  \n",
       "Customer_care_calls     4.0     5.0      7.0  \n",
       "Customer_rating         3.0     4.0      5.0  \n",
       "Cost_of_the_Product   214.0   251.0    310.0  \n",
       "Prior_purchases         3.0     4.0     10.0  \n",
       "Discount_offered        7.0    10.0     65.0  \n",
       "Weight_in_gms        4149.0  5050.0   7846.0  \n",
       "Reached.on.Time_Y.N     1.0     1.0      1.0  "
      ]
     },
     "execution_count": 29,
     "metadata": {},
     "output_type": "execute_result"
    }
   ],
   "source": [
    "df.describe().T"
   ]
  },
  {
   "cell_type": "markdown",
   "id": "eca88aa9",
   "metadata": {},
   "source": [
    "# Checking and Handling of Missing Value"
   ]
  },
  {
   "cell_type": "markdown",
   "id": "4914e06c",
   "metadata": {},
   "source": [
    "This function returns a DataFrame object where all the values are replaced with a Boolean value True for NULL values, and otherwise False"
   ]
  },
  {
   "cell_type": "code",
   "execution_count": 30,
   "id": "ada63154",
   "metadata": {},
   "outputs": [
    {
     "data": {
      "text/html": [
       "<div>\n",
       "<style scoped>\n",
       "    .dataframe tbody tr th:only-of-type {\n",
       "        vertical-align: middle;\n",
       "    }\n",
       "\n",
       "    .dataframe tbody tr th {\n",
       "        vertical-align: top;\n",
       "    }\n",
       "\n",
       "    .dataframe thead th {\n",
       "        text-align: right;\n",
       "    }\n",
       "</style>\n",
       "<table border=\"1\" class=\"dataframe\">\n",
       "  <thead>\n",
       "    <tr style=\"text-align: right;\">\n",
       "      <th></th>\n",
       "      <th>ID</th>\n",
       "      <th>Warehouse_block</th>\n",
       "      <th>Mode_of_Shipment</th>\n",
       "      <th>Customer_care_calls</th>\n",
       "      <th>Customer_rating</th>\n",
       "      <th>Cost_of_the_Product</th>\n",
       "      <th>Prior_purchases</th>\n",
       "      <th>Product_importance</th>\n",
       "      <th>Gender</th>\n",
       "      <th>Discount_offered</th>\n",
       "      <th>Weight_in_gms</th>\n",
       "      <th>Reached.on.Time_Y.N</th>\n",
       "    </tr>\n",
       "  </thead>\n",
       "  <tbody>\n",
       "    <tr>\n",
       "      <th>0</th>\n",
       "      <td>False</td>\n",
       "      <td>False</td>\n",
       "      <td>False</td>\n",
       "      <td>False</td>\n",
       "      <td>False</td>\n",
       "      <td>False</td>\n",
       "      <td>False</td>\n",
       "      <td>False</td>\n",
       "      <td>False</td>\n",
       "      <td>False</td>\n",
       "      <td>False</td>\n",
       "      <td>False</td>\n",
       "    </tr>\n",
       "    <tr>\n",
       "      <th>1</th>\n",
       "      <td>False</td>\n",
       "      <td>False</td>\n",
       "      <td>False</td>\n",
       "      <td>False</td>\n",
       "      <td>False</td>\n",
       "      <td>False</td>\n",
       "      <td>False</td>\n",
       "      <td>False</td>\n",
       "      <td>False</td>\n",
       "      <td>False</td>\n",
       "      <td>False</td>\n",
       "      <td>False</td>\n",
       "    </tr>\n",
       "    <tr>\n",
       "      <th>2</th>\n",
       "      <td>False</td>\n",
       "      <td>False</td>\n",
       "      <td>False</td>\n",
       "      <td>False</td>\n",
       "      <td>False</td>\n",
       "      <td>False</td>\n",
       "      <td>False</td>\n",
       "      <td>False</td>\n",
       "      <td>False</td>\n",
       "      <td>False</td>\n",
       "      <td>False</td>\n",
       "      <td>False</td>\n",
       "    </tr>\n",
       "    <tr>\n",
       "      <th>3</th>\n",
       "      <td>False</td>\n",
       "      <td>False</td>\n",
       "      <td>False</td>\n",
       "      <td>False</td>\n",
       "      <td>False</td>\n",
       "      <td>False</td>\n",
       "      <td>False</td>\n",
       "      <td>False</td>\n",
       "      <td>False</td>\n",
       "      <td>False</td>\n",
       "      <td>False</td>\n",
       "      <td>False</td>\n",
       "    </tr>\n",
       "    <tr>\n",
       "      <th>4</th>\n",
       "      <td>False</td>\n",
       "      <td>False</td>\n",
       "      <td>False</td>\n",
       "      <td>False</td>\n",
       "      <td>False</td>\n",
       "      <td>False</td>\n",
       "      <td>False</td>\n",
       "      <td>False</td>\n",
       "      <td>False</td>\n",
       "      <td>False</td>\n",
       "      <td>False</td>\n",
       "      <td>False</td>\n",
       "    </tr>\n",
       "    <tr>\n",
       "      <th>...</th>\n",
       "      <td>...</td>\n",
       "      <td>...</td>\n",
       "      <td>...</td>\n",
       "      <td>...</td>\n",
       "      <td>...</td>\n",
       "      <td>...</td>\n",
       "      <td>...</td>\n",
       "      <td>...</td>\n",
       "      <td>...</td>\n",
       "      <td>...</td>\n",
       "      <td>...</td>\n",
       "      <td>...</td>\n",
       "    </tr>\n",
       "    <tr>\n",
       "      <th>10994</th>\n",
       "      <td>False</td>\n",
       "      <td>False</td>\n",
       "      <td>False</td>\n",
       "      <td>False</td>\n",
       "      <td>False</td>\n",
       "      <td>False</td>\n",
       "      <td>False</td>\n",
       "      <td>False</td>\n",
       "      <td>False</td>\n",
       "      <td>False</td>\n",
       "      <td>False</td>\n",
       "      <td>False</td>\n",
       "    </tr>\n",
       "    <tr>\n",
       "      <th>10995</th>\n",
       "      <td>False</td>\n",
       "      <td>False</td>\n",
       "      <td>False</td>\n",
       "      <td>False</td>\n",
       "      <td>False</td>\n",
       "      <td>False</td>\n",
       "      <td>False</td>\n",
       "      <td>False</td>\n",
       "      <td>False</td>\n",
       "      <td>False</td>\n",
       "      <td>False</td>\n",
       "      <td>False</td>\n",
       "    </tr>\n",
       "    <tr>\n",
       "      <th>10996</th>\n",
       "      <td>False</td>\n",
       "      <td>False</td>\n",
       "      <td>False</td>\n",
       "      <td>False</td>\n",
       "      <td>False</td>\n",
       "      <td>False</td>\n",
       "      <td>False</td>\n",
       "      <td>False</td>\n",
       "      <td>False</td>\n",
       "      <td>False</td>\n",
       "      <td>False</td>\n",
       "      <td>False</td>\n",
       "    </tr>\n",
       "    <tr>\n",
       "      <th>10997</th>\n",
       "      <td>False</td>\n",
       "      <td>False</td>\n",
       "      <td>False</td>\n",
       "      <td>False</td>\n",
       "      <td>False</td>\n",
       "      <td>False</td>\n",
       "      <td>False</td>\n",
       "      <td>False</td>\n",
       "      <td>False</td>\n",
       "      <td>False</td>\n",
       "      <td>False</td>\n",
       "      <td>False</td>\n",
       "    </tr>\n",
       "    <tr>\n",
       "      <th>10998</th>\n",
       "      <td>False</td>\n",
       "      <td>False</td>\n",
       "      <td>False</td>\n",
       "      <td>False</td>\n",
       "      <td>False</td>\n",
       "      <td>False</td>\n",
       "      <td>False</td>\n",
       "      <td>False</td>\n",
       "      <td>False</td>\n",
       "      <td>False</td>\n",
       "      <td>False</td>\n",
       "      <td>False</td>\n",
       "    </tr>\n",
       "  </tbody>\n",
       "</table>\n",
       "<p>10999 rows × 12 columns</p>\n",
       "</div>"
      ],
      "text/plain": [
       "          ID  Warehouse_block  Mode_of_Shipment  Customer_care_calls  \\\n",
       "0      False            False             False                False   \n",
       "1      False            False             False                False   \n",
       "2      False            False             False                False   \n",
       "3      False            False             False                False   \n",
       "4      False            False             False                False   \n",
       "...      ...              ...               ...                  ...   \n",
       "10994  False            False             False                False   \n",
       "10995  False            False             False                False   \n",
       "10996  False            False             False                False   \n",
       "10997  False            False             False                False   \n",
       "10998  False            False             False                False   \n",
       "\n",
       "       Customer_rating  Cost_of_the_Product  Prior_purchases  \\\n",
       "0                False                False            False   \n",
       "1                False                False            False   \n",
       "2                False                False            False   \n",
       "3                False                False            False   \n",
       "4                False                False            False   \n",
       "...                ...                  ...              ...   \n",
       "10994            False                False            False   \n",
       "10995            False                False            False   \n",
       "10996            False                False            False   \n",
       "10997            False                False            False   \n",
       "10998            False                False            False   \n",
       "\n",
       "       Product_importance  Gender  Discount_offered  Weight_in_gms  \\\n",
       "0                   False   False             False          False   \n",
       "1                   False   False             False          False   \n",
       "2                   False   False             False          False   \n",
       "3                   False   False             False          False   \n",
       "4                   False   False             False          False   \n",
       "...                   ...     ...               ...            ...   \n",
       "10994               False   False             False          False   \n",
       "10995               False   False             False          False   \n",
       "10996               False   False             False          False   \n",
       "10997               False   False             False          False   \n",
       "10998               False   False             False          False   \n",
       "\n",
       "       Reached.on.Time_Y.N  \n",
       "0                    False  \n",
       "1                    False  \n",
       "2                    False  \n",
       "3                    False  \n",
       "4                    False  \n",
       "...                    ...  \n",
       "10994                False  \n",
       "10995                False  \n",
       "10996                False  \n",
       "10997                False  \n",
       "10998                False  \n",
       "\n",
       "[10999 rows x 12 columns]"
      ]
     },
     "execution_count": 30,
     "metadata": {},
     "output_type": "execute_result"
    }
   ],
   "source": [
    "df.isnull()"
   ]
  },
  {
   "cell_type": "markdown",
   "id": "089d1211",
   "metadata": {},
   "source": [
    "By using such function we can check the missing values in a dataframe.If any missing values found then it will store in True or if there is no missing value then it will show onlyy boolean False as shown below"
   ]
  },
  {
   "cell_type": "code",
   "execution_count": 31,
   "id": "0c09356a",
   "metadata": {},
   "outputs": [
    {
     "data": {
      "text/html": [
       "<div>\n",
       "<style scoped>\n",
       "    .dataframe tbody tr th:only-of-type {\n",
       "        vertical-align: middle;\n",
       "    }\n",
       "\n",
       "    .dataframe tbody tr th {\n",
       "        vertical-align: top;\n",
       "    }\n",
       "\n",
       "    .dataframe thead th {\n",
       "        text-align: right;\n",
       "    }\n",
       "</style>\n",
       "<table border=\"1\" class=\"dataframe\">\n",
       "  <thead>\n",
       "    <tr style=\"text-align: right;\">\n",
       "      <th></th>\n",
       "      <th>False</th>\n",
       "    </tr>\n",
       "  </thead>\n",
       "  <tbody>\n",
       "    <tr>\n",
       "      <th>ID</th>\n",
       "      <td>10999</td>\n",
       "    </tr>\n",
       "    <tr>\n",
       "      <th>Warehouse_block</th>\n",
       "      <td>10999</td>\n",
       "    </tr>\n",
       "    <tr>\n",
       "      <th>Mode_of_Shipment</th>\n",
       "      <td>10999</td>\n",
       "    </tr>\n",
       "    <tr>\n",
       "      <th>Customer_care_calls</th>\n",
       "      <td>10999</td>\n",
       "    </tr>\n",
       "    <tr>\n",
       "      <th>Customer_rating</th>\n",
       "      <td>10999</td>\n",
       "    </tr>\n",
       "    <tr>\n",
       "      <th>Cost_of_the_Product</th>\n",
       "      <td>10999</td>\n",
       "    </tr>\n",
       "    <tr>\n",
       "      <th>Prior_purchases</th>\n",
       "      <td>10999</td>\n",
       "    </tr>\n",
       "    <tr>\n",
       "      <th>Product_importance</th>\n",
       "      <td>10999</td>\n",
       "    </tr>\n",
       "    <tr>\n",
       "      <th>Gender</th>\n",
       "      <td>10999</td>\n",
       "    </tr>\n",
       "    <tr>\n",
       "      <th>Discount_offered</th>\n",
       "      <td>10999</td>\n",
       "    </tr>\n",
       "    <tr>\n",
       "      <th>Weight_in_gms</th>\n",
       "      <td>10999</td>\n",
       "    </tr>\n",
       "    <tr>\n",
       "      <th>Reached.on.Time_Y.N</th>\n",
       "      <td>10999</td>\n",
       "    </tr>\n",
       "  </tbody>\n",
       "</table>\n",
       "</div>"
      ],
      "text/plain": [
       "                     False\n",
       "ID                   10999\n",
       "Warehouse_block      10999\n",
       "Mode_of_Shipment     10999\n",
       "Customer_care_calls  10999\n",
       "Customer_rating      10999\n",
       "Cost_of_the_Product  10999\n",
       "Prior_purchases      10999\n",
       "Product_importance   10999\n",
       "Gender               10999\n",
       "Discount_offered     10999\n",
       "Weight_in_gms        10999\n",
       "Reached.on.Time_Y.N  10999"
      ]
     },
     "execution_count": 31,
     "metadata": {},
     "output_type": "execute_result"
    }
   ],
   "source": [
    "df.isna().apply(pd.value_counts).T"
   ]
  },
  {
   "cell_type": "markdown",
   "id": "47a9e98a",
   "metadata": {},
   "source": [
    "Here I am checking up the null and non null values of Warehouse_block as this feature has datatype object which means it has some object variable in between of its value."
   ]
  },
  {
   "cell_type": "code",
   "execution_count": 32,
   "id": "0f629d16",
   "metadata": {},
   "outputs": [
    {
     "data": {
      "text/plain": [
       "<bound method IndexOpsMixin.value_counts of 0        D\n",
       "1        F\n",
       "2        A\n",
       "3        B\n",
       "4        C\n",
       "        ..\n",
       "10994    A\n",
       "10995    B\n",
       "10996    C\n",
       "10997    F\n",
       "10998    D\n",
       "Name: Warehouse_block, Length: 10999, dtype: object>"
      ]
     },
     "execution_count": 32,
     "metadata": {},
     "output_type": "execute_result"
    }
   ],
   "source": [
    "df['Warehouse_block'].value_counts"
   ]
  },
  {
   "cell_type": "markdown",
   "id": "cd10bc68",
   "metadata": {},
   "source": []
  },
  {
   "cell_type": "markdown",
   "id": "7b545baf",
   "metadata": {},
   "source": [
    "# Importing the Label Encoder \n",
    "\n",
    "It Normalize the labels. "
   ]
  },
  {
   "cell_type": "code",
   "execution_count": 33,
   "id": "7833f3b0",
   "metadata": {},
   "outputs": [],
   "source": [
    "from sklearn.preprocessing import LabelEncoder"
   ]
  },
  {
   "cell_type": "code",
   "execution_count": 34,
   "id": "78c8c516",
   "metadata": {},
   "outputs": [],
   "source": [
    "le=LabelEncoder()"
   ]
  },
  {
   "cell_type": "code",
   "execution_count": 35,
   "id": "c8b267dc",
   "metadata": {},
   "outputs": [],
   "source": [
    "df.drop(['ID'],axis=1,inplace=True)"
   ]
  },
  {
   "cell_type": "code",
   "execution_count": 36,
   "id": "3c1a9e4b",
   "metadata": {},
   "outputs": [
    {
     "data": {
      "text/plain": [
       "Index(['Warehouse_block', 'Mode_of_Shipment', 'Customer_care_calls',\n",
       "       'Customer_rating', 'Cost_of_the_Product', 'Prior_purchases',\n",
       "       'Product_importance', 'Gender', 'Discount_offered', 'Weight_in_gms',\n",
       "       'Reached.on.Time_Y.N'],\n",
       "      dtype='object')"
      ]
     },
     "execution_count": 36,
     "metadata": {},
     "output_type": "execute_result"
    }
   ],
   "source": [
    "df.columns"
   ]
  },
  {
   "cell_type": "code",
   "execution_count": 37,
   "id": "e414d330",
   "metadata": {},
   "outputs": [],
   "source": [
    "df['Warehouse_block']=le.fit_transform(df['Warehouse_block'])\n",
    "df['Mode_of_Shipment']=le.fit_transform(df['Mode_of_Shipment'])\n",
    "df['Product_importance']=le.fit_transform(df['Product_importance'])\n",
    "df['Gender']=le.fit_transform(df['Gender'])"
   ]
  },
  {
   "cell_type": "markdown",
   "id": "c56e3342",
   "metadata": {},
   "source": [
    "# Correlation\n",
    "\n",
    "It is used to get the correlation of two variables or we can also say that it is used to find the pairwise correlation of all the columns in the data frame.\n",
    "\n",
    "It excludes the NA values.\n",
    "\n",
    "Correlation summarizes the strength and direction of the linear line association between two quantitative variables."
   ]
  },
  {
   "cell_type": "code",
   "execution_count": 38,
   "id": "d447c51c",
   "metadata": {},
   "outputs": [
    {
     "data": {
      "text/html": [
       "<div>\n",
       "<style scoped>\n",
       "    .dataframe tbody tr th:only-of-type {\n",
       "        vertical-align: middle;\n",
       "    }\n",
       "\n",
       "    .dataframe tbody tr th {\n",
       "        vertical-align: top;\n",
       "    }\n",
       "\n",
       "    .dataframe thead th {\n",
       "        text-align: right;\n",
       "    }\n",
       "</style>\n",
       "<table border=\"1\" class=\"dataframe\">\n",
       "  <thead>\n",
       "    <tr style=\"text-align: right;\">\n",
       "      <th></th>\n",
       "      <th>Warehouse_block</th>\n",
       "      <th>Mode_of_Shipment</th>\n",
       "      <th>Customer_care_calls</th>\n",
       "      <th>Customer_rating</th>\n",
       "      <th>Cost_of_the_Product</th>\n",
       "      <th>Prior_purchases</th>\n",
       "      <th>Product_importance</th>\n",
       "      <th>Gender</th>\n",
       "      <th>Discount_offered</th>\n",
       "      <th>Weight_in_gms</th>\n",
       "      <th>Reached.on.Time_Y.N</th>\n",
       "    </tr>\n",
       "  </thead>\n",
       "  <tbody>\n",
       "    <tr>\n",
       "      <th>Warehouse_block</th>\n",
       "      <td>1.000000</td>\n",
       "      <td>0.000617</td>\n",
       "      <td>0.014496</td>\n",
       "      <td>0.010169</td>\n",
       "      <td>-0.006679</td>\n",
       "      <td>-0.005262</td>\n",
       "      <td>0.004260</td>\n",
       "      <td>-0.003700</td>\n",
       "      <td>0.009569</td>\n",
       "      <td>0.004086</td>\n",
       "      <td>0.005214</td>\n",
       "    </tr>\n",
       "    <tr>\n",
       "      <th>Mode_of_Shipment</th>\n",
       "      <td>0.000617</td>\n",
       "      <td>1.000000</td>\n",
       "      <td>-0.020164</td>\n",
       "      <td>0.001679</td>\n",
       "      <td>0.006681</td>\n",
       "      <td>-0.001640</td>\n",
       "      <td>0.004911</td>\n",
       "      <td>-0.011288</td>\n",
       "      <td>0.009364</td>\n",
       "      <td>-0.000797</td>\n",
       "      <td>-0.000535</td>\n",
       "    </tr>\n",
       "    <tr>\n",
       "      <th>Customer_care_calls</th>\n",
       "      <td>0.014496</td>\n",
       "      <td>-0.020164</td>\n",
       "      <td>1.000000</td>\n",
       "      <td>0.012209</td>\n",
       "      <td>0.323182</td>\n",
       "      <td>0.180771</td>\n",
       "      <td>0.006273</td>\n",
       "      <td>0.002545</td>\n",
       "      <td>-0.130750</td>\n",
       "      <td>-0.276615</td>\n",
       "      <td>-0.067126</td>\n",
       "    </tr>\n",
       "    <tr>\n",
       "      <th>Customer_rating</th>\n",
       "      <td>0.010169</td>\n",
       "      <td>0.001679</td>\n",
       "      <td>0.012209</td>\n",
       "      <td>1.000000</td>\n",
       "      <td>0.009270</td>\n",
       "      <td>0.013179</td>\n",
       "      <td>0.003157</td>\n",
       "      <td>0.002775</td>\n",
       "      <td>-0.003124</td>\n",
       "      <td>-0.001897</td>\n",
       "      <td>0.013119</td>\n",
       "    </tr>\n",
       "    <tr>\n",
       "      <th>Cost_of_the_Product</th>\n",
       "      <td>-0.006679</td>\n",
       "      <td>0.006681</td>\n",
       "      <td>0.323182</td>\n",
       "      <td>0.009270</td>\n",
       "      <td>1.000000</td>\n",
       "      <td>0.123676</td>\n",
       "      <td>0.006366</td>\n",
       "      <td>0.019759</td>\n",
       "      <td>-0.138312</td>\n",
       "      <td>-0.132604</td>\n",
       "      <td>-0.073587</td>\n",
       "    </tr>\n",
       "    <tr>\n",
       "      <th>Prior_purchases</th>\n",
       "      <td>-0.005262</td>\n",
       "      <td>-0.001640</td>\n",
       "      <td>0.180771</td>\n",
       "      <td>0.013179</td>\n",
       "      <td>0.123676</td>\n",
       "      <td>1.000000</td>\n",
       "      <td>0.003662</td>\n",
       "      <td>-0.009395</td>\n",
       "      <td>-0.082769</td>\n",
       "      <td>-0.168213</td>\n",
       "      <td>-0.055515</td>\n",
       "    </tr>\n",
       "    <tr>\n",
       "      <th>Product_importance</th>\n",
       "      <td>0.004260</td>\n",
       "      <td>0.004911</td>\n",
       "      <td>0.006273</td>\n",
       "      <td>0.003157</td>\n",
       "      <td>0.006366</td>\n",
       "      <td>0.003662</td>\n",
       "      <td>1.000000</td>\n",
       "      <td>-0.009865</td>\n",
       "      <td>-0.006251</td>\n",
       "      <td>0.001652</td>\n",
       "      <td>-0.023483</td>\n",
       "    </tr>\n",
       "    <tr>\n",
       "      <th>Gender</th>\n",
       "      <td>-0.003700</td>\n",
       "      <td>-0.011288</td>\n",
       "      <td>0.002545</td>\n",
       "      <td>0.002775</td>\n",
       "      <td>0.019759</td>\n",
       "      <td>-0.009395</td>\n",
       "      <td>-0.009865</td>\n",
       "      <td>1.000000</td>\n",
       "      <td>-0.011777</td>\n",
       "      <td>0.003573</td>\n",
       "      <td>0.004689</td>\n",
       "    </tr>\n",
       "    <tr>\n",
       "      <th>Discount_offered</th>\n",
       "      <td>0.009569</td>\n",
       "      <td>0.009364</td>\n",
       "      <td>-0.130750</td>\n",
       "      <td>-0.003124</td>\n",
       "      <td>-0.138312</td>\n",
       "      <td>-0.082769</td>\n",
       "      <td>-0.006251</td>\n",
       "      <td>-0.011777</td>\n",
       "      <td>1.000000</td>\n",
       "      <td>-0.376067</td>\n",
       "      <td>0.397108</td>\n",
       "    </tr>\n",
       "    <tr>\n",
       "      <th>Weight_in_gms</th>\n",
       "      <td>0.004086</td>\n",
       "      <td>-0.000797</td>\n",
       "      <td>-0.276615</td>\n",
       "      <td>-0.001897</td>\n",
       "      <td>-0.132604</td>\n",
       "      <td>-0.168213</td>\n",
       "      <td>0.001652</td>\n",
       "      <td>0.003573</td>\n",
       "      <td>-0.376067</td>\n",
       "      <td>1.000000</td>\n",
       "      <td>-0.268793</td>\n",
       "    </tr>\n",
       "    <tr>\n",
       "      <th>Reached.on.Time_Y.N</th>\n",
       "      <td>0.005214</td>\n",
       "      <td>-0.000535</td>\n",
       "      <td>-0.067126</td>\n",
       "      <td>0.013119</td>\n",
       "      <td>-0.073587</td>\n",
       "      <td>-0.055515</td>\n",
       "      <td>-0.023483</td>\n",
       "      <td>0.004689</td>\n",
       "      <td>0.397108</td>\n",
       "      <td>-0.268793</td>\n",
       "      <td>1.000000</td>\n",
       "    </tr>\n",
       "  </tbody>\n",
       "</table>\n",
       "</div>"
      ],
      "text/plain": [
       "                     Warehouse_block  Mode_of_Shipment  Customer_care_calls  \\\n",
       "Warehouse_block             1.000000          0.000617             0.014496   \n",
       "Mode_of_Shipment            0.000617          1.000000            -0.020164   \n",
       "Customer_care_calls         0.014496         -0.020164             1.000000   \n",
       "Customer_rating             0.010169          0.001679             0.012209   \n",
       "Cost_of_the_Product        -0.006679          0.006681             0.323182   \n",
       "Prior_purchases            -0.005262         -0.001640             0.180771   \n",
       "Product_importance          0.004260          0.004911             0.006273   \n",
       "Gender                     -0.003700         -0.011288             0.002545   \n",
       "Discount_offered            0.009569          0.009364            -0.130750   \n",
       "Weight_in_gms               0.004086         -0.000797            -0.276615   \n",
       "Reached.on.Time_Y.N         0.005214         -0.000535            -0.067126   \n",
       "\n",
       "                     Customer_rating  Cost_of_the_Product  Prior_purchases  \\\n",
       "Warehouse_block             0.010169            -0.006679        -0.005262   \n",
       "Mode_of_Shipment            0.001679             0.006681        -0.001640   \n",
       "Customer_care_calls         0.012209             0.323182         0.180771   \n",
       "Customer_rating             1.000000             0.009270         0.013179   \n",
       "Cost_of_the_Product         0.009270             1.000000         0.123676   \n",
       "Prior_purchases             0.013179             0.123676         1.000000   \n",
       "Product_importance          0.003157             0.006366         0.003662   \n",
       "Gender                      0.002775             0.019759        -0.009395   \n",
       "Discount_offered           -0.003124            -0.138312        -0.082769   \n",
       "Weight_in_gms              -0.001897            -0.132604        -0.168213   \n",
       "Reached.on.Time_Y.N         0.013119            -0.073587        -0.055515   \n",
       "\n",
       "                     Product_importance    Gender  Discount_offered  \\\n",
       "Warehouse_block                0.004260 -0.003700          0.009569   \n",
       "Mode_of_Shipment               0.004911 -0.011288          0.009364   \n",
       "Customer_care_calls            0.006273  0.002545         -0.130750   \n",
       "Customer_rating                0.003157  0.002775         -0.003124   \n",
       "Cost_of_the_Product            0.006366  0.019759         -0.138312   \n",
       "Prior_purchases                0.003662 -0.009395         -0.082769   \n",
       "Product_importance             1.000000 -0.009865         -0.006251   \n",
       "Gender                        -0.009865  1.000000         -0.011777   \n",
       "Discount_offered              -0.006251 -0.011777          1.000000   \n",
       "Weight_in_gms                  0.001652  0.003573         -0.376067   \n",
       "Reached.on.Time_Y.N           -0.023483  0.004689          0.397108   \n",
       "\n",
       "                     Weight_in_gms  Reached.on.Time_Y.N  \n",
       "Warehouse_block           0.004086             0.005214  \n",
       "Mode_of_Shipment         -0.000797            -0.000535  \n",
       "Customer_care_calls      -0.276615            -0.067126  \n",
       "Customer_rating          -0.001897             0.013119  \n",
       "Cost_of_the_Product      -0.132604            -0.073587  \n",
       "Prior_purchases          -0.168213            -0.055515  \n",
       "Product_importance        0.001652            -0.023483  \n",
       "Gender                    0.003573             0.004689  \n",
       "Discount_offered         -0.376067             0.397108  \n",
       "Weight_in_gms             1.000000            -0.268793  \n",
       "Reached.on.Time_Y.N      -0.268793             1.000000  "
      ]
     },
     "execution_count": 38,
     "metadata": {},
     "output_type": "execute_result"
    }
   ],
   "source": [
    "corr=df.corr()\n",
    "corr"
   ]
  },
  {
   "cell_type": "markdown",
   "id": "5730aaea",
   "metadata": {},
   "source": [
    "In above correlation table we can see that the feature Cost of the product and feature Customer care calls has 0.323182 corr which is a positive correlation which means that the product cost plays an important role for customers.\n",
    "\n",
    "In feature Discount offered and feature cost of the product correlation is -0.138312 which is a negative correlation which means both features are opposite i.e moving is opposite directions."
   ]
  },
  {
   "cell_type": "code",
   "execution_count": 39,
   "id": "4e4d17f5",
   "metadata": {},
   "outputs": [
    {
     "data": {
      "text/html": [
       "<div>\n",
       "<style scoped>\n",
       "    .dataframe tbody tr th:only-of-type {\n",
       "        vertical-align: middle;\n",
       "    }\n",
       "\n",
       "    .dataframe tbody tr th {\n",
       "        vertical-align: top;\n",
       "    }\n",
       "\n",
       "    .dataframe thead th {\n",
       "        text-align: right;\n",
       "    }\n",
       "</style>\n",
       "<table border=\"1\" class=\"dataframe\">\n",
       "  <thead>\n",
       "    <tr style=\"text-align: right;\">\n",
       "      <th></th>\n",
       "      <th>Warehouse_block</th>\n",
       "      <th>Mode_of_Shipment</th>\n",
       "      <th>Customer_care_calls</th>\n",
       "      <th>Customer_rating</th>\n",
       "      <th>Cost_of_the_Product</th>\n",
       "      <th>Prior_purchases</th>\n",
       "      <th>Product_importance</th>\n",
       "      <th>Gender</th>\n",
       "      <th>Discount_offered</th>\n",
       "      <th>Weight_in_gms</th>\n",
       "      <th>Reached.on.Time_Y.N</th>\n",
       "    </tr>\n",
       "  </thead>\n",
       "  <tbody>\n",
       "    <tr>\n",
       "      <th>Warehouse_block</th>\n",
       "      <td>1.000000</td>\n",
       "      <td>0.000617</td>\n",
       "      <td>0.014496</td>\n",
       "      <td>0.010169</td>\n",
       "      <td>-0.006679</td>\n",
       "      <td>-0.005262</td>\n",
       "      <td>0.004260</td>\n",
       "      <td>-0.003700</td>\n",
       "      <td>0.009569</td>\n",
       "      <td>0.004086</td>\n",
       "      <td>0.005214</td>\n",
       "    </tr>\n",
       "    <tr>\n",
       "      <th>Mode_of_Shipment</th>\n",
       "      <td>0.000617</td>\n",
       "      <td>1.000000</td>\n",
       "      <td>-0.020164</td>\n",
       "      <td>0.001679</td>\n",
       "      <td>0.006681</td>\n",
       "      <td>-0.001640</td>\n",
       "      <td>0.004911</td>\n",
       "      <td>-0.011288</td>\n",
       "      <td>0.009364</td>\n",
       "      <td>-0.000797</td>\n",
       "      <td>-0.000535</td>\n",
       "    </tr>\n",
       "    <tr>\n",
       "      <th>Customer_care_calls</th>\n",
       "      <td>0.014496</td>\n",
       "      <td>-0.020164</td>\n",
       "      <td>1.000000</td>\n",
       "      <td>0.012209</td>\n",
       "      <td>0.323182</td>\n",
       "      <td>0.180771</td>\n",
       "      <td>0.006273</td>\n",
       "      <td>0.002545</td>\n",
       "      <td>-0.130750</td>\n",
       "      <td>-0.276615</td>\n",
       "      <td>-0.067126</td>\n",
       "    </tr>\n",
       "    <tr>\n",
       "      <th>Customer_rating</th>\n",
       "      <td>0.010169</td>\n",
       "      <td>0.001679</td>\n",
       "      <td>0.012209</td>\n",
       "      <td>1.000000</td>\n",
       "      <td>0.009270</td>\n",
       "      <td>0.013179</td>\n",
       "      <td>0.003157</td>\n",
       "      <td>0.002775</td>\n",
       "      <td>-0.003124</td>\n",
       "      <td>-0.001897</td>\n",
       "      <td>0.013119</td>\n",
       "    </tr>\n",
       "    <tr>\n",
       "      <th>Cost_of_the_Product</th>\n",
       "      <td>-0.006679</td>\n",
       "      <td>0.006681</td>\n",
       "      <td>0.323182</td>\n",
       "      <td>0.009270</td>\n",
       "      <td>1.000000</td>\n",
       "      <td>0.123676</td>\n",
       "      <td>0.006366</td>\n",
       "      <td>0.019759</td>\n",
       "      <td>-0.138312</td>\n",
       "      <td>-0.132604</td>\n",
       "      <td>-0.073587</td>\n",
       "    </tr>\n",
       "    <tr>\n",
       "      <th>Prior_purchases</th>\n",
       "      <td>-0.005262</td>\n",
       "      <td>-0.001640</td>\n",
       "      <td>0.180771</td>\n",
       "      <td>0.013179</td>\n",
       "      <td>0.123676</td>\n",
       "      <td>1.000000</td>\n",
       "      <td>0.003662</td>\n",
       "      <td>-0.009395</td>\n",
       "      <td>-0.082769</td>\n",
       "      <td>-0.168213</td>\n",
       "      <td>-0.055515</td>\n",
       "    </tr>\n",
       "    <tr>\n",
       "      <th>Product_importance</th>\n",
       "      <td>0.004260</td>\n",
       "      <td>0.004911</td>\n",
       "      <td>0.006273</td>\n",
       "      <td>0.003157</td>\n",
       "      <td>0.006366</td>\n",
       "      <td>0.003662</td>\n",
       "      <td>1.000000</td>\n",
       "      <td>-0.009865</td>\n",
       "      <td>-0.006251</td>\n",
       "      <td>0.001652</td>\n",
       "      <td>-0.023483</td>\n",
       "    </tr>\n",
       "    <tr>\n",
       "      <th>Gender</th>\n",
       "      <td>-0.003700</td>\n",
       "      <td>-0.011288</td>\n",
       "      <td>0.002545</td>\n",
       "      <td>0.002775</td>\n",
       "      <td>0.019759</td>\n",
       "      <td>-0.009395</td>\n",
       "      <td>-0.009865</td>\n",
       "      <td>1.000000</td>\n",
       "      <td>-0.011777</td>\n",
       "      <td>0.003573</td>\n",
       "      <td>0.004689</td>\n",
       "    </tr>\n",
       "    <tr>\n",
       "      <th>Discount_offered</th>\n",
       "      <td>0.009569</td>\n",
       "      <td>0.009364</td>\n",
       "      <td>-0.130750</td>\n",
       "      <td>-0.003124</td>\n",
       "      <td>-0.138312</td>\n",
       "      <td>-0.082769</td>\n",
       "      <td>-0.006251</td>\n",
       "      <td>-0.011777</td>\n",
       "      <td>1.000000</td>\n",
       "      <td>-0.376067</td>\n",
       "      <td>0.397108</td>\n",
       "    </tr>\n",
       "    <tr>\n",
       "      <th>Weight_in_gms</th>\n",
       "      <td>0.004086</td>\n",
       "      <td>-0.000797</td>\n",
       "      <td>-0.276615</td>\n",
       "      <td>-0.001897</td>\n",
       "      <td>-0.132604</td>\n",
       "      <td>-0.168213</td>\n",
       "      <td>0.001652</td>\n",
       "      <td>0.003573</td>\n",
       "      <td>-0.376067</td>\n",
       "      <td>1.000000</td>\n",
       "      <td>-0.268793</td>\n",
       "    </tr>\n",
       "    <tr>\n",
       "      <th>Reached.on.Time_Y.N</th>\n",
       "      <td>0.005214</td>\n",
       "      <td>-0.000535</td>\n",
       "      <td>-0.067126</td>\n",
       "      <td>0.013119</td>\n",
       "      <td>-0.073587</td>\n",
       "      <td>-0.055515</td>\n",
       "      <td>-0.023483</td>\n",
       "      <td>0.004689</td>\n",
       "      <td>0.397108</td>\n",
       "      <td>-0.268793</td>\n",
       "      <td>1.000000</td>\n",
       "    </tr>\n",
       "  </tbody>\n",
       "</table>\n",
       "</div>"
      ],
      "text/plain": [
       "                     Warehouse_block  Mode_of_Shipment  Customer_care_calls  \\\n",
       "Warehouse_block             1.000000          0.000617             0.014496   \n",
       "Mode_of_Shipment            0.000617          1.000000            -0.020164   \n",
       "Customer_care_calls         0.014496         -0.020164             1.000000   \n",
       "Customer_rating             0.010169          0.001679             0.012209   \n",
       "Cost_of_the_Product        -0.006679          0.006681             0.323182   \n",
       "Prior_purchases            -0.005262         -0.001640             0.180771   \n",
       "Product_importance          0.004260          0.004911             0.006273   \n",
       "Gender                     -0.003700         -0.011288             0.002545   \n",
       "Discount_offered            0.009569          0.009364            -0.130750   \n",
       "Weight_in_gms               0.004086         -0.000797            -0.276615   \n",
       "Reached.on.Time_Y.N         0.005214         -0.000535            -0.067126   \n",
       "\n",
       "                     Customer_rating  Cost_of_the_Product  Prior_purchases  \\\n",
       "Warehouse_block             0.010169            -0.006679        -0.005262   \n",
       "Mode_of_Shipment            0.001679             0.006681        -0.001640   \n",
       "Customer_care_calls         0.012209             0.323182         0.180771   \n",
       "Customer_rating             1.000000             0.009270         0.013179   \n",
       "Cost_of_the_Product         0.009270             1.000000         0.123676   \n",
       "Prior_purchases             0.013179             0.123676         1.000000   \n",
       "Product_importance          0.003157             0.006366         0.003662   \n",
       "Gender                      0.002775             0.019759        -0.009395   \n",
       "Discount_offered           -0.003124            -0.138312        -0.082769   \n",
       "Weight_in_gms              -0.001897            -0.132604        -0.168213   \n",
       "Reached.on.Time_Y.N         0.013119            -0.073587        -0.055515   \n",
       "\n",
       "                     Product_importance    Gender  Discount_offered  \\\n",
       "Warehouse_block                0.004260 -0.003700          0.009569   \n",
       "Mode_of_Shipment               0.004911 -0.011288          0.009364   \n",
       "Customer_care_calls            0.006273  0.002545         -0.130750   \n",
       "Customer_rating                0.003157  0.002775         -0.003124   \n",
       "Cost_of_the_Product            0.006366  0.019759         -0.138312   \n",
       "Prior_purchases                0.003662 -0.009395         -0.082769   \n",
       "Product_importance             1.000000 -0.009865         -0.006251   \n",
       "Gender                        -0.009865  1.000000         -0.011777   \n",
       "Discount_offered              -0.006251 -0.011777          1.000000   \n",
       "Weight_in_gms                  0.001652  0.003573         -0.376067   \n",
       "Reached.on.Time_Y.N           -0.023483  0.004689          0.397108   \n",
       "\n",
       "                     Weight_in_gms  Reached.on.Time_Y.N  \n",
       "Warehouse_block           0.004086             0.005214  \n",
       "Mode_of_Shipment         -0.000797            -0.000535  \n",
       "Customer_care_calls      -0.276615            -0.067126  \n",
       "Customer_rating          -0.001897             0.013119  \n",
       "Cost_of_the_Product      -0.132604            -0.073587  \n",
       "Prior_purchases          -0.168213            -0.055515  \n",
       "Product_importance        0.001652            -0.023483  \n",
       "Gender                    0.003573             0.004689  \n",
       "Discount_offered         -0.376067             0.397108  \n",
       "Weight_in_gms             1.000000            -0.268793  \n",
       "Reached.on.Time_Y.N      -0.268793             1.000000  "
      ]
     },
     "execution_count": 39,
     "metadata": {},
     "output_type": "execute_result"
    }
   ],
   "source": [
    "corr=df.corr()\n",
    "corr"
   ]
  },
  {
   "cell_type": "markdown",
   "id": "739761ed",
   "metadata": {},
   "source": [
    "# Skewness"
   ]
  },
  {
   "cell_type": "markdown",
   "id": "34125c63",
   "metadata": {},
   "source": [
    "Skewness is asymmetry in a statistical distribution, in which the curve appears distorted or skewed either to the left or to the right"
   ]
  },
  {
   "cell_type": "code",
   "execution_count": 40,
   "id": "4c57de64",
   "metadata": {},
   "outputs": [
    {
     "data": {
      "text/plain": [
       "Warehouse_block       -0.279666\n",
       "Mode_of_Shipment      -1.175214\n",
       "Customer_care_calls    0.391926\n",
       "Customer_rating        0.004360\n",
       "Cost_of_the_Product   -0.157117\n",
       "Prior_purchases        1.681897\n",
       "Product_importance    -0.434112\n",
       "Gender                 0.016550\n",
       "Discount_offered       1.798929\n",
       "Weight_in_gms         -0.249747\n",
       "Reached.on.Time_Y.N   -0.394257\n",
       "dtype: float64"
      ]
     },
     "execution_count": 40,
     "metadata": {},
     "output_type": "execute_result"
    }
   ],
   "source": [
    "sk=df.skew()\n",
    "sk"
   ]
  },
  {
   "cell_type": "markdown",
   "id": "73073ab1",
   "metadata": {},
   "source": [
    "In above skewness table we can see that the Discount offerred has 1.798929 skewness and it has skewed towards right which means that the outliers of the distribution curve are out towards the right and it is closed to mean of the left\n",
    "\n",
    "In below diagram we can see that the Discount offered has right tail."
   ]
  },
  {
   "cell_type": "code",
   "execution_count": 41,
   "id": "e5b77313",
   "metadata": {},
   "outputs": [
    {
     "data": {
      "text/plain": [
       "Text(0.5, 1.0, 'Distribution plot of Discount')"
      ]
     },
     "execution_count": 41,
     "metadata": {},
     "output_type": "execute_result"
    },
    {
     "data": {
      "image/png": "[encoded data removed]",
      "text/plain": [
       "<Figure size 432x288 with 1 Axes>"
      ]
     },
     "metadata": {
      "needs_background": "light"
     },
     "output_type": "display_data"
    }
   ],
   "source": [
    "sns.distplot(df.Discount_offered)\n",
    "plt.title('Distribution plot of Discount')"
   ]
  },
  {
   "cell_type": "markdown",
   "id": "561b79ac",
   "metadata": {},
   "source": [
    "# Performing the Bivariate Analysis \n",
    " #Importing the matplot libbraray and seaborn library to check the data "
   ]
  },
  {
   "cell_type": "code",
   "execution_count": 42,
   "id": "4c71f391",
   "metadata": {},
   "outputs": [],
   "source": [
    "import matplotlib.pyplot as plt \n",
    "import seaborn as sns"
   ]
  },
  {
   "cell_type": "code",
   "execution_count": 43,
   "id": "698c166e",
   "metadata": {},
   "outputs": [
    {
     "data": {
      "image/png": "[encoded data removed]",
      "text/plain": [
       "<Figure size 1152x648 with 2 Axes>"
      ]
     },
     "metadata": {
      "needs_background": "light"
     },
     "output_type": "display_data"
    }
   ],
   "source": [
    "plt.figure(figsize=(16,9))\n",
    "sns.heatmap(corr,vmax=1.0,vmin=-1.0,annot=True, cmap='viridis',fmt='g')\n",
    "plt.title('Correlation of e-commerce', fontsize=(10))\n",
    "plt.show()"
   ]
  },
  {
   "cell_type": "code",
   "execution_count": 44,
   "id": "2d73cd89",
   "metadata": {},
   "outputs": [
    {
     "data": {
      "text/plain": [
       "Warehouse_block       -0.279666\n",
       "Mode_of_Shipment      -1.175214\n",
       "Customer_care_calls    0.391926\n",
       "Customer_rating        0.004360\n",
       "Cost_of_the_Product   -0.157117\n",
       "Prior_purchases        1.681897\n",
       "Product_importance    -0.434112\n",
       "Gender                 0.016550\n",
       "Discount_offered       1.798929\n",
       "Weight_in_gms         -0.249747\n",
       "Reached.on.Time_Y.N   -0.394257\n",
       "dtype: float64"
      ]
     },
     "execution_count": 44,
     "metadata": {},
     "output_type": "execute_result"
    }
   ],
   "source": [
    "sk=df.skew()\n",
    "sk"
   ]
  },
  {
   "cell_type": "markdown",
   "id": "9734cacb",
   "metadata": {},
   "source": [
    "In above figure ,I have performend the Bivariate Analysis and checked the data with the help of Matplotlib and seaborn and accordingly it shows us the two dimensional plots from the data .\n",
    "\n",
    "In above figure we can see that correlation between the Reached_on_Time and Mode_of_shipment is 0.0053. In this case the product delivery is depend upon the mode of shipment, \n",
    "\n",
    "So if we improve the shipment mode the product delivery will be on time."
   ]
  },
  {
   "cell_type": "code",
   "execution_count": 45,
   "id": "3665c411",
   "metadata": {},
   "outputs": [
    {
     "data": {
      "text/html": [
       "<div>\n",
       "<style scoped>\n",
       "    .dataframe tbody tr th:only-of-type {\n",
       "        vertical-align: middle;\n",
       "    }\n",
       "\n",
       "    .dataframe tbody tr th {\n",
       "        vertical-align: top;\n",
       "    }\n",
       "\n",
       "    .dataframe thead th {\n",
       "        text-align: right;\n",
       "    }\n",
       "</style>\n",
       "<table border=\"1\" class=\"dataframe\">\n",
       "  <thead>\n",
       "    <tr style=\"text-align: right;\">\n",
       "      <th></th>\n",
       "      <th>Warehouse_block</th>\n",
       "      <th>Mode_of_Shipment</th>\n",
       "      <th>Customer_care_calls</th>\n",
       "      <th>Customer_rating</th>\n",
       "      <th>Cost_of_the_Product</th>\n",
       "      <th>Prior_purchases</th>\n",
       "      <th>Product_importance</th>\n",
       "      <th>Gender</th>\n",
       "      <th>Discount_offered</th>\n",
       "      <th>Weight_in_gms</th>\n",
       "      <th>Reached.on.Time_Y.N</th>\n",
       "    </tr>\n",
       "  </thead>\n",
       "  <tbody>\n",
       "    <tr>\n",
       "      <th>Warehouse_block</th>\n",
       "      <td>1.000000</td>\n",
       "      <td>0.000617</td>\n",
       "      <td>0.014496</td>\n",
       "      <td>0.010169</td>\n",
       "      <td>-0.006679</td>\n",
       "      <td>-0.005262</td>\n",
       "      <td>0.004260</td>\n",
       "      <td>-0.003700</td>\n",
       "      <td>0.009569</td>\n",
       "      <td>0.004086</td>\n",
       "      <td>0.005214</td>\n",
       "    </tr>\n",
       "    <tr>\n",
       "      <th>Mode_of_Shipment</th>\n",
       "      <td>0.000617</td>\n",
       "      <td>1.000000</td>\n",
       "      <td>-0.020164</td>\n",
       "      <td>0.001679</td>\n",
       "      <td>0.006681</td>\n",
       "      <td>-0.001640</td>\n",
       "      <td>0.004911</td>\n",
       "      <td>-0.011288</td>\n",
       "      <td>0.009364</td>\n",
       "      <td>-0.000797</td>\n",
       "      <td>-0.000535</td>\n",
       "    </tr>\n",
       "    <tr>\n",
       "      <th>Customer_care_calls</th>\n",
       "      <td>0.014496</td>\n",
       "      <td>-0.020164</td>\n",
       "      <td>1.000000</td>\n",
       "      <td>0.012209</td>\n",
       "      <td>0.323182</td>\n",
       "      <td>0.180771</td>\n",
       "      <td>0.006273</td>\n",
       "      <td>0.002545</td>\n",
       "      <td>-0.130750</td>\n",
       "      <td>-0.276615</td>\n",
       "      <td>-0.067126</td>\n",
       "    </tr>\n",
       "    <tr>\n",
       "      <th>Customer_rating</th>\n",
       "      <td>0.010169</td>\n",
       "      <td>0.001679</td>\n",
       "      <td>0.012209</td>\n",
       "      <td>1.000000</td>\n",
       "      <td>0.009270</td>\n",
       "      <td>0.013179</td>\n",
       "      <td>0.003157</td>\n",
       "      <td>0.002775</td>\n",
       "      <td>-0.003124</td>\n",
       "      <td>-0.001897</td>\n",
       "      <td>0.013119</td>\n",
       "    </tr>\n",
       "    <tr>\n",
       "      <th>Cost_of_the_Product</th>\n",
       "      <td>-0.006679</td>\n",
       "      <td>0.006681</td>\n",
       "      <td>0.323182</td>\n",
       "      <td>0.009270</td>\n",
       "      <td>1.000000</td>\n",
       "      <td>0.123676</td>\n",
       "      <td>0.006366</td>\n",
       "      <td>0.019759</td>\n",
       "      <td>-0.138312</td>\n",
       "      <td>-0.132604</td>\n",
       "      <td>-0.073587</td>\n",
       "    </tr>\n",
       "    <tr>\n",
       "      <th>Prior_purchases</th>\n",
       "      <td>-0.005262</td>\n",
       "      <td>-0.001640</td>\n",
       "      <td>0.180771</td>\n",
       "      <td>0.013179</td>\n",
       "      <td>0.123676</td>\n",
       "      <td>1.000000</td>\n",
       "      <td>0.003662</td>\n",
       "      <td>-0.009395</td>\n",
       "      <td>-0.082769</td>\n",
       "      <td>-0.168213</td>\n",
       "      <td>-0.055515</td>\n",
       "    </tr>\n",
       "    <tr>\n",
       "      <th>Product_importance</th>\n",
       "      <td>0.004260</td>\n",
       "      <td>0.004911</td>\n",
       "      <td>0.006273</td>\n",
       "      <td>0.003157</td>\n",
       "      <td>0.006366</td>\n",
       "      <td>0.003662</td>\n",
       "      <td>1.000000</td>\n",
       "      <td>-0.009865</td>\n",
       "      <td>-0.006251</td>\n",
       "      <td>0.001652</td>\n",
       "      <td>-0.023483</td>\n",
       "    </tr>\n",
       "    <tr>\n",
       "      <th>Gender</th>\n",
       "      <td>-0.003700</td>\n",
       "      <td>-0.011288</td>\n",
       "      <td>0.002545</td>\n",
       "      <td>0.002775</td>\n",
       "      <td>0.019759</td>\n",
       "      <td>-0.009395</td>\n",
       "      <td>-0.009865</td>\n",
       "      <td>1.000000</td>\n",
       "      <td>-0.011777</td>\n",
       "      <td>0.003573</td>\n",
       "      <td>0.004689</td>\n",
       "    </tr>\n",
       "    <tr>\n",
       "      <th>Discount_offered</th>\n",
       "      <td>0.009569</td>\n",
       "      <td>0.009364</td>\n",
       "      <td>-0.130750</td>\n",
       "      <td>-0.003124</td>\n",
       "      <td>-0.138312</td>\n",
       "      <td>-0.082769</td>\n",
       "      <td>-0.006251</td>\n",
       "      <td>-0.011777</td>\n",
       "      <td>1.000000</td>\n",
       "      <td>-0.376067</td>\n",
       "      <td>0.397108</td>\n",
       "    </tr>\n",
       "    <tr>\n",
       "      <th>Weight_in_gms</th>\n",
       "      <td>0.004086</td>\n",
       "      <td>-0.000797</td>\n",
       "      <td>-0.276615</td>\n",
       "      <td>-0.001897</td>\n",
       "      <td>-0.132604</td>\n",
       "      <td>-0.168213</td>\n",
       "      <td>0.001652</td>\n",
       "      <td>0.003573</td>\n",
       "      <td>-0.376067</td>\n",
       "      <td>1.000000</td>\n",
       "      <td>-0.268793</td>\n",
       "    </tr>\n",
       "    <tr>\n",
       "      <th>Reached.on.Time_Y.N</th>\n",
       "      <td>0.005214</td>\n",
       "      <td>-0.000535</td>\n",
       "      <td>-0.067126</td>\n",
       "      <td>0.013119</td>\n",
       "      <td>-0.073587</td>\n",
       "      <td>-0.055515</td>\n",
       "      <td>-0.023483</td>\n",
       "      <td>0.004689</td>\n",
       "      <td>0.397108</td>\n",
       "      <td>-0.268793</td>\n",
       "      <td>1.000000</td>\n",
       "    </tr>\n",
       "  </tbody>\n",
       "</table>\n",
       "</div>"
      ],
      "text/plain": [
       "                     Warehouse_block  Mode_of_Shipment  Customer_care_calls  \\\n",
       "Warehouse_block             1.000000          0.000617             0.014496   \n",
       "Mode_of_Shipment            0.000617          1.000000            -0.020164   \n",
       "Customer_care_calls         0.014496         -0.020164             1.000000   \n",
       "Customer_rating             0.010169          0.001679             0.012209   \n",
       "Cost_of_the_Product        -0.006679          0.006681             0.323182   \n",
       "Prior_purchases            -0.005262         -0.001640             0.180771   \n",
       "Product_importance          0.004260          0.004911             0.006273   \n",
       "Gender                     -0.003700         -0.011288             0.002545   \n",
       "Discount_offered            0.009569          0.009364            -0.130750   \n",
       "Weight_in_gms               0.004086         -0.000797            -0.276615   \n",
       "Reached.on.Time_Y.N         0.005214         -0.000535            -0.067126   \n",
       "\n",
       "                     Customer_rating  Cost_of_the_Product  Prior_purchases  \\\n",
       "Warehouse_block             0.010169            -0.006679        -0.005262   \n",
       "Mode_of_Shipment            0.001679             0.006681        -0.001640   \n",
       "Customer_care_calls         0.012209             0.323182         0.180771   \n",
       "Customer_rating             1.000000             0.009270         0.013179   \n",
       "Cost_of_the_Product         0.009270             1.000000         0.123676   \n",
       "Prior_purchases             0.013179             0.123676         1.000000   \n",
       "Product_importance          0.003157             0.006366         0.003662   \n",
       "Gender                      0.002775             0.019759        -0.009395   \n",
       "Discount_offered           -0.003124            -0.138312        -0.082769   \n",
       "Weight_in_gms              -0.001897            -0.132604        -0.168213   \n",
       "Reached.on.Time_Y.N         0.013119            -0.073587        -0.055515   \n",
       "\n",
       "                     Product_importance    Gender  Discount_offered  \\\n",
       "Warehouse_block                0.004260 -0.003700          0.009569   \n",
       "Mode_of_Shipment               0.004911 -0.011288          0.009364   \n",
       "Customer_care_calls            0.006273  0.002545         -0.130750   \n",
       "Customer_rating                0.003157  0.002775         -0.003124   \n",
       "Cost_of_the_Product            0.006366  0.019759         -0.138312   \n",
       "Prior_purchases                0.003662 -0.009395         -0.082769   \n",
       "Product_importance             1.000000 -0.009865         -0.006251   \n",
       "Gender                        -0.009865  1.000000         -0.011777   \n",
       "Discount_offered              -0.006251 -0.011777          1.000000   \n",
       "Weight_in_gms                  0.001652  0.003573         -0.376067   \n",
       "Reached.on.Time_Y.N           -0.023483  0.004689          0.397108   \n",
       "\n",
       "                     Weight_in_gms  Reached.on.Time_Y.N  \n",
       "Warehouse_block           0.004086             0.005214  \n",
       "Mode_of_Shipment         -0.000797            -0.000535  \n",
       "Customer_care_calls      -0.276615            -0.067126  \n",
       "Customer_rating          -0.001897             0.013119  \n",
       "Cost_of_the_Product      -0.132604            -0.073587  \n",
       "Prior_purchases          -0.168213            -0.055515  \n",
       "Product_importance        0.001652            -0.023483  \n",
       "Gender                    0.003573             0.004689  \n",
       "Discount_offered         -0.376067             0.397108  \n",
       "Weight_in_gms             1.000000            -0.268793  \n",
       "Reached.on.Time_Y.N      -0.268793             1.000000  "
      ]
     },
     "execution_count": 45,
     "metadata": {},
     "output_type": "execute_result"
    }
   ],
   "source": [
    "b=df.corr()\n",
    "b"
   ]
  },
  {
   "cell_type": "code",
   "execution_count": 46,
   "id": "9dbff04f",
   "metadata": {},
   "outputs": [
    {
     "data": {
      "text/html": [
       "<div>\n",
       "<style scoped>\n",
       "    .dataframe tbody tr th:only-of-type {\n",
       "        vertical-align: middle;\n",
       "    }\n",
       "\n",
       "    .dataframe tbody tr th {\n",
       "        vertical-align: top;\n",
       "    }\n",
       "\n",
       "    .dataframe thead th {\n",
       "        text-align: right;\n",
       "    }\n",
       "</style>\n",
       "<table border=\"1\" class=\"dataframe\">\n",
       "  <thead>\n",
       "    <tr style=\"text-align: right;\">\n",
       "      <th></th>\n",
       "      <th>Reached.on.Time_Y.N</th>\n",
       "    </tr>\n",
       "  </thead>\n",
       "  <tbody>\n",
       "    <tr>\n",
       "      <th>Warehouse_block</th>\n",
       "      <td>0.005214</td>\n",
       "    </tr>\n",
       "    <tr>\n",
       "      <th>Mode_of_Shipment</th>\n",
       "      <td>-0.000535</td>\n",
       "    </tr>\n",
       "    <tr>\n",
       "      <th>Customer_care_calls</th>\n",
       "      <td>-0.067126</td>\n",
       "    </tr>\n",
       "    <tr>\n",
       "      <th>Customer_rating</th>\n",
       "      <td>0.013119</td>\n",
       "    </tr>\n",
       "    <tr>\n",
       "      <th>Cost_of_the_Product</th>\n",
       "      <td>-0.073587</td>\n",
       "    </tr>\n",
       "    <tr>\n",
       "      <th>Prior_purchases</th>\n",
       "      <td>-0.055515</td>\n",
       "    </tr>\n",
       "    <tr>\n",
       "      <th>Product_importance</th>\n",
       "      <td>-0.023483</td>\n",
       "    </tr>\n",
       "    <tr>\n",
       "      <th>Gender</th>\n",
       "      <td>0.004689</td>\n",
       "    </tr>\n",
       "    <tr>\n",
       "      <th>Discount_offered</th>\n",
       "      <td>0.397108</td>\n",
       "    </tr>\n",
       "    <tr>\n",
       "      <th>Weight_in_gms</th>\n",
       "      <td>-0.268793</td>\n",
       "    </tr>\n",
       "    <tr>\n",
       "      <th>Reached.on.Time_Y.N</th>\n",
       "      <td>1.000000</td>\n",
       "    </tr>\n",
       "  </tbody>\n",
       "</table>\n",
       "</div>"
      ],
      "text/plain": [
       "                     Reached.on.Time_Y.N\n",
       "Warehouse_block                 0.005214\n",
       "Mode_of_Shipment               -0.000535\n",
       "Customer_care_calls            -0.067126\n",
       "Customer_rating                 0.013119\n",
       "Cost_of_the_Product            -0.073587\n",
       "Prior_purchases                -0.055515\n",
       "Product_importance             -0.023483\n",
       "Gender                          0.004689\n",
       "Discount_offered                0.397108\n",
       "Weight_in_gms                  -0.268793\n",
       "Reached.on.Time_Y.N             1.000000"
      ]
     },
     "execution_count": 46,
     "metadata": {},
     "output_type": "execute_result"
    }
   ],
   "source": [
    "a=b[['Reached.on.Time_Y.N']]\n",
    "a"
   ]
  },
  {
   "cell_type": "code",
   "execution_count": 47,
   "id": "2fd7a6fa",
   "metadata": {},
   "outputs": [
    {
     "data": {
      "image/png": "[encoded data removed]",
      "text/plain": [
       "<Figure size 720x360 with 2 Axes>"
      ]
     },
     "metadata": {
      "needs_background": "light"
     },
     "output_type": "display_data"
    }
   ],
   "source": [
    "plt.figure(figsize=(10,5))\n",
    "sns.heatmap(a,cmap='BuPu',vmax=1.0,vmin=-1.0,fmt='g',annot=True)\n",
    "plt.title('Delivery_Status',fontsize=20)\n",
    "plt.show()"
   ]
  },
  {
   "cell_type": "code",
   "execution_count": 48,
   "id": "14bd05cc",
   "metadata": {},
   "outputs": [
    {
     "data": {
      "text/plain": [
       "<AxesSubplot:>"
      ]
     },
     "execution_count": 48,
     "metadata": {},
     "output_type": "execute_result"
    },
    {
     "data": {
      "image/png": "[encoded data removed]",
      "text/plain": [
       "<Figure size 432x288 with 1 Axes>"
      ]
     },
     "metadata": {
      "needs_background": "light"
     },
     "output_type": "display_data"
    }
   ],
   "source": [
    "df['Reached.on.Time_Y.N'].value_counts().plot(kind='bar',color='r')"
   ]
  },
  {
   "cell_type": "code",
   "execution_count": 49,
   "id": "8ac2b33c",
   "metadata": {},
   "outputs": [
    {
     "data": {
      "text/plain": [
       "<AxesSubplot:>"
      ]
     },
     "execution_count": 49,
     "metadata": {},
     "output_type": "execute_result"
    },
    {
     "data": {
      "image/png": "[encoded data removed]",
      "text/plain": [
       "<Figure size 432x288 with 1 Axes>"
      ]
     },
     "metadata": {
      "needs_background": "light"
     },
     "output_type": "display_data"
    }
   ],
   "source": [
    "df['Warehouse_block'].value_counts().plot(kind='bar',color='g')"
   ]
  },
  {
   "cell_type": "markdown",
   "id": "a0e289b1",
   "metadata": {},
   "source": [
    "# Performing the Univariate Analysis "
   ]
  },
  {
   "cell_type": "code",
   "execution_count": 50,
   "id": "67d6d13a",
   "metadata": {},
   "outputs": [
    {
     "data": {
      "text/plain": [
       "Text(0.5, 1.0, 'Distribution plot of Discount')"
      ]
     },
     "execution_count": 50,
     "metadata": {},
     "output_type": "execute_result"
    },
    {
     "data": {
      "image/png": "[encoded data removed]",
      "text/plain": [
       "<Figure size 432x288 with 1 Axes>"
      ]
     },
     "metadata": {
      "needs_background": "light"
     },
     "output_type": "display_data"
    }
   ],
   "source": [
    "sns.distplot(df.Discount_offered)\n",
    "plt.title('Distribution plot of Discount')"
   ]
  },
  {
   "cell_type": "markdown",
   "id": "5fc29197",
   "metadata": {},
   "source": [
    "In this Distribution plot of Discount we can see that it has right skewed tail and the maximum range is 20% over the product"
   ]
  },
  {
   "cell_type": "code",
   "execution_count": 51,
   "id": "f74c829c",
   "metadata": {},
   "outputs": [
    {
     "data": {
      "text/plain": [
       "Text(0.5, 1.0, 'Distribution plot of Shipment')"
      ]
     },
     "execution_count": 51,
     "metadata": {},
     "output_type": "execute_result"
    },
    {
     "data": {
      "image/png": "[encoded data removed]",
      "text/plain": [
       "<Figure size 432x288 with 1 Axes>"
      ]
     },
     "metadata": {
      "needs_background": "light"
     },
     "output_type": "display_data"
    }
   ],
   "source": [
    "sns.distplot(df.Mode_of_Shipment)\n",
    "plt.title('Distribution plot of Shipment')"
   ]
  },
  {
   "cell_type": "code",
   "execution_count": 52,
   "id": "2a0240ba",
   "metadata": {},
   "outputs": [
    {
     "data": {
      "text/plain": [
       "Text(0.5, 1.0, 'Boxplot of Discount')"
      ]
     },
     "execution_count": 52,
     "metadata": {},
     "output_type": "execute_result"
    },
    {
     "data": {
      "image/png": "[encoded data removed]",
      "text/plain": [
       "<Figure size 432x288 with 1 Axes>"
      ]
     },
     "metadata": {
      "needs_background": "light"
     },
     "output_type": "display_data"
    }
   ],
   "source": [
    "sns.boxplot(df.Discount_offered)\n",
    "plt.title('Boxplot of Discount')"
   ]
  },
  {
   "cell_type": "markdown",
   "id": "cbd9738f",
   "metadata": {},
   "source": [
    "In above box plot graph of discount says that the maximum discount offered on the product is 20% . But there are outliers which are affecting the feature discount."
   ]
  },
  {
   "cell_type": "code",
   "execution_count": 53,
   "id": "168b9adc",
   "metadata": {},
   "outputs": [
    {
     "data": {
      "text/plain": [
       "Text(0.5, 1.0, 'boxplot of Shipment')"
      ]
     },
     "execution_count": 53,
     "metadata": {},
     "output_type": "execute_result"
    },
    {
     "data": {
      "image/png": "[encoded data removed]",
      "text/plain": [
       "<Figure size 432x288 with 1 Axes>"
      ]
     },
     "metadata": {
      "needs_background": "light"
     },
     "output_type": "display_data"
    }
   ],
   "source": [
    "sns.boxplot(df.Mode_of_Shipment)\n",
    "plt.title('boxplot of Shipment')"
   ]
  },
  {
   "cell_type": "code",
   "execution_count": 54,
   "id": "a9c53443",
   "metadata": {},
   "outputs": [
    {
     "data": {
      "text/plain": [
       "Text(0.5, 1.0, 'Boxplot of Cost')"
      ]
     },
     "execution_count": 54,
     "metadata": {},
     "output_type": "execute_result"
    },
    {
     "data": {
      "image/png": "[encoded data removed]",
      "text/plain": [
       "<Figure size 432x288 with 1 Axes>"
      ]
     },
     "metadata": {
      "needs_background": "light"
     },
     "output_type": "display_data"
    }
   ],
   "source": [
    "sns.boxplot(df.Cost_of_the_Product)\n",
    "plt.title('Boxplot of Cost')"
   ]
  },
  {
   "cell_type": "markdown",
   "id": "5a6fcfc4",
   "metadata": {},
   "source": [
    "In the Above Box Plot we can see that the median of cost of the product lies in between 200 to 250 assuming at 220, and \n",
    "the 25% of the cost of the product lies in between 150 to 200\n",
    "the 75% of the cost of the product lies at 250.\n",
    "\n",
    "So keeping all the measures we can say that the cost of the product mostly lies between 150 to 250."
   ]
  },
  {
   "cell_type": "code",
   "execution_count": 55,
   "id": "80bc6925",
   "metadata": {},
   "outputs": [
    {
     "data": {
      "text/plain": [
       "<AxesSubplot:>"
      ]
     },
     "execution_count": 55,
     "metadata": {},
     "output_type": "execute_result"
    },
    {
     "data": {
      "image/png": "[encoded data removed]",
      "text/plain": [
       "<Figure size 432x288 with 1 Axes>"
      ]
     },
     "metadata": {
      "needs_background": "light"
     },
     "output_type": "display_data"
    }
   ],
   "source": [
    "df['Cost_of_the_Product'].plot.box()"
   ]
  },
  {
   "cell_type": "code",
   "execution_count": 56,
   "id": "5cea5576",
   "metadata": {},
   "outputs": [
    {
     "data": {
      "image/png": "[encoded data removed]",
      "text/plain": [
       "<Figure size 432x288 with 1 Axes>"
      ]
     },
     "metadata": {
      "needs_background": "light"
     },
     "output_type": "display_data"
    },
    {
     "data": {
      "image/png": "[encoded data removed]",
      "text/plain": [
       "<Figure size 432x288 with 1 Axes>"
      ]
     },
     "metadata": {
      "needs_background": "light"
     },
     "output_type": "display_data"
    },
    {
     "data": {
      "image/png": "[encoded data removed]",
      "text/plain": [
       "<Figure size 432x288 with 1 Axes>"
      ]
     },
     "metadata": {
      "needs_background": "light"
     },
     "output_type": "display_data"
    },
    {
     "data": {
      "image/png": "[encoded data removed]",
      "text/plain": [
       "<Figure size 432x288 with 1 Axes>"
      ]
     },
     "metadata": {
      "needs_background": "light"
     },
     "output_type": "display_data"
    },
    {
     "data": {
      "image/png": "[encoded data removed]",
      "text/plain": [
       "<Figure size 432x288 with 1 Axes>"
      ]
     },
     "metadata": {
      "needs_background": "light"
     },
     "output_type": "display_data"
    },
    {
     "data": {
      "image/png": "[encoded data removed]",
      "text/plain": [
       "<Figure size 432x288 with 1 Axes>"
      ]
     },
     "metadata": {
      "needs_background": "light"
     },
     "output_type": "display_data"
    },
    {
     "data": {
      "image/png": "[encoded data removed]",
      "text/plain": [
       "<Figure size 432x288 with 1 Axes>"
      ]
     },
     "metadata": {
      "needs_background": "light"
     },
     "output_type": "display_data"
    },
    {
     "data": {
      "image/png": "[encoded data removed]",
      "text/plain": [
       "<Figure size 432x288 with 1 Axes>"
      ]
     },
     "metadata": {
      "needs_background": "light"
     },
     "output_type": "display_data"
    },
    {
     "data": {
      "image/png": "[encoded data removed]",
      "text/plain": [
       "<Figure size 432x288 with 1 Axes>"
      ]
     },
     "metadata": {
      "needs_background": "light"
     },
     "output_type": "display_data"
    },
    {
     "data": {
      "image/png": "[encoded data removed]",
      "text/plain": [
       "<Figure size 432x288 with 1 Axes>"
      ]
     },
     "metadata": {
      "needs_background": "light"
     },
     "output_type": "display_data"
    },
    {
     "data": {
      "image/png": "[encoded data removed]",
      "text/plain": [
       "<Figure size 432x288 with 1 Axes>"
      ]
     },
     "metadata": {
      "needs_background": "light"
     },
     "output_type": "display_data"
    }
   ],
   "source": [
    "for col in df.select_dtypes(include=[np.number]).columns:\n",
    "    sns.histplot(df, x=col, kde=True, hue= \"Reached.on.Time_Y.N\")\n",
    "    plt.show()"
   ]
  },
  {
   "cell_type": "code",
   "execution_count": 57,
   "id": "5919e656",
   "metadata": {},
   "outputs": [
    {
     "data": {
      "text/plain": [
       "(array([4436.,    0.,    0.,    0.,    0.,    0.,    0.,    0.,    0.,\n",
       "           0.,    0.,    0.,    0.,    0., 6563.]),\n",
       " array([0.        , 0.06666667, 0.13333333, 0.2       , 0.26666667,\n",
       "        0.33333333, 0.4       , 0.46666667, 0.53333333, 0.6       ,\n",
       "        0.66666667, 0.73333333, 0.8       , 0.86666667, 0.93333333,\n",
       "        1.        ]),\n",
       " <BarContainer object of 15 artists>)"
      ]
     },
     "execution_count": 57,
     "metadata": {},
     "output_type": "execute_result"
    },
    {
     "data": {
      "image/png": "[encoded data removed]",
      "text/plain": [
       "<Figure size 432x288 with 1 Axes>"
      ]
     },
     "metadata": {
      "needs_background": "light"
     },
     "output_type": "display_data"
    }
   ],
   "source": [
    "plt.hist(df['Reached.on.Time_Y.N'],rwidth=0.9,alpha=0.3,color='blue',bins=15,edgecolor='red')"
   ]
  },
  {
   "cell_type": "code",
   "execution_count": 58,
   "id": "6f6b8eef",
   "metadata": {},
   "outputs": [
    {
     "data": {
      "text/plain": [
       "Text(0.5, 1.0, 'Distribution plot of Shipment')"
      ]
     },
     "execution_count": 58,
     "metadata": {},
     "output_type": "execute_result"
    },
    {
     "data": {
      "image/png": "[encoded data removed]",
      "text/plain": [
       "<Figure size 360x360 with 1 Axes>"
      ]
     },
     "metadata": {
      "needs_background": "light"
     },
     "output_type": "display_data"
    }
   ],
   "source": [
    "sns.displot(df.Mode_of_Shipment)\n",
    "plt.title('Distribution plot of Shipment')"
   ]
  },
  {
   "cell_type": "code",
   "execution_count": 59,
   "id": "fbd4cd6b",
   "metadata": {},
   "outputs": [
    {
     "name": "stdout",
     "output_type": "stream",
     "text": [
      "<class 'pandas.core.frame.DataFrame'>\n",
      "RangeIndex: 10999 entries, 0 to 10998\n",
      "Data columns (total 11 columns):\n",
      " #   Column               Non-Null Count  Dtype\n",
      "---  ------               --------------  -----\n",
      " 0   Warehouse_block      10999 non-null  int32\n",
      " 1   Mode_of_Shipment     10999 non-null  int32\n",
      " 2   Customer_care_calls  10999 non-null  int64\n",
      " 3   Customer_rating      10999 non-null  int64\n",
      " 4   Cost_of_the_Product  10999 non-null  int64\n",
      " 5   Prior_purchases      10999 non-null  int64\n",
      " 6   Product_importance   10999 non-null  int32\n",
      " 7   Gender               10999 non-null  int32\n",
      " 8   Discount_offered     10999 non-null  int64\n",
      " 9   Weight_in_gms        10999 non-null  int64\n",
      " 10  Reached.on.Time_Y.N  10999 non-null  int64\n",
      "dtypes: int32(4), int64(7)\n",
      "memory usage: 773.5 KB\n"
     ]
    }
   ],
   "source": [
    "df.info()"
   ]
  },
  {
   "cell_type": "code",
   "execution_count": 60,
   "id": "28368019",
   "metadata": {},
   "outputs": [],
   "source": [
    "X=df.drop(['Reached.on.Time_Y.N'],axis=1)\n",
    "y=df[['Reached.on.Time_Y.N']]"
   ]
  },
  {
   "cell_type": "code",
   "execution_count": 61,
   "id": "6b77964b",
   "metadata": {},
   "outputs": [],
   "source": [
    "from sklearn.model_selection import train_test_split"
   ]
  },
  {
   "cell_type": "code",
   "execution_count": 62,
   "id": "0d28dfb3",
   "metadata": {},
   "outputs": [],
   "source": [
    "X_train,X_test,y_train,y_test=train_test_split(X,y,test_size=0.3,random_state=0)"
   ]
  },
  {
   "cell_type": "code",
   "execution_count": 63,
   "id": "d0030fa5",
   "metadata": {},
   "outputs": [
    {
     "name": "stdout",
     "output_type": "stream",
     "text": [
      "(7699, 10)\n",
      "(3300, 10)\n",
      "(7699, 1)\n",
      "(3300, 1)\n"
     ]
    }
   ],
   "source": [
    "print(X_train.shape)\n",
    "print(X_test.shape)\n",
    "print(y_train.shape)\n",
    "print(y_test.shape)"
   ]
  },
  {
   "cell_type": "code",
   "execution_count": 64,
   "id": "96e9c8f9",
   "metadata": {},
   "outputs": [
    {
     "data": {
      "text/html": [
       "<div>\n",
       "<style scoped>\n",
       "    .dataframe tbody tr th:only-of-type {\n",
       "        vertical-align: middle;\n",
       "    }\n",
       "\n",
       "    .dataframe tbody tr th {\n",
       "        vertical-align: top;\n",
       "    }\n",
       "\n",
       "    .dataframe thead th {\n",
       "        text-align: right;\n",
       "    }\n",
       "</style>\n",
       "<table border=\"1\" class=\"dataframe\">\n",
       "  <thead>\n",
       "    <tr style=\"text-align: right;\">\n",
       "      <th></th>\n",
       "      <th>Warehouse_block</th>\n",
       "      <th>Mode_of_Shipment</th>\n",
       "      <th>Customer_care_calls</th>\n",
       "      <th>Customer_rating</th>\n",
       "      <th>Cost_of_the_Product</th>\n",
       "      <th>Prior_purchases</th>\n",
       "      <th>Product_importance</th>\n",
       "      <th>Gender</th>\n",
       "      <th>Discount_offered</th>\n",
       "      <th>Weight_in_gms</th>\n",
       "    </tr>\n",
       "  </thead>\n",
       "  <tbody>\n",
       "    <tr>\n",
       "      <th>0</th>\n",
       "      <td>3</td>\n",
       "      <td>0</td>\n",
       "      <td>4</td>\n",
       "      <td>2</td>\n",
       "      <td>177</td>\n",
       "      <td>3</td>\n",
       "      <td>1</td>\n",
       "      <td>0</td>\n",
       "      <td>44</td>\n",
       "      <td>1233</td>\n",
       "    </tr>\n",
       "    <tr>\n",
       "      <th>1</th>\n",
       "      <td>4</td>\n",
       "      <td>0</td>\n",
       "      <td>4</td>\n",
       "      <td>5</td>\n",
       "      <td>216</td>\n",
       "      <td>2</td>\n",
       "      <td>1</td>\n",
       "      <td>1</td>\n",
       "      <td>59</td>\n",
       "      <td>3088</td>\n",
       "    </tr>\n",
       "    <tr>\n",
       "      <th>2</th>\n",
       "      <td>0</td>\n",
       "      <td>0</td>\n",
       "      <td>2</td>\n",
       "      <td>2</td>\n",
       "      <td>183</td>\n",
       "      <td>4</td>\n",
       "      <td>1</td>\n",
       "      <td>1</td>\n",
       "      <td>48</td>\n",
       "      <td>3374</td>\n",
       "    </tr>\n",
       "    <tr>\n",
       "      <th>3</th>\n",
       "      <td>1</td>\n",
       "      <td>0</td>\n",
       "      <td>3</td>\n",
       "      <td>3</td>\n",
       "      <td>176</td>\n",
       "      <td>4</td>\n",
       "      <td>2</td>\n",
       "      <td>1</td>\n",
       "      <td>10</td>\n",
       "      <td>1177</td>\n",
       "    </tr>\n",
       "    <tr>\n",
       "      <th>4</th>\n",
       "      <td>2</td>\n",
       "      <td>0</td>\n",
       "      <td>2</td>\n",
       "      <td>2</td>\n",
       "      <td>184</td>\n",
       "      <td>3</td>\n",
       "      <td>2</td>\n",
       "      <td>0</td>\n",
       "      <td>46</td>\n",
       "      <td>2484</td>\n",
       "    </tr>\n",
       "  </tbody>\n",
       "</table>\n",
       "</div>"
      ],
      "text/plain": [
       "   Warehouse_block  Mode_of_Shipment  Customer_care_calls  Customer_rating  \\\n",
       "0                3                 0                    4                2   \n",
       "1                4                 0                    4                5   \n",
       "2                0                 0                    2                2   \n",
       "3                1                 0                    3                3   \n",
       "4                2                 0                    2                2   \n",
       "\n",
       "   Cost_of_the_Product  Prior_purchases  Product_importance  Gender  \\\n",
       "0                  177                3                   1       0   \n",
       "1                  216                2                   1       1   \n",
       "2                  183                4                   1       1   \n",
       "3                  176                4                   2       1   \n",
       "4                  184                3                   2       0   \n",
       "\n",
       "   Discount_offered  Weight_in_gms  \n",
       "0                44           1233  \n",
       "1                59           3088  \n",
       "2                48           3374  \n",
       "3                10           1177  \n",
       "4                46           2484  "
      ]
     },
     "execution_count": 64,
     "metadata": {},
     "output_type": "execute_result"
    }
   ],
   "source": [
    "X.head()"
   ]
  },
  {
   "cell_type": "code",
   "execution_count": 65,
   "id": "e4c05b63",
   "metadata": {},
   "outputs": [
    {
     "data": {
      "text/html": [
       "<div>\n",
       "<style scoped>\n",
       "    .dataframe tbody tr th:only-of-type {\n",
       "        vertical-align: middle;\n",
       "    }\n",
       "\n",
       "    .dataframe tbody tr th {\n",
       "        vertical-align: top;\n",
       "    }\n",
       "\n",
       "    .dataframe thead th {\n",
       "        text-align: right;\n",
       "    }\n",
       "</style>\n",
       "<table border=\"1\" class=\"dataframe\">\n",
       "  <thead>\n",
       "    <tr style=\"text-align: right;\">\n",
       "      <th></th>\n",
       "      <th>Reached.on.Time_Y.N</th>\n",
       "    </tr>\n",
       "  </thead>\n",
       "  <tbody>\n",
       "    <tr>\n",
       "      <th>0</th>\n",
       "      <td>1</td>\n",
       "    </tr>\n",
       "    <tr>\n",
       "      <th>1</th>\n",
       "      <td>1</td>\n",
       "    </tr>\n",
       "    <tr>\n",
       "      <th>2</th>\n",
       "      <td>1</td>\n",
       "    </tr>\n",
       "    <tr>\n",
       "      <th>3</th>\n",
       "      <td>1</td>\n",
       "    </tr>\n",
       "    <tr>\n",
       "      <th>4</th>\n",
       "      <td>1</td>\n",
       "    </tr>\n",
       "  </tbody>\n",
       "</table>\n",
       "</div>"
      ],
      "text/plain": [
       "   Reached.on.Time_Y.N\n",
       "0                    1\n",
       "1                    1\n",
       "2                    1\n",
       "3                    1\n",
       "4                    1"
      ]
     },
     "execution_count": 65,
     "metadata": {},
     "output_type": "execute_result"
    }
   ],
   "source": [
    "y.head()"
   ]
  },
  {
   "cell_type": "markdown",
   "id": "ad218853",
   "metadata": {},
   "source": [
    "# Using Logistic Regression"
   ]
  },
  {
   "cell_type": "code",
   "execution_count": 66,
   "id": "694639ca",
   "metadata": {},
   "outputs": [],
   "source": [
    "from sklearn.linear_model import LogisticRegression"
   ]
  },
  {
   "cell_type": "code",
   "execution_count": 67,
   "id": "7bfa60f0",
   "metadata": {},
   "outputs": [],
   "source": [
    "lr=LogisticRegression()"
   ]
  },
  {
   "cell_type": "code",
   "execution_count": 68,
   "id": "0b6f2c1c",
   "metadata": {},
   "outputs": [
    {
     "data": {
      "text/html": [
       "<style>#sk-container-id-1 {color: black;background-color: white;}#sk-container-id-1 pre{padding: 0;}#sk-container-id-1 div.sk-toggleable {background-color: white;}#sk-container-id-1 label.sk-toggleable__label {cursor: pointer;display: block;width: 100%;margin-bottom: 0;padding: 0.3em;box-sizing: border-box;text-align: center;}#sk-container-id-1 label.sk-toggleable__label-arrow:before {content: \"▸\";float: left;margin-right: 0.25em;color: #696969;}#sk-container-id-1 label.sk-toggleable__label-arrow:hover:before {color: black;}#sk-container-id-1 div.sk-estimator:hover label.sk-toggleable__label-arrow:before {color: black;}#sk-container-id-1 div.sk-toggleable__content {max-height: 0;max-width: 0;overflow: hidden;text-align: left;background-color: #f0f8ff;}#sk-container-id-1 div.sk-toggleable__content pre {margin: 0.2em;color: black;border-radius: 0.25em;background-color: #f0f8ff;}#sk-container-id-1 input.sk-toggleable__control:checked~div.sk-toggleable__content {max-height: 200px;max-width: 100%;overflow: auto;}#sk-container-id-1 input.sk-toggleable__control:checked~label.sk-toggleable__label-arrow:before {content: \"▾\";}#sk-container-id-1 div.sk-estimator input.sk-toggleable__control:checked~label.sk-toggleable__label {background-color: #d4ebff;}#sk-container-id-1 div.sk-label input.sk-toggleable__control:checked~label.sk-toggleable__label {background-color: #d4ebff;}#sk-container-id-1 input.sk-hidden--visually {border: 0;clip: rect(1px 1px 1px 1px);clip: rect(1px, 1px, 1px, 1px);height: 1px;margin: -1px;overflow: hidden;padding: 0;position: absolute;width: 1px;}#sk-container-id-1 div.sk-estimator {font-family: monospace;background-color: #f0f8ff;border: 1px dotted black;border-radius: 0.25em;box-sizing: border-box;margin-bottom: 0.5em;}#sk-container-id-1 div.sk-estimator:hover {background-color: #d4ebff;}#sk-container-id-1 div.sk-parallel-item::after {content: \"\";width: 100%;border-bottom: 1px solid gray;flex-grow: 1;}#sk-container-id-1 div.sk-label:hover label.sk-toggleable__label {background-color: #d4ebff;}#sk-container-id-1 div.sk-serial::before {content: \"\";position: absolute;border-left: 1px solid gray;box-sizing: border-box;top: 0;bottom: 0;left: 50%;z-index: 0;}#sk-container-id-1 div.sk-serial {display: flex;flex-direction: column;align-items: center;background-color: white;padding-right: 0.2em;padding-left: 0.2em;position: relative;}#sk-container-id-1 div.sk-item {position: relative;z-index: 1;}#sk-container-id-1 div.sk-parallel {display: flex;align-items: stretch;justify-content: center;background-color: white;position: relative;}#sk-container-id-1 div.sk-item::before, #sk-container-id-1 div.sk-parallel-item::before {content: \"\";position: absolute;border-left: 1px solid gray;box-sizing: border-box;top: 0;bottom: 0;left: 50%;z-index: -1;}#sk-container-id-1 div.sk-parallel-item {display: flex;flex-direction: column;z-index: 1;position: relative;background-color: white;}#sk-container-id-1 div.sk-parallel-item:first-child::after {align-self: flex-end;width: 50%;}#sk-container-id-1 div.sk-parallel-item:last-child::after {align-self: flex-start;width: 50%;}#sk-container-id-1 div.sk-parallel-item:only-child::after {width: 0;}#sk-container-id-1 div.sk-dashed-wrapped {border: 1px dashed gray;margin: 0 0.4em 0.5em 0.4em;box-sizing: border-box;padding-bottom: 0.4em;background-color: white;}#sk-container-id-1 div.sk-label label {font-family: monospace;font-weight: bold;display: inline-block;line-height: 1.2em;}#sk-container-id-1 div.sk-label-container {text-align: center;}#sk-container-id-1 div.sk-container {/* jupyter's `normalize.less` sets `[hidden] { display: none; }` but bootstrap.min.css set `[hidden] { display: none !important; }` so we also need the `!important` here to be able to override the default hidden behavior on the sphinx rendered scikit-learn.org. See: https://github.com/scikit-learn/scikit-learn/issues/21755 */display: inline-block !important;position: relative;}#sk-container-id-1 div.sk-text-repr-fallback {display: none;}</style><div id=\"sk-container-id-1\" class=\"sk-top-container\"><div class=\"sk-text-repr-fallback\"><pre>LogisticRegression()</pre><b>In a Jupyter environment, please rerun this cell to show the HTML representation or trust the notebook. <br />On GitHub, the HTML representation is unable to render, please try loading this page with nbviewer.org.</b></div><div class=\"sk-container\" hidden><div class=\"sk-item\"><div class=\"sk-estimator sk-toggleable\"><input class=\"sk-toggleable__control sk-hidden--visually\" id=\"sk-estimator-id-1\" type=\"checkbox\" checked><label for=\"sk-estimator-id-1\" class=\"sk-toggleable__label sk-toggleable__label-arrow\">LogisticRegression</label><div class=\"sk-toggleable__content\"><pre>LogisticRegression()</pre></div></div></div></div></div>"
      ],
      "text/plain": [
       "LogisticRegression()"
      ]
     },
     "execution_count": 68,
     "metadata": {},
     "output_type": "execute_result"
    }
   ],
   "source": [
    "lr.fit(X_train,y_train)"
   ]
  },
  {
   "cell_type": "code",
   "execution_count": 69,
   "id": "a7fd6fa8",
   "metadata": {},
   "outputs": [
    {
     "data": {
      "text/plain": [
       "array([0, 0, 1, ..., 0, 0, 0], dtype=int64)"
      ]
     },
     "execution_count": 69,
     "metadata": {},
     "output_type": "execute_result"
    }
   ],
   "source": [
    "lr_pred=lr.predict(X_test)\n",
    "lr_pred"
   ]
  },
  {
   "cell_type": "code",
   "execution_count": 70,
   "id": "efca9557",
   "metadata": {},
   "outputs": [
    {
     "data": {
      "text/plain": [
       "64.09923366670996"
      ]
     },
     "execution_count": 70,
     "metadata": {},
     "output_type": "execute_result"
    }
   ],
   "source": [
    "lr.score(X_train,y_train)*100"
   ]
  },
  {
   "cell_type": "code",
   "execution_count": 71,
   "id": "1558bdb6",
   "metadata": {},
   "outputs": [
    {
     "data": {
      "text/plain": [
       "62.33333333333333"
      ]
     },
     "execution_count": 71,
     "metadata": {},
     "output_type": "execute_result"
    }
   ],
   "source": [
    "lr.score(X_test,y_test)*100"
   ]
  },
  {
   "cell_type": "code",
   "execution_count": 72,
   "id": "7f9f3e99",
   "metadata": {},
   "outputs": [],
   "source": [
    "from sklearn.metrics import accuracy_score\n",
    "from sklearn.metrics import classification_report\n",
    "from sklearn.metrics import confusion_matrix"
   ]
  },
  {
   "cell_type": "code",
   "execution_count": 73,
   "id": "c26c0423",
   "metadata": {},
   "outputs": [
    {
     "data": {
      "text/plain": [
       "array([[ 766,  613],\n",
       "       [ 630, 1291]], dtype=int64)"
      ]
     },
     "execution_count": 73,
     "metadata": {},
     "output_type": "execute_result"
    }
   ],
   "source": [
    "cf=confusion_matrix(y_test,lr_pred)\n",
    "cf"
   ]
  },
  {
   "cell_type": "code",
   "execution_count": 74,
   "id": "85c579be",
   "metadata": {},
   "outputs": [
    {
     "data": {
      "image/png": "[encoded data removed]",
      "text/plain": [
       "<Figure size 720x360 with 2 Axes>"
      ]
     },
     "metadata": {
      "needs_background": "light"
     },
     "output_type": "display_data"
    }
   ],
   "source": [
    "plt.figure(figsize=(10,5))\n",
    "sns.heatmap(cf,cmap='Blues',annot=True,fmt='g')\n",
    "plt.title('Confusion_matrix Logistic Regression',fontsize=18)\n",
    "\n",
    "plt.show()"
   ]
  },
  {
   "cell_type": "markdown",
   "id": "b8a8a154",
   "metadata": {},
   "source": [
    "0- Indicates that product reached on time\n",
    "\n",
    "1- Indicates that product has not reached on time\n",
    "\n",
    "So, in this Confusion matrix of Logistic regression we can see that 766 are True Positive which means that the delivery of product will be on time in actual and in prediction.\n",
    "\n",
    "In second case we see that 613 are False Positive which means that our model has predicted that it will reach on time but in actual it will not reach on time\n",
    "\n",
    "In third case 630 are False Negative which means that our model has predicted that the product will not reach on time but in actual it will be delivered on time.\n",
    "\n",
    "In fourth case we see that 1291 are True Negative which means our model has predicted that the product will not reached on time definitely"
   ]
  },
  {
   "cell_type": "code",
   "execution_count": 75,
   "id": "3c0c2ebd",
   "metadata": {},
   "outputs": [
    {
     "name": "stdout",
     "output_type": "stream",
     "text": [
      "              precision    recall  f1-score   support\n",
      "\n",
      "           0       0.55      0.56      0.55      1379\n",
      "           1       0.68      0.67      0.68      1921\n",
      "\n",
      "    accuracy                           0.62      3300\n",
      "   macro avg       0.61      0.61      0.61      3300\n",
      "weighted avg       0.62      0.62      0.62      3300\n",
      "\n"
     ]
    }
   ],
   "source": [
    "print(classification_report(y_test,lr_pred))"
   ]
  },
  {
   "cell_type": "markdown",
   "id": "013729e9",
   "metadata": {},
   "source": [
    "In above Classification report of Logistic Regression we see that\n",
    "\n",
    "Precision has 55% which says that our prediction is only 55% correct regarding the Product delivery on time\n",
    "\n",
    "In Recall there is 56% positive cases "
   ]
  },
  {
   "cell_type": "code",
   "execution_count": 76,
   "id": "2bbd0196",
   "metadata": {},
   "outputs": [
    {
     "data": {
      "text/plain": [
       "62.33333333333333"
      ]
     },
     "execution_count": 76,
     "metadata": {},
     "output_type": "execute_result"
    }
   ],
   "source": [
    "accuracy_score(y_test,lr_pred)*100"
   ]
  },
  {
   "cell_type": "markdown",
   "id": "57e2ee0f",
   "metadata": {},
   "source": [
    "# Use of Decision Tree classifier "
   ]
  },
  {
   "cell_type": "code",
   "execution_count": 77,
   "id": "f70bea4d",
   "metadata": {},
   "outputs": [],
   "source": [
    "from sklearn.tree import DecisionTreeClassifier"
   ]
  },
  {
   "cell_type": "code",
   "execution_count": 78,
   "id": "917d0896",
   "metadata": {},
   "outputs": [],
   "source": [
    "dt=DecisionTreeClassifier(criterion='entropy',max_depth=3)"
   ]
  },
  {
   "cell_type": "code",
   "execution_count": 79,
   "id": "72836080",
   "metadata": {},
   "outputs": [
    {
     "data": {
      "text/html": [
       "<style>#sk-container-id-2 {color: black;background-color: white;}#sk-container-id-2 pre{padding: 0;}#sk-container-id-2 div.sk-toggleable {background-color: white;}#sk-container-id-2 label.sk-toggleable__label {cursor: pointer;display: block;width: 100%;margin-bottom: 0;padding: 0.3em;box-sizing: border-box;text-align: center;}#sk-container-id-2 label.sk-toggleable__label-arrow:before {content: \"▸\";float: left;margin-right: 0.25em;color: #696969;}#sk-container-id-2 label.sk-toggleable__label-arrow:hover:before {color: black;}#sk-container-id-2 div.sk-estimator:hover label.sk-toggleable__label-arrow:before {color: black;}#sk-container-id-2 div.sk-toggleable__content {max-height: 0;max-width: 0;overflow: hidden;text-align: left;background-color: #f0f8ff;}#sk-container-id-2 div.sk-toggleable__content pre {margin: 0.2em;color: black;border-radius: 0.25em;background-color: #f0f8ff;}#sk-container-id-2 input.sk-toggleable__control:checked~div.sk-toggleable__content {max-height: 200px;max-width: 100%;overflow: auto;}#sk-container-id-2 input.sk-toggleable__control:checked~label.sk-toggleable__label-arrow:before {content: \"▾\";}#sk-container-id-2 div.sk-estimator input.sk-toggleable__control:checked~label.sk-toggleable__label {background-color: #d4ebff;}#sk-container-id-2 div.sk-label input.sk-toggleable__control:checked~label.sk-toggleable__label {background-color: #d4ebff;}#sk-container-id-2 input.sk-hidden--visually {border: 0;clip: rect(1px 1px 1px 1px);clip: rect(1px, 1px, 1px, 1px);height: 1px;margin: -1px;overflow: hidden;padding: 0;position: absolute;width: 1px;}#sk-container-id-2 div.sk-estimator {font-family: monospace;background-color: #f0f8ff;border: 1px dotted black;border-radius: 0.25em;box-sizing: border-box;margin-bottom: 0.5em;}#sk-container-id-2 div.sk-estimator:hover {background-color: #d4ebff;}#sk-container-id-2 div.sk-parallel-item::after {content: \"\";width: 100%;border-bottom: 1px solid gray;flex-grow: 1;}#sk-container-id-2 div.sk-label:hover label.sk-toggleable__label {background-color: #d4ebff;}#sk-container-id-2 div.sk-serial::before {content: \"\";position: absolute;border-left: 1px solid gray;box-sizing: border-box;top: 0;bottom: 0;left: 50%;z-index: 0;}#sk-container-id-2 div.sk-serial {display: flex;flex-direction: column;align-items: center;background-color: white;padding-right: 0.2em;padding-left: 0.2em;position: relative;}#sk-container-id-2 div.sk-item {position: relative;z-index: 1;}#sk-container-id-2 div.sk-parallel {display: flex;align-items: stretch;justify-content: center;background-color: white;position: relative;}#sk-container-id-2 div.sk-item::before, #sk-container-id-2 div.sk-parallel-item::before {content: \"\";position: absolute;border-left: 1px solid gray;box-sizing: border-box;top: 0;bottom: 0;left: 50%;z-index: -1;}#sk-container-id-2 div.sk-parallel-item {display: flex;flex-direction: column;z-index: 1;position: relative;background-color: white;}#sk-container-id-2 div.sk-parallel-item:first-child::after {align-self: flex-end;width: 50%;}#sk-container-id-2 div.sk-parallel-item:last-child::after {align-self: flex-start;width: 50%;}#sk-container-id-2 div.sk-parallel-item:only-child::after {width: 0;}#sk-container-id-2 div.sk-dashed-wrapped {border: 1px dashed gray;margin: 0 0.4em 0.5em 0.4em;box-sizing: border-box;padding-bottom: 0.4em;background-color: white;}#sk-container-id-2 div.sk-label label {font-family: monospace;font-weight: bold;display: inline-block;line-height: 1.2em;}#sk-container-id-2 div.sk-label-container {text-align: center;}#sk-container-id-2 div.sk-container {/* jupyter's `normalize.less` sets `[hidden] { display: none; }` but bootstrap.min.css set `[hidden] { display: none !important; }` so we also need the `!important` here to be able to override the default hidden behavior on the sphinx rendered scikit-learn.org. See: https://github.com/scikit-learn/scikit-learn/issues/21755 */display: inline-block !important;position: relative;}#sk-container-id-2 div.sk-text-repr-fallback {display: none;}</style><div id=\"sk-container-id-2\" class=\"sk-top-container\"><div class=\"sk-text-repr-fallback\"><pre>DecisionTreeClassifier(criterion=&#x27;entropy&#x27;, max_depth=3)</pre><b>In a Jupyter environment, please rerun this cell to show the HTML representation or trust the notebook. <br />On GitHub, the HTML representation is unable to render, please try loading this page with nbviewer.org.</b></div><div class=\"sk-container\" hidden><div class=\"sk-item\"><div class=\"sk-estimator sk-toggleable\"><input class=\"sk-toggleable__control sk-hidden--visually\" id=\"sk-estimator-id-2\" type=\"checkbox\" checked><label for=\"sk-estimator-id-2\" class=\"sk-toggleable__label sk-toggleable__label-arrow\">DecisionTreeClassifier</label><div class=\"sk-toggleable__content\"><pre>DecisionTreeClassifier(criterion=&#x27;entropy&#x27;, max_depth=3)</pre></div></div></div></div></div>"
      ],
      "text/plain": [
       "DecisionTreeClassifier(criterion='entropy', max_depth=3)"
      ]
     },
     "execution_count": 79,
     "metadata": {},
     "output_type": "execute_result"
    }
   ],
   "source": [
    "dt.fit(X_train,y_train)"
   ]
  },
  {
   "cell_type": "code",
   "execution_count": 80,
   "id": "8d0797be",
   "metadata": {},
   "outputs": [
    {
     "data": {
      "text/plain": [
       "array([0, 0, 1, ..., 0, 0, 0], dtype=int64)"
      ]
     },
     "execution_count": 80,
     "metadata": {},
     "output_type": "execute_result"
    }
   ],
   "source": [
    "dt_pred=dt.predict(X_test)\n",
    "dt_pred"
   ]
  },
  {
   "cell_type": "code",
   "execution_count": 81,
   "id": "41ee3274",
   "metadata": {},
   "outputs": [
    {
     "data": {
      "text/plain": [
       "67.58020522145733"
      ]
     },
     "execution_count": 81,
     "metadata": {},
     "output_type": "execute_result"
    }
   ],
   "source": [
    "dt.score(X_train,y_train)*100"
   ]
  },
  {
   "cell_type": "code",
   "execution_count": 82,
   "id": "d31c1181",
   "metadata": {},
   "outputs": [
    {
     "data": {
      "text/plain": [
       "68.15151515151516"
      ]
     },
     "execution_count": 82,
     "metadata": {},
     "output_type": "execute_result"
    }
   ],
   "source": [
    "dt.score(X_test,y_test)*100"
   ]
  },
  {
   "cell_type": "code",
   "execution_count": 83,
   "id": "d47cfc5e",
   "metadata": {},
   "outputs": [
    {
     "data": {
      "text/plain": [
       "array([[1316,   63],\n",
       "       [ 988,  933]], dtype=int64)"
      ]
     },
     "execution_count": 83,
     "metadata": {},
     "output_type": "execute_result"
    }
   ],
   "source": [
    "cf_dt=confusion_matrix(y_test,dt_pred)\n",
    "cf_dt"
   ]
  },
  {
   "cell_type": "code",
   "execution_count": 84,
   "id": "4cbf9f53",
   "metadata": {},
   "outputs": [
    {
     "data": {
      "image/png": "[encoded data removed]",
      "text/plain": [
       "<Figure size 720x360 with 2 Axes>"
      ]
     },
     "metadata": {
      "needs_background": "light"
     },
     "output_type": "display_data"
    }
   ],
   "source": [
    "plt.figure(figsize=(10,5))\n",
    "sns.heatmap(cf_dt,cmap='Blues',annot=True,fmt='g')\n",
    "plt.title('Confusion_matrix Decision Tree',fontsize=18)\n",
    "plt.show()"
   ]
  },
  {
   "cell_type": "markdown",
   "id": "e8078500",
   "metadata": {},
   "source": [
    "In this Confusion Matrix of Decision Tree  we see that 1316 are True Positive which means our model has correctly predicted as per actual .\n",
    "\n",
    "In Second case we see that 63 are False Positive which means our model has predicted it will reach on time but in actual it will not reach\n",
    "\n",
    "In Third case 968 are False negative which states that our model has predicted that the product will not reach on time but in actual case it will be delivered in time.\n",
    "\n",
    "933 are the True Negative which means that the product will definitely not reach on time."
   ]
  },
  {
   "cell_type": "code",
   "execution_count": 85,
   "id": "1febf697",
   "metadata": {},
   "outputs": [
    {
     "name": "stdout",
     "output_type": "stream",
     "text": [
      "              precision    recall  f1-score   support\n",
      "\n",
      "           0       0.57      0.95      0.71      1379\n",
      "           1       0.94      0.49      0.64      1921\n",
      "\n",
      "    accuracy                           0.68      3300\n",
      "   macro avg       0.75      0.72      0.68      3300\n",
      "weighted avg       0.78      0.68      0.67      3300\n",
      "\n"
     ]
    }
   ],
   "source": [
    "print(classification_report(y_test,dt_pred))"
   ]
  },
  {
   "cell_type": "markdown",
   "id": "73595518",
   "metadata": {},
   "source": [
    "In decision Tree Classification report\n",
    "\n",
    "Precision has 57%  correct prediction of reachin of product in time"
   ]
  },
  {
   "cell_type": "code",
   "execution_count": 86,
   "id": "9d33ed9c",
   "metadata": {},
   "outputs": [
    {
     "data": {
      "text/plain": [
       "68.15151515151516"
      ]
     },
     "execution_count": 86,
     "metadata": {},
     "output_type": "execute_result"
    }
   ],
   "source": [
    "accuracy_score(y_test,dt_pred)*100"
   ]
  },
  {
   "cell_type": "markdown",
   "id": "f0042cef",
   "metadata": {},
   "source": [
    "The Accuracy has been improved after performing the decision Tree in Comparision to Logistic Regression and accordingly we can say that out model is properly fitted  train accuracy :- 67.58 and test accuracy:- 68.15"
   ]
  },
  {
   "cell_type": "markdown",
   "id": "39bc05a5",
   "metadata": {},
   "source": [
    "# Using Random Forest"
   ]
  },
  {
   "cell_type": "code",
   "execution_count": 87,
   "id": "5050708c",
   "metadata": {},
   "outputs": [],
   "source": [
    "from sklearn.ensemble import RandomForestClassifier"
   ]
  },
  {
   "cell_type": "code",
   "execution_count": 88,
   "id": "5d2c9ff0",
   "metadata": {},
   "outputs": [],
   "source": [
    "rf=RandomForestClassifier(n_estimators=50,criterion='entropy',max_depth=3)"
   ]
  },
  {
   "cell_type": "code",
   "execution_count": 89,
   "id": "9ae86f9a",
   "metadata": {},
   "outputs": [
    {
     "data": {
      "text/html": [
       "<style>#sk-container-id-3 {color: black;background-color: white;}#sk-container-id-3 pre{padding: 0;}#sk-container-id-3 div.sk-toggleable {background-color: white;}#sk-container-id-3 label.sk-toggleable__label {cursor: pointer;display: block;width: 100%;margin-bottom: 0;padding: 0.3em;box-sizing: border-box;text-align: center;}#sk-container-id-3 label.sk-toggleable__label-arrow:before {content: \"▸\";float: left;margin-right: 0.25em;color: #696969;}#sk-container-id-3 label.sk-toggleable__label-arrow:hover:before {color: black;}#sk-container-id-3 div.sk-estimator:hover label.sk-toggleable__label-arrow:before {color: black;}#sk-container-id-3 div.sk-toggleable__content {max-height: 0;max-width: 0;overflow: hidden;text-align: left;background-color: #f0f8ff;}#sk-container-id-3 div.sk-toggleable__content pre {margin: 0.2em;color: black;border-radius: 0.25em;background-color: #f0f8ff;}#sk-container-id-3 input.sk-toggleable__control:checked~div.sk-toggleable__content {max-height: 200px;max-width: 100%;overflow: auto;}#sk-container-id-3 input.sk-toggleable__control:checked~label.sk-toggleable__label-arrow:before {content: \"▾\";}#sk-container-id-3 div.sk-estimator input.sk-toggleable__control:checked~label.sk-toggleable__label {background-color: #d4ebff;}#sk-container-id-3 div.sk-label input.sk-toggleable__control:checked~label.sk-toggleable__label {background-color: #d4ebff;}#sk-container-id-3 input.sk-hidden--visually {border: 0;clip: rect(1px 1px 1px 1px);clip: rect(1px, 1px, 1px, 1px);height: 1px;margin: -1px;overflow: hidden;padding: 0;position: absolute;width: 1px;}#sk-container-id-3 div.sk-estimator {font-family: monospace;background-color: #f0f8ff;border: 1px dotted black;border-radius: 0.25em;box-sizing: border-box;margin-bottom: 0.5em;}#sk-container-id-3 div.sk-estimator:hover {background-color: #d4ebff;}#sk-container-id-3 div.sk-parallel-item::after {content: \"\";width: 100%;border-bottom: 1px solid gray;flex-grow: 1;}#sk-container-id-3 div.sk-label:hover label.sk-toggleable__label {background-color: #d4ebff;}#sk-container-id-3 div.sk-serial::before {content: \"\";position: absolute;border-left: 1px solid gray;box-sizing: border-box;top: 0;bottom: 0;left: 50%;z-index: 0;}#sk-container-id-3 div.sk-serial {display: flex;flex-direction: column;align-items: center;background-color: white;padding-right: 0.2em;padding-left: 0.2em;position: relative;}#sk-container-id-3 div.sk-item {position: relative;z-index: 1;}#sk-container-id-3 div.sk-parallel {display: flex;align-items: stretch;justify-content: center;background-color: white;position: relative;}#sk-container-id-3 div.sk-item::before, #sk-container-id-3 div.sk-parallel-item::before {content: \"\";position: absolute;border-left: 1px solid gray;box-sizing: border-box;top: 0;bottom: 0;left: 50%;z-index: -1;}#sk-container-id-3 div.sk-parallel-item {display: flex;flex-direction: column;z-index: 1;position: relative;background-color: white;}#sk-container-id-3 div.sk-parallel-item:first-child::after {align-self: flex-end;width: 50%;}#sk-container-id-3 div.sk-parallel-item:last-child::after {align-self: flex-start;width: 50%;}#sk-container-id-3 div.sk-parallel-item:only-child::after {width: 0;}#sk-container-id-3 div.sk-dashed-wrapped {border: 1px dashed gray;margin: 0 0.4em 0.5em 0.4em;box-sizing: border-box;padding-bottom: 0.4em;background-color: white;}#sk-container-id-3 div.sk-label label {font-family: monospace;font-weight: bold;display: inline-block;line-height: 1.2em;}#sk-container-id-3 div.sk-label-container {text-align: center;}#sk-container-id-3 div.sk-container {/* jupyter's `normalize.less` sets `[hidden] { display: none; }` but bootstrap.min.css set `[hidden] { display: none !important; }` so we also need the `!important` here to be able to override the default hidden behavior on the sphinx rendered scikit-learn.org. See: https://github.com/scikit-learn/scikit-learn/issues/21755 */display: inline-block !important;position: relative;}#sk-container-id-3 div.sk-text-repr-fallback {display: none;}</style><div id=\"sk-container-id-3\" class=\"sk-top-container\"><div class=\"sk-text-repr-fallback\"><pre>RandomForestClassifier(criterion=&#x27;entropy&#x27;, max_depth=3, n_estimators=50)</pre><b>In a Jupyter environment, please rerun this cell to show the HTML representation or trust the notebook. <br />On GitHub, the HTML representation is unable to render, please try loading this page with nbviewer.org.</b></div><div class=\"sk-container\" hidden><div class=\"sk-item\"><div class=\"sk-estimator sk-toggleable\"><input class=\"sk-toggleable__control sk-hidden--visually\" id=\"sk-estimator-id-3\" type=\"checkbox\" checked><label for=\"sk-estimator-id-3\" class=\"sk-toggleable__label sk-toggleable__label-arrow\">RandomForestClassifier</label><div class=\"sk-toggleable__content\"><pre>RandomForestClassifier(criterion=&#x27;entropy&#x27;, max_depth=3, n_estimators=50)</pre></div></div></div></div></div>"
      ],
      "text/plain": [
       "RandomForestClassifier(criterion='entropy', max_depth=3, n_estimators=50)"
      ]
     },
     "execution_count": 89,
     "metadata": {},
     "output_type": "execute_result"
    }
   ],
   "source": [
    "rf.fit(X_train,y_train)"
   ]
  },
  {
   "cell_type": "code",
   "execution_count": 90,
   "id": "93725bb0",
   "metadata": {},
   "outputs": [
    {
     "data": {
      "text/plain": [
       "array([0, 1, 1, ..., 0, 0, 1], dtype=int64)"
      ]
     },
     "execution_count": 90,
     "metadata": {},
     "output_type": "execute_result"
    }
   ],
   "source": [
    "rf_pred=rf.predict(X_test)\n",
    "rf_pred"
   ]
  },
  {
   "cell_type": "code",
   "execution_count": 91,
   "id": "5570d35d",
   "metadata": {},
   "outputs": [
    {
     "data": {
      "text/plain": [
       "68.346538511495"
      ]
     },
     "execution_count": 91,
     "metadata": {},
     "output_type": "execute_result"
    }
   ],
   "source": [
    "rf.score(X_train,y_train)*100"
   ]
  },
  {
   "cell_type": "code",
   "execution_count": 92,
   "id": "cfd8cf6b",
   "metadata": {},
   "outputs": [
    {
     "data": {
      "text/plain": [
       "67.39393939393939"
      ]
     },
     "execution_count": 92,
     "metadata": {},
     "output_type": "execute_result"
    }
   ],
   "source": [
    "rf.score(X_test,y_test)*100"
   ]
  },
  {
   "cell_type": "code",
   "execution_count": 93,
   "id": "35c91b96",
   "metadata": {},
   "outputs": [
    {
     "data": {
      "text/plain": [
       "array([[1068,  311],\n",
       "       [ 765, 1156]], dtype=int64)"
      ]
     },
     "execution_count": 93,
     "metadata": {},
     "output_type": "execute_result"
    }
   ],
   "source": [
    "cf_rf=confusion_matrix(y_test,rf_pred)\n",
    "cf_rf"
   ]
  },
  {
   "cell_type": "code",
   "execution_count": 94,
   "id": "4195e7df",
   "metadata": {},
   "outputs": [
    {
     "data": {
      "image/png": "[encoded data removed]",
      "text/plain": [
       "<Figure size 720x360 with 2 Axes>"
      ]
     },
     "metadata": {
      "needs_background": "light"
     },
     "output_type": "display_data"
    }
   ],
   "source": [
    "plt.figure(figsize=(10,5))\n",
    "sns.heatmap(cf_rf,cmap='Blues',annot=True,fmt='g')\n",
    "plt.title('Confusion_matrix Decision Tree',fontsize=18)\n",
    "plt.show()"
   ]
  },
  {
   "cell_type": "markdown",
   "id": "6a093eca",
   "metadata": {},
   "source": [
    "In above Confusion matrix we got 992 as True Positive which states that the our model has predicted the same as in actual\n",
    "\n",
    "387 are the False positive values which states that our model has predicted the delivery on time but in actual it will not reach."
   ]
  },
  {
   "cell_type": "code",
   "execution_count": 95,
   "id": "7ea1358f",
   "metadata": {},
   "outputs": [
    {
     "name": "stdout",
     "output_type": "stream",
     "text": [
      "              precision    recall  f1-score   support\n",
      "\n",
      "           0       0.58      0.77      0.67      1379\n",
      "           1       0.79      0.60      0.68      1921\n",
      "\n",
      "    accuracy                           0.67      3300\n",
      "   macro avg       0.69      0.69      0.67      3300\n",
      "weighted avg       0.70      0.67      0.68      3300\n",
      "\n"
     ]
    }
   ],
   "source": [
    "print(classification_report(y_test,rf_pred))"
   ]
  },
  {
   "cell_type": "markdown",
   "id": "1418639a",
   "metadata": {},
   "source": [
    "In classification report we see that our precision has improved in comparision to Decision tree\n",
    "\n",
    "Precision has 59% correct prediction as our True Positive is high in comparision to False Positive.\n",
    "\n",
    "In Recall we got 72 for positive cases of delivery on time as it has high True Positive value with respect to False negative"
   ]
  },
  {
   "cell_type": "code",
   "execution_count": 96,
   "id": "69e3b539",
   "metadata": {},
   "outputs": [
    {
     "data": {
      "text/plain": [
       "67.39393939393939"
      ]
     },
     "execution_count": 96,
     "metadata": {},
     "output_type": "execute_result"
    }
   ],
   "source": [
    "accuracy_score(y_test,rf_pred)*100"
   ]
  },
  {
   "cell_type": "markdown",
   "id": "a83eb098",
   "metadata": {},
   "source": [
    "After performing the random forest we got the accuracy of test data is 67.36% which is low in comparision to Decision Tree."
   ]
  },
  {
   "cell_type": "markdown",
   "id": "8c575253",
   "metadata": {},
   "source": [
    "# Using Ada Boost Classifier"
   ]
  },
  {
   "cell_type": "code",
   "execution_count": 97,
   "id": "c6c96aae",
   "metadata": {},
   "outputs": [],
   "source": [
    "from sklearn.ensemble import AdaBoostClassifier"
   ]
  },
  {
   "cell_type": "code",
   "execution_count": 98,
   "id": "e596b780",
   "metadata": {},
   "outputs": [],
   "source": [
    "ad=AdaBoostClassifier()"
   ]
  },
  {
   "cell_type": "code",
   "execution_count": 99,
   "id": "94635613",
   "metadata": {},
   "outputs": [],
   "source": [
    "ad=ad.fit(X_train,y_train)"
   ]
  },
  {
   "cell_type": "code",
   "execution_count": 100,
   "id": "12bfb794",
   "metadata": {},
   "outputs": [
    {
     "data": {
      "text/plain": [
       "array([0, 1, 1, ..., 0, 0, 1], dtype=int64)"
      ]
     },
     "execution_count": 100,
     "metadata": {},
     "output_type": "execute_result"
    }
   ],
   "source": [
    "ad_pred=ad.predict(X_test)\n",
    "ad_pred"
   ]
  },
  {
   "cell_type": "code",
   "execution_count": 101,
   "id": "c768df35",
   "metadata": {},
   "outputs": [
    {
     "data": {
      "text/plain": [
       "67.99584361605403"
      ]
     },
     "execution_count": 101,
     "metadata": {},
     "output_type": "execute_result"
    }
   ],
   "source": [
    "ad.score(X_train,y_train)*100"
   ]
  },
  {
   "cell_type": "code",
   "execution_count": 102,
   "id": "74f798b8",
   "metadata": {},
   "outputs": [
    {
     "data": {
      "text/plain": [
       "66.96969696969697"
      ]
     },
     "execution_count": 102,
     "metadata": {},
     "output_type": "execute_result"
    }
   ],
   "source": [
    "ad.score(X_test,y_test)*100"
   ]
  },
  {
   "cell_type": "code",
   "execution_count": 103,
   "id": "020a41e3",
   "metadata": {},
   "outputs": [
    {
     "data": {
      "text/plain": [
       "array([[ 979,  400],\n",
       "       [ 690, 1231]], dtype=int64)"
      ]
     },
     "execution_count": 103,
     "metadata": {},
     "output_type": "execute_result"
    }
   ],
   "source": [
    "cf_ad=confusion_matrix(y_test,ad_pred)\n",
    "cf_ad"
   ]
  },
  {
   "cell_type": "code",
   "execution_count": 104,
   "id": "2afecf32",
   "metadata": {},
   "outputs": [
    {
     "data": {
      "image/png": "[encoded data removed]",
      "text/plain": [
       "<Figure size 720x360 with 2 Axes>"
      ]
     },
     "metadata": {
      "needs_background": "light"
     },
     "output_type": "display_data"
    }
   ],
   "source": [
    "plt.figure(figsize=(10,5))\n",
    "sns.heatmap(cf_ad,cmap='Blues',annot=True,fmt='g')\n",
    "plt.title('Confusion_matrix',fontsize=10)\n",
    "plt.show()"
   ]
  },
  {
   "cell_type": "markdown",
   "id": "8ec24699",
   "metadata": {},
   "source": [
    "In this confusion matrix we see that 979 are true positive , 400 are False positive, 690 are false negative, and 1231 are True negative which states that\n",
    "#1 our prediction has predicted the 979 TP value which are also in actual.\n",
    "#2 400 are FP value our prediction has predicted it but in actual it different in other words predicted that delivery will be on time but in actual it will be a late delivery"
   ]
  },
  {
   "cell_type": "code",
   "execution_count": 105,
   "id": "3061645b",
   "metadata": {},
   "outputs": [
    {
     "data": {
      "text/plain": [
       "66.96969696969697"
      ]
     },
     "execution_count": 105,
     "metadata": {},
     "output_type": "execute_result"
    }
   ],
   "source": [
    "accuracy_score(y_test,ad_pred)*100"
   ]
  },
  {
   "cell_type": "code",
   "execution_count": 106,
   "id": "2502bcce",
   "metadata": {},
   "outputs": [
    {
     "name": "stdout",
     "output_type": "stream",
     "text": [
      "              precision    recall  f1-score   support\n",
      "\n",
      "           0       0.59      0.71      0.64      1379\n",
      "           1       0.75      0.64      0.69      1921\n",
      "\n",
      "    accuracy                           0.67      3300\n",
      "   macro avg       0.67      0.68      0.67      3300\n",
      "weighted avg       0.68      0.67      0.67      3300\n",
      "\n"
     ]
    }
   ],
   "source": [
    "print(classification_report(y_test,ad_pred))"
   ]
  },
  {
   "cell_type": "markdown",
   "id": "0317a46e",
   "metadata": {},
   "source": [
    "In this classification report we see that 59% has correct prediction for delivery on time"
   ]
  },
  {
   "cell_type": "markdown",
   "id": "2f6812ec",
   "metadata": {},
   "source": [
    "# Using GradientBoosting Classifier"
   ]
  },
  {
   "cell_type": "code",
   "execution_count": 107,
   "id": "787de6e1",
   "metadata": {},
   "outputs": [],
   "source": [
    "from sklearn.ensemble import GradientBoostingClassifier"
   ]
  },
  {
   "cell_type": "code",
   "execution_count": 108,
   "id": "9ea59733",
   "metadata": {},
   "outputs": [],
   "source": [
    "gd=GradientBoostingClassifier(min_samples_split = 500,min_samples_leaf = 50,max_depth = 3,subsample = 0.8 )"
   ]
  },
  {
   "cell_type": "code",
   "execution_count": 109,
   "id": "cb478eda",
   "metadata": {},
   "outputs": [
    {
     "data": {
      "text/html": [
       "<style>#sk-container-id-4 {color: black;background-color: white;}#sk-container-id-4 pre{padding: 0;}#sk-container-id-4 div.sk-toggleable {background-color: white;}#sk-container-id-4 label.sk-toggleable__label {cursor: pointer;display: block;width: 100%;margin-bottom: 0;padding: 0.3em;box-sizing: border-box;text-align: center;}#sk-container-id-4 label.sk-toggleable__label-arrow:before {content: \"▸\";float: left;margin-right: 0.25em;color: #696969;}#sk-container-id-4 label.sk-toggleable__label-arrow:hover:before {color: black;}#sk-container-id-4 div.sk-estimator:hover label.sk-toggleable__label-arrow:before {color: black;}#sk-container-id-4 div.sk-toggleable__content {max-height: 0;max-width: 0;overflow: hidden;text-align: left;background-color: #f0f8ff;}#sk-container-id-4 div.sk-toggleable__content pre {margin: 0.2em;color: black;border-radius: 0.25em;background-color: #f0f8ff;}#sk-container-id-4 input.sk-toggleable__control:checked~div.sk-toggleable__content {max-height: 200px;max-width: 100%;overflow: auto;}#sk-container-id-4 input.sk-toggleable__control:checked~label.sk-toggleable__label-arrow:before {content: \"▾\";}#sk-container-id-4 div.sk-estimator input.sk-toggleable__control:checked~label.sk-toggleable__label {background-color: #d4ebff;}#sk-container-id-4 div.sk-label input.sk-toggleable__control:checked~label.sk-toggleable__label {background-color: #d4ebff;}#sk-container-id-4 input.sk-hidden--visually {border: 0;clip: rect(1px 1px 1px 1px);clip: rect(1px, 1px, 1px, 1px);height: 1px;margin: -1px;overflow: hidden;padding: 0;position: absolute;width: 1px;}#sk-container-id-4 div.sk-estimator {font-family: monospace;background-color: #f0f8ff;border: 1px dotted black;border-radius: 0.25em;box-sizing: border-box;margin-bottom: 0.5em;}#sk-container-id-4 div.sk-estimator:hover {background-color: #d4ebff;}#sk-container-id-4 div.sk-parallel-item::after {content: \"\";width: 100%;border-bottom: 1px solid gray;flex-grow: 1;}#sk-container-id-4 div.sk-label:hover label.sk-toggleable__label {background-color: #d4ebff;}#sk-container-id-4 div.sk-serial::before {content: \"\";position: absolute;border-left: 1px solid gray;box-sizing: border-box;top: 0;bottom: 0;left: 50%;z-index: 0;}#sk-container-id-4 div.sk-serial {display: flex;flex-direction: column;align-items: center;background-color: white;padding-right: 0.2em;padding-left: 0.2em;position: relative;}#sk-container-id-4 div.sk-item {position: relative;z-index: 1;}#sk-container-id-4 div.sk-parallel {display: flex;align-items: stretch;justify-content: center;background-color: white;position: relative;}#sk-container-id-4 div.sk-item::before, #sk-container-id-4 div.sk-parallel-item::before {content: \"\";position: absolute;border-left: 1px solid gray;box-sizing: border-box;top: 0;bottom: 0;left: 50%;z-index: -1;}#sk-container-id-4 div.sk-parallel-item {display: flex;flex-direction: column;z-index: 1;position: relative;background-color: white;}#sk-container-id-4 div.sk-parallel-item:first-child::after {align-self: flex-end;width: 50%;}#sk-container-id-4 div.sk-parallel-item:last-child::after {align-self: flex-start;width: 50%;}#sk-container-id-4 div.sk-parallel-item:only-child::after {width: 0;}#sk-container-id-4 div.sk-dashed-wrapped {border: 1px dashed gray;margin: 0 0.4em 0.5em 0.4em;box-sizing: border-box;padding-bottom: 0.4em;background-color: white;}#sk-container-id-4 div.sk-label label {font-family: monospace;font-weight: bold;display: inline-block;line-height: 1.2em;}#sk-container-id-4 div.sk-label-container {text-align: center;}#sk-container-id-4 div.sk-container {/* jupyter's `normalize.less` sets `[hidden] { display: none; }` but bootstrap.min.css set `[hidden] { display: none !important; }` so we also need the `!important` here to be able to override the default hidden behavior on the sphinx rendered scikit-learn.org. See: https://github.com/scikit-learn/scikit-learn/issues/21755 */display: inline-block !important;position: relative;}#sk-container-id-4 div.sk-text-repr-fallback {display: none;}</style><div id=\"sk-container-id-4\" class=\"sk-top-container\"><div class=\"sk-text-repr-fallback\"><pre>GradientBoostingClassifier(min_samples_leaf=50, min_samples_split=500,\n",
       "                           subsample=0.8)</pre><b>In a Jupyter environment, please rerun this cell to show the HTML representation or trust the notebook. <br />On GitHub, the HTML representation is unable to render, please try loading this page with nbviewer.org.</b></div><div class=\"sk-container\" hidden><div class=\"sk-item\"><div class=\"sk-estimator sk-toggleable\"><input class=\"sk-toggleable__control sk-hidden--visually\" id=\"sk-estimator-id-4\" type=\"checkbox\" checked><label for=\"sk-estimator-id-4\" class=\"sk-toggleable__label sk-toggleable__label-arrow\">GradientBoostingClassifier</label><div class=\"sk-toggleable__content\"><pre>GradientBoostingClassifier(min_samples_leaf=50, min_samples_split=500,\n",
       "                           subsample=0.8)</pre></div></div></div></div></div>"
      ],
      "text/plain": [
       "GradientBoostingClassifier(min_samples_leaf=50, min_samples_split=500,\n",
       "                           subsample=0.8)"
      ]
     },
     "execution_count": 109,
     "metadata": {},
     "output_type": "execute_result"
    }
   ],
   "source": [
    "gd.fit(X_train,y_train)"
   ]
  },
  {
   "cell_type": "code",
   "execution_count": 110,
   "id": "90be8c06",
   "metadata": {},
   "outputs": [
    {
     "data": {
      "text/plain": [
       "array([0, 0, 1, ..., 0, 0, 1], dtype=int64)"
      ]
     },
     "execution_count": 110,
     "metadata": {},
     "output_type": "execute_result"
    }
   ],
   "source": [
    "gd_pred=gd.predict(X_test)\n",
    "gd_pred"
   ]
  },
  {
   "cell_type": "code",
   "execution_count": 111,
   "id": "85b71cf7",
   "metadata": {},
   "outputs": [
    {
     "data": {
      "text/plain": [
       "array([[1151,  228],\n",
       "       [ 827, 1094]], dtype=int64)"
      ]
     },
     "execution_count": 111,
     "metadata": {},
     "output_type": "execute_result"
    }
   ],
   "source": [
    "cf_gd=confusion_matrix(y_test,gd_pred)\n",
    "cf_gd"
   ]
  },
  {
   "cell_type": "code",
   "execution_count": 112,
   "id": "dc354757",
   "metadata": {},
   "outputs": [
    {
     "data": {
      "image/png": "[encoded data removed]",
      "text/plain": [
       "<Figure size 720x360 with 2 Axes>"
      ]
     },
     "metadata": {
      "needs_background": "light"
     },
     "output_type": "display_data"
    }
   ],
   "source": [
    "plt.figure(figsize=(10,5))\n",
    "sns.heatmap(cf_gd,cmap='Blues', annot=True,fmt='g')\n",
    "plt.title('Correlation_Matrix_GradientBoosting',fontsize=10)\n",
    "plt.show()"
   ]
  },
  {
   "cell_type": "code",
   "execution_count": 113,
   "id": "4493a53a",
   "metadata": {},
   "outputs": [
    {
     "data": {
      "text/plain": [
       "68.03030303030303"
      ]
     },
     "execution_count": 113,
     "metadata": {},
     "output_type": "execute_result"
    }
   ],
   "source": [
    "accuracy_score(y_test,gd_pred)*100"
   ]
  },
  {
   "cell_type": "code",
   "execution_count": 114,
   "id": "4f4fe200",
   "metadata": {},
   "outputs": [
    {
     "data": {
      "text/plain": [
       "70.61956098194571"
      ]
     },
     "execution_count": 114,
     "metadata": {},
     "output_type": "execute_result"
    }
   ],
   "source": [
    "gd.score(X_train,y_train)*100"
   ]
  },
  {
   "cell_type": "code",
   "execution_count": 115,
   "id": "ff0daa5f",
   "metadata": {},
   "outputs": [
    {
     "name": "stdout",
     "output_type": "stream",
     "text": [
      "              precision    recall  f1-score   support\n",
      "\n",
      "           0       0.58      0.83      0.69      1379\n",
      "           1       0.83      0.57      0.67      1921\n",
      "\n",
      "    accuracy                           0.68      3300\n",
      "   macro avg       0.70      0.70      0.68      3300\n",
      "weighted avg       0.72      0.68      0.68      3300\n",
      "\n"
     ]
    }
   ],
   "source": [
    "print(classification_report(y_test,gd_pred))"
   ]
  },
  {
   "cell_type": "markdown",
   "id": "3350c090",
   "metadata": {},
   "source": [
    "Since the Gradient Boosting has predicted the test accuracy of 67.51% but the train accuracy is 70.54% so in this case we will neglect the gradient boosting because when train accuracy is high in camparision to test accuracy thet overfitting occus. So gradient boosting is overfitting the model."
   ]
  },
  {
   "cell_type": "markdown",
   "id": "4bb984b6",
   "metadata": {},
   "source": [
    "# Using XGBoost Classifier"
   ]
  },
  {
   "cell_type": "code",
   "execution_count": 116,
   "id": "2d865103",
   "metadata": {},
   "outputs": [],
   "source": [
    "from xgboost import XGBClassifier"
   ]
  },
  {
   "cell_type": "code",
   "execution_count": 117,
   "id": "4cc6fd27",
   "metadata": {},
   "outputs": [],
   "source": [
    "xg=XGBClassifier(max_depth=1,n_estimators=100)"
   ]
  },
  {
   "cell_type": "code",
   "execution_count": 118,
   "id": "18b2c12a",
   "metadata": {},
   "outputs": [
    {
     "data": {
      "text/html": [
       "<style>#sk-container-id-5 {color: black;background-color: white;}#sk-container-id-5 pre{padding: 0;}#sk-container-id-5 div.sk-toggleable {background-color: white;}#sk-container-id-5 label.sk-toggleable__label {cursor: pointer;display: block;width: 100%;margin-bottom: 0;padding: 0.3em;box-sizing: border-box;text-align: center;}#sk-container-id-5 label.sk-toggleable__label-arrow:before {content: \"▸\";float: left;margin-right: 0.25em;color: #696969;}#sk-container-id-5 label.sk-toggleable__label-arrow:hover:before {color: black;}#sk-container-id-5 div.sk-estimator:hover label.sk-toggleable__label-arrow:before {color: black;}#sk-container-id-5 div.sk-toggleable__content {max-height: 0;max-width: 0;overflow: hidden;text-align: left;background-color: #f0f8ff;}#sk-container-id-5 div.sk-toggleable__content pre {margin: 0.2em;color: black;border-radius: 0.25em;background-color: #f0f8ff;}#sk-container-id-5 input.sk-toggleable__control:checked~div.sk-toggleable__content {max-height: 200px;max-width: 100%;overflow: auto;}#sk-container-id-5 input.sk-toggleable__control:checked~label.sk-toggleable__label-arrow:before {content: \"▾\";}#sk-container-id-5 div.sk-estimator input.sk-toggleable__control:checked~label.sk-toggleable__label {background-color: #d4ebff;}#sk-container-id-5 div.sk-label input.sk-toggleable__control:checked~label.sk-toggleable__label {background-color: #d4ebff;}#sk-container-id-5 input.sk-hidden--visually {border: 0;clip: rect(1px 1px 1px 1px);clip: rect(1px, 1px, 1px, 1px);height: 1px;margin: -1px;overflow: hidden;padding: 0;position: absolute;width: 1px;}#sk-container-id-5 div.sk-estimator {font-family: monospace;background-color: #f0f8ff;border: 1px dotted black;border-radius: 0.25em;box-sizing: border-box;margin-bottom: 0.5em;}#sk-container-id-5 div.sk-estimator:hover {background-color: #d4ebff;}#sk-container-id-5 div.sk-parallel-item::after {content: \"\";width: 100%;border-bottom: 1px solid gray;flex-grow: 1;}#sk-container-id-5 div.sk-label:hover label.sk-toggleable__label {background-color: #d4ebff;}#sk-container-id-5 div.sk-serial::before {content: \"\";position: absolute;border-left: 1px solid gray;box-sizing: border-box;top: 0;bottom: 0;left: 50%;z-index: 0;}#sk-container-id-5 div.sk-serial {display: flex;flex-direction: column;align-items: center;background-color: white;padding-right: 0.2em;padding-left: 0.2em;position: relative;}#sk-container-id-5 div.sk-item {position: relative;z-index: 1;}#sk-container-id-5 div.sk-parallel {display: flex;align-items: stretch;justify-content: center;background-color: white;position: relative;}#sk-container-id-5 div.sk-item::before, #sk-container-id-5 div.sk-parallel-item::before {content: \"\";position: absolute;border-left: 1px solid gray;box-sizing: border-box;top: 0;bottom: 0;left: 50%;z-index: -1;}#sk-container-id-5 div.sk-parallel-item {display: flex;flex-direction: column;z-index: 1;position: relative;background-color: white;}#sk-container-id-5 div.sk-parallel-item:first-child::after {align-self: flex-end;width: 50%;}#sk-container-id-5 div.sk-parallel-item:last-child::after {align-self: flex-start;width: 50%;}#sk-container-id-5 div.sk-parallel-item:only-child::after {width: 0;}#sk-container-id-5 div.sk-dashed-wrapped {border: 1px dashed gray;margin: 0 0.4em 0.5em 0.4em;box-sizing: border-box;padding-bottom: 0.4em;background-color: white;}#sk-container-id-5 div.sk-label label {font-family: monospace;font-weight: bold;display: inline-block;line-height: 1.2em;}#sk-container-id-5 div.sk-label-container {text-align: center;}#sk-container-id-5 div.sk-container {/* jupyter's `normalize.less` sets `[hidden] { display: none; }` but bootstrap.min.css set `[hidden] { display: none !important; }` so we also need the `!important` here to be able to override the default hidden behavior on the sphinx rendered scikit-learn.org. See: https://github.com/scikit-learn/scikit-learn/issues/21755 */display: inline-block !important;position: relative;}#sk-container-id-5 div.sk-text-repr-fallback {display: none;}</style><div id=\"sk-container-id-5\" class=\"sk-top-container\"><div class=\"sk-text-repr-fallback\"><pre>XGBClassifier(base_score=0.5, booster=&#x27;gbtree&#x27;, callbacks=None,\n",
       "              colsample_bylevel=1, colsample_bynode=1, colsample_bytree=1,\n",
       "              early_stopping_rounds=None, enable_categorical=False,\n",
       "              eval_metric=None, gamma=0, gpu_id=-1, grow_policy=&#x27;depthwise&#x27;,\n",
       "              importance_type=None, interaction_constraints=&#x27;&#x27;,\n",
       "              learning_rate=0.300000012, max_bin=256, max_cat_to_onehot=4,\n",
       "              max_delta_step=0, max_depth=1, max_leaves=0, min_child_weight=1,\n",
       "              missing=nan, monotone_constraints=&#x27;()&#x27;, n_estimators=100,\n",
       "              n_jobs=0, num_parallel_tree=1, predictor=&#x27;auto&#x27;, random_state=0,\n",
       "              reg_alpha=0, reg_lambda=1, ...)</pre><b>In a Jupyter environment, please rerun this cell to show the HTML representation or trust the notebook. <br />On GitHub, the HTML representation is unable to render, please try loading this page with nbviewer.org.</b></div><div class=\"sk-container\" hidden><div class=\"sk-item\"><div class=\"sk-estimator sk-toggleable\"><input class=\"sk-toggleable__control sk-hidden--visually\" id=\"sk-estimator-id-5\" type=\"checkbox\" checked><label for=\"sk-estimator-id-5\" class=\"sk-toggleable__label sk-toggleable__label-arrow\">XGBClassifier</label><div class=\"sk-toggleable__content\"><pre>XGBClassifier(base_score=0.5, booster=&#x27;gbtree&#x27;, callbacks=None,\n",
       "              colsample_bylevel=1, colsample_bynode=1, colsample_bytree=1,\n",
       "              early_stopping_rounds=None, enable_categorical=False,\n",
       "              eval_metric=None, gamma=0, gpu_id=-1, grow_policy=&#x27;depthwise&#x27;,\n",
       "              importance_type=None, interaction_constraints=&#x27;&#x27;,\n",
       "              learning_rate=0.300000012, max_bin=256, max_cat_to_onehot=4,\n",
       "              max_delta_step=0, max_depth=1, max_leaves=0, min_child_weight=1,\n",
       "              missing=nan, monotone_constraints=&#x27;()&#x27;, n_estimators=100,\n",
       "              n_jobs=0, num_parallel_tree=1, predictor=&#x27;auto&#x27;, random_state=0,\n",
       "              reg_alpha=0, reg_lambda=1, ...)</pre></div></div></div></div></div>"
      ],
      "text/plain": [
       "XGBClassifier(base_score=0.5, booster='gbtree', callbacks=None,\n",
       "              colsample_bylevel=1, colsample_bynode=1, colsample_bytree=1,\n",
       "              early_stopping_rounds=None, enable_categorical=False,\n",
       "              eval_metric=None, gamma=0, gpu_id=-1, grow_policy='depthwise',\n",
       "              importance_type=None, interaction_constraints='',\n",
       "              learning_rate=0.300000012, max_bin=256, max_cat_to_onehot=4,\n",
       "              max_delta_step=0, max_depth=1, max_leaves=0, min_child_weight=1,\n",
       "              missing=nan, monotone_constraints='()', n_estimators=100,\n",
       "              n_jobs=0, num_parallel_tree=1, predictor='auto', random_state=0,\n",
       "              reg_alpha=0, reg_lambda=1, ...)"
      ]
     },
     "execution_count": 118,
     "metadata": {},
     "output_type": "execute_result"
    }
   ],
   "source": [
    "xg.fit(X_train,y_train)"
   ]
  },
  {
   "cell_type": "code",
   "execution_count": 119,
   "id": "ccc3aed6",
   "metadata": {},
   "outputs": [
    {
     "data": {
      "text/plain": [
       "array([0, 1, 1, ..., 0, 0, 1])"
      ]
     },
     "execution_count": 119,
     "metadata": {},
     "output_type": "execute_result"
    }
   ],
   "source": [
    "xg_pred=xg.predict(X_test)\n",
    "xg_pred"
   ]
  },
  {
   "cell_type": "code",
   "execution_count": 120,
   "id": "038d45ff",
   "metadata": {},
   "outputs": [
    {
     "data": {
      "text/plain": [
       "array([[1005,  374],\n",
       "       [ 701, 1220]], dtype=int64)"
      ]
     },
     "execution_count": 120,
     "metadata": {},
     "output_type": "execute_result"
    }
   ],
   "source": [
    "cf_xg=confusion_matrix(y_test,xg_pred)\n",
    "cf_xg"
   ]
  },
  {
   "cell_type": "code",
   "execution_count": 121,
   "id": "8157af50",
   "metadata": {},
   "outputs": [
    {
     "data": {
      "image/png": "[encoded data removed]",
      "text/plain": [
       "<Figure size 720x360 with 2 Axes>"
      ]
     },
     "metadata": {
      "needs_background": "light"
     },
     "output_type": "display_data"
    }
   ],
   "source": [
    "plt.figure(figsize=(10,5))\n",
    "sns.heatmap(cf_xg,annot=True,cmap='Blues',fmt='g')\n",
    "plt.title('Confusion_Matrix_XGBClassifier',fontsize=10)\n",
    "plt.show()"
   ]
  },
  {
   "cell_type": "markdown",
   "id": "e98b83f0",
   "metadata": {},
   "source": [
    "In above confusion matrix we got 1005 true positive value which means that our prediction is correct as per actual.\n",
    "\n",
    "374 are False Positive which means we have predicted the value but in actual we have different value or we say that we have predicted the delivery on time but in actual it will not reach.\n",
    "\n",
    "1220 are True Negative which means that th preduct will definitely not reach on time ."
   ]
  },
  {
   "cell_type": "code",
   "execution_count": 122,
   "id": "0ccc8976",
   "metadata": {},
   "outputs": [
    {
     "data": {
      "text/plain": [
       "67.42424242424242"
      ]
     },
     "execution_count": 122,
     "metadata": {},
     "output_type": "execute_result"
    }
   ],
   "source": [
    "accuracy_score(y_test,xg_pred)*100"
   ]
  },
  {
   "cell_type": "code",
   "execution_count": 123,
   "id": "f8c1a145",
   "metadata": {},
   "outputs": [
    {
     "data": {
      "text/plain": [
       "67.7100922197688"
      ]
     },
     "execution_count": 123,
     "metadata": {},
     "output_type": "execute_result"
    }
   ],
   "source": [
    "xg.score(X_train,y_train)*100"
   ]
  },
  {
   "cell_type": "code",
   "execution_count": 124,
   "id": "6252c3a1",
   "metadata": {
    "scrolled": true
   },
   "outputs": [
    {
     "name": "stdout",
     "output_type": "stream",
     "text": [
      "              precision    recall  f1-score   support\n",
      "\n",
      "           0       0.59      0.73      0.65      1379\n",
      "           1       0.77      0.64      0.69      1921\n",
      "\n",
      "    accuracy                           0.67      3300\n",
      "   macro avg       0.68      0.68      0.67      3300\n",
      "weighted avg       0.69      0.67      0.68      3300\n",
      "\n"
     ]
    }
   ],
   "source": [
    "print(classification_report(y_test,xg_pred))"
   ]
  },
  {
   "cell_type": "markdown",
   "id": "51c2392c",
   "metadata": {},
   "source": [
    "In classification report we see that prediction is correct  upto 59% in precision.\n",
    "\n",
    "In recall thers is 73% of positive cases"
   ]
  },
  {
   "cell_type": "markdown",
   "id": "a205d401",
   "metadata": {},
   "source": [
    "# Using CatBoost Classifier"
   ]
  },
  {
   "cell_type": "code",
   "execution_count": 125,
   "id": "8c3e7d03",
   "metadata": {},
   "outputs": [],
   "source": [
    "from catboost import CatBoostClassifier"
   ]
  },
  {
   "cell_type": "code",
   "execution_count": 126,
   "id": "d62a9c18",
   "metadata": {},
   "outputs": [],
   "source": [
    "ct=CatBoostClassifier(max_depth=3,n_estimators=100)"
   ]
  },
  {
   "cell_type": "code",
   "execution_count": 127,
   "id": "29c597ab",
   "metadata": {
    "scrolled": true
   },
   "outputs": [
    {
     "name": "stdout",
     "output_type": "stream",
     "text": [
      "Learning rate set to 0.203442\n",
      "0:\tlearn: 0.6443806\ttotal: 206ms\tremaining: 20.4s\n",
      "1:\tlearn: 0.6106668\ttotal: 209ms\tremaining: 10.3s\n",
      "2:\tlearn: 0.5902214\ttotal: 222ms\tremaining: 7.17s\n",
      "3:\tlearn: 0.5735036\ttotal: 225ms\tremaining: 5.4s\n",
      "4:\tlearn: 0.5604857\ttotal: 228ms\tremaining: 4.34s\n",
      "5:\tlearn: 0.5508871\ttotal: 236ms\tremaining: 3.71s\n",
      "6:\tlearn: 0.5437577\ttotal: 240ms\tremaining: 3.19s\n",
      "7:\tlearn: 0.5369727\ttotal: 243ms\tremaining: 2.8s\n",
      "8:\tlearn: 0.5317301\ttotal: 249ms\tremaining: 2.52s\n",
      "9:\tlearn: 0.5269206\ttotal: 261ms\tremaining: 2.35s\n",
      "10:\tlearn: 0.5234131\ttotal: 265ms\tremaining: 2.15s\n",
      "11:\tlearn: 0.5218941\ttotal: 271ms\tremaining: 1.99s\n",
      "12:\tlearn: 0.5192705\ttotal: 275ms\tremaining: 1.84s\n",
      "13:\tlearn: 0.5158749\ttotal: 279ms\tremaining: 1.72s\n",
      "14:\tlearn: 0.5144736\ttotal: 283ms\tremaining: 1.6s\n",
      "15:\tlearn: 0.5133328\ttotal: 290ms\tremaining: 1.52s\n",
      "16:\tlearn: 0.5123388\ttotal: 293ms\tremaining: 1.43s\n",
      "17:\tlearn: 0.5115413\ttotal: 297ms\tremaining: 1.35s\n",
      "18:\tlearn: 0.5096716\ttotal: 300ms\tremaining: 1.28s\n",
      "19:\tlearn: 0.5086919\ttotal: 306ms\tremaining: 1.23s\n",
      "20:\tlearn: 0.5085834\ttotal: 312ms\tremaining: 1.17s\n",
      "21:\tlearn: 0.5082732\ttotal: 316ms\tremaining: 1.12s\n",
      "22:\tlearn: 0.5081424\ttotal: 319ms\tremaining: 1.07s\n",
      "23:\tlearn: 0.5076847\ttotal: 324ms\tremaining: 1.02s\n",
      "24:\tlearn: 0.5063945\ttotal: 334ms\tremaining: 1s\n",
      "25:\tlearn: 0.5062491\ttotal: 338ms\tremaining: 962ms\n",
      "26:\tlearn: 0.5059750\ttotal: 343ms\tremaining: 928ms\n",
      "27:\tlearn: 0.5057911\ttotal: 350ms\tremaining: 899ms\n",
      "28:\tlearn: 0.5045293\ttotal: 353ms\tremaining: 864ms\n",
      "29:\tlearn: 0.5042999\ttotal: 356ms\tremaining: 831ms\n",
      "30:\tlearn: 0.5040963\ttotal: 365ms\tremaining: 812ms\n",
      "31:\tlearn: 0.5038117\ttotal: 369ms\tremaining: 783ms\n",
      "32:\tlearn: 0.5035680\ttotal: 373ms\tremaining: 758ms\n",
      "33:\tlearn: 0.5028222\ttotal: 382ms\tremaining: 742ms\n",
      "34:\tlearn: 0.5018587\ttotal: 386ms\tremaining: 717ms\n",
      "35:\tlearn: 0.5017140\ttotal: 389ms\tremaining: 692ms\n",
      "36:\tlearn: 0.5016204\ttotal: 394ms\tremaining: 671ms\n",
      "37:\tlearn: 0.5012429\ttotal: 401ms\tremaining: 654ms\n",
      "38:\tlearn: 0.5011405\ttotal: 405ms\tremaining: 633ms\n",
      "39:\tlearn: 0.5010353\ttotal: 411ms\tremaining: 616ms\n",
      "40:\tlearn: 0.5009085\ttotal: 413ms\tremaining: 595ms\n",
      "41:\tlearn: 0.4994578\ttotal: 417ms\tremaining: 576ms\n",
      "42:\tlearn: 0.4991245\ttotal: 420ms\tremaining: 557ms\n",
      "43:\tlearn: 0.4990637\ttotal: 425ms\tremaining: 541ms\n",
      "44:\tlearn: 0.4989215\ttotal: 428ms\tremaining: 524ms\n",
      "45:\tlearn: 0.4985744\ttotal: 432ms\tremaining: 507ms\n",
      "46:\tlearn: 0.4984535\ttotal: 435ms\tremaining: 491ms\n",
      "47:\tlearn: 0.4982214\ttotal: 438ms\tremaining: 475ms\n",
      "48:\tlearn: 0.4980864\ttotal: 441ms\tremaining: 460ms\n",
      "49:\tlearn: 0.4977560\ttotal: 448ms\tremaining: 448ms\n",
      "50:\tlearn: 0.4976557\ttotal: 455ms\tremaining: 437ms\n",
      "51:\tlearn: 0.4974999\ttotal: 458ms\tremaining: 423ms\n",
      "52:\tlearn: 0.4973854\ttotal: 462ms\tremaining: 409ms\n",
      "53:\tlearn: 0.4972328\ttotal: 468ms\tremaining: 398ms\n",
      "54:\tlearn: 0.4964913\ttotal: 471ms\tremaining: 385ms\n",
      "55:\tlearn: 0.4962225\ttotal: 475ms\tremaining: 373ms\n",
      "56:\tlearn: 0.4957921\ttotal: 480ms\tremaining: 362ms\n",
      "57:\tlearn: 0.4956335\ttotal: 490ms\tremaining: 355ms\n",
      "58:\tlearn: 0.4951504\ttotal: 494ms\tremaining: 343ms\n",
      "59:\tlearn: 0.4949587\ttotal: 497ms\tremaining: 332ms\n",
      "60:\tlearn: 0.4946344\ttotal: 501ms\tremaining: 320ms\n",
      "61:\tlearn: 0.4937151\ttotal: 506ms\tremaining: 310ms\n",
      "62:\tlearn: 0.4934173\ttotal: 511ms\tremaining: 300ms\n",
      "63:\tlearn: 0.4930821\ttotal: 516ms\tremaining: 290ms\n",
      "64:\tlearn: 0.4929742\ttotal: 519ms\tremaining: 279ms\n",
      "65:\tlearn: 0.4927696\ttotal: 528ms\tremaining: 272ms\n",
      "66:\tlearn: 0.4926414\ttotal: 533ms\tremaining: 263ms\n",
      "67:\tlearn: 0.4924167\ttotal: 536ms\tremaining: 252ms\n",
      "68:\tlearn: 0.4922912\ttotal: 539ms\tremaining: 242ms\n",
      "69:\tlearn: 0.4921511\ttotal: 542ms\tremaining: 232ms\n",
      "70:\tlearn: 0.4920441\ttotal: 546ms\tremaining: 223ms\n",
      "71:\tlearn: 0.4918825\ttotal: 549ms\tremaining: 214ms\n",
      "72:\tlearn: 0.4915148\ttotal: 553ms\tremaining: 205ms\n",
      "73:\tlearn: 0.4912938\ttotal: 556ms\tremaining: 195ms\n",
      "74:\tlearn: 0.4909762\ttotal: 559ms\tremaining: 186ms\n",
      "75:\tlearn: 0.4908656\ttotal: 562ms\tremaining: 178ms\n",
      "76:\tlearn: 0.4905288\ttotal: 565ms\tremaining: 169ms\n",
      "77:\tlearn: 0.4904459\ttotal: 571ms\tremaining: 161ms\n",
      "78:\tlearn: 0.4896773\ttotal: 575ms\tremaining: 153ms\n",
      "79:\tlearn: 0.4895728\ttotal: 579ms\tremaining: 145ms\n",
      "80:\tlearn: 0.4893959\ttotal: 582ms\tremaining: 137ms\n",
      "81:\tlearn: 0.4892589\ttotal: 586ms\tremaining: 129ms\n",
      "82:\tlearn: 0.4890119\ttotal: 590ms\tremaining: 121ms\n",
      "83:\tlearn: 0.4889268\ttotal: 592ms\tremaining: 113ms\n",
      "84:\tlearn: 0.4887449\ttotal: 594ms\tremaining: 105ms\n",
      "85:\tlearn: 0.4886459\ttotal: 596ms\tremaining: 97.1ms\n",
      "86:\tlearn: 0.4885597\ttotal: 599ms\tremaining: 89.4ms\n",
      "87:\tlearn: 0.4884791\ttotal: 601ms\tremaining: 81.9ms\n",
      "88:\tlearn: 0.4883821\ttotal: 603ms\tremaining: 74.6ms\n",
      "89:\tlearn: 0.4882372\ttotal: 606ms\tremaining: 67.3ms\n",
      "90:\tlearn: 0.4881505\ttotal: 608ms\tremaining: 60.2ms\n",
      "91:\tlearn: 0.4880976\ttotal: 611ms\tremaining: 53.1ms\n",
      "92:\tlearn: 0.4878499\ttotal: 613ms\tremaining: 46.1ms\n",
      "93:\tlearn: 0.4876176\ttotal: 615ms\tremaining: 39.3ms\n",
      "94:\tlearn: 0.4873711\ttotal: 619ms\tremaining: 32.6ms\n",
      "95:\tlearn: 0.4871900\ttotal: 622ms\tremaining: 25.9ms\n",
      "96:\tlearn: 0.4870641\ttotal: 624ms\tremaining: 19.3ms\n",
      "97:\tlearn: 0.4869386\ttotal: 627ms\tremaining: 12.8ms\n",
      "98:\tlearn: 0.4868508\ttotal: 629ms\tremaining: 6.36ms\n",
      "99:\tlearn: 0.4867139\ttotal: 632ms\tremaining: 0us\n"
     ]
    },
    {
     "data": {
      "text/plain": [
       "<catboost.core.CatBoostClassifier at 0x1e30843dca0>"
      ]
     },
     "execution_count": 127,
     "metadata": {},
     "output_type": "execute_result"
    }
   ],
   "source": [
    "ct.fit(X_train,y_train)"
   ]
  },
  {
   "cell_type": "code",
   "execution_count": 128,
   "id": "4f20bd6a",
   "metadata": {},
   "outputs": [
    {
     "data": {
      "text/plain": [
       "array([0, 0, 1, ..., 0, 0, 0], dtype=int64)"
      ]
     },
     "execution_count": 128,
     "metadata": {},
     "output_type": "execute_result"
    }
   ],
   "source": [
    "ct_pred=ct.predict(X_test)\n",
    "ct_pred"
   ]
  },
  {
   "cell_type": "code",
   "execution_count": 129,
   "id": "075a700c",
   "metadata": {},
   "outputs": [
    {
     "data": {
      "text/plain": [
       "array([[1168,  211],\n",
       "       [ 839, 1082]], dtype=int64)"
      ]
     },
     "execution_count": 129,
     "metadata": {},
     "output_type": "execute_result"
    }
   ],
   "source": [
    "cf_ct=confusion_matrix(y_test,ct_pred)\n",
    "cf_ct"
   ]
  },
  {
   "cell_type": "code",
   "execution_count": 130,
   "id": "ff5521a7",
   "metadata": {},
   "outputs": [
    {
     "data": {
      "image/png": "[encoded data removed]",
      "text/plain": [
       "<Figure size 720x360 with 2 Axes>"
      ]
     },
     "metadata": {
      "needs_background": "light"
     },
     "output_type": "display_data"
    }
   ],
   "source": [
    "plt.figure(figsize=(10,5))\n",
    "sns.heatmap(cf_ct,cmap='Blues',annot=True,fmt='g')\n",
    "plt.title('Confusion_Matrix_CatBoost',fontsize=10)\n",
    "plt.show()"
   ]
  },
  {
   "cell_type": "markdown",
   "id": "ed405b58",
   "metadata": {},
   "source": [
    "0 - indicates that product reached on time \n",
    "1 - indicates that product has not reached on time\n",
    "\n",
    "So In above confusion matrix graph we can clearly see that after performing Cat Boost Classifier on the predicted variable we got the figure of True Positive i.e 1168 which means that the product will definitely reach on time to those users. as this figure shows that our predicted and actual is same.\n",
    "\n",
    "In second case we can see that 211 are the False Positive which means model has predicted that product will reach on time but in actual it will not reach on time.\n",
    "\n",
    "In third case 839 are the False negative which means that our model prodiction shows that the product will not reach on time but in actual it will reach on time.\n",
    "\n",
    "In forth case 1082 are True negative which means that our model has correctly predicted that the product will not reach on time "
   ]
  },
  {
   "cell_type": "code",
   "execution_count": 131,
   "id": "fc74e73a",
   "metadata": {},
   "outputs": [
    {
     "data": {
      "text/plain": [
       "68.18181818181817"
      ]
     },
     "execution_count": 131,
     "metadata": {},
     "output_type": "execute_result"
    }
   ],
   "source": [
    "accuracy_score(y_test,ct_pred)*100"
   ]
  },
  {
   "cell_type": "markdown",
   "id": "a7bb6651",
   "metadata": {},
   "source": [
    "After Performing the Cat Boost classifier our predicted accuracy is 68.18% "
   ]
  },
  {
   "cell_type": "code",
   "execution_count": 132,
   "id": "e1c7f696",
   "metadata": {},
   "outputs": [
    {
     "data": {
      "text/plain": [
       "70.8403688790752"
      ]
     },
     "execution_count": 132,
     "metadata": {},
     "output_type": "execute_result"
    }
   ],
   "source": [
    "ct.score(X_train,y_train)*100"
   ]
  },
  {
   "cell_type": "code",
   "execution_count": 133,
   "id": "f4acdf96",
   "metadata": {},
   "outputs": [
    {
     "name": "stdout",
     "output_type": "stream",
     "text": [
      "              precision    recall  f1-score   support\n",
      "\n",
      "           0       0.58      0.85      0.69      1379\n",
      "           1       0.84      0.56      0.67      1921\n",
      "\n",
      "    accuracy                           0.68      3300\n",
      "   macro avg       0.71      0.71      0.68      3300\n",
      "weighted avg       0.73      0.68      0.68      3300\n",
      "\n"
     ]
    }
   ],
   "source": [
    "print(classification_report(y_test,ct_pred))"
   ]
  },
  {
   "cell_type": "markdown",
   "id": "488a9151",
   "metadata": {},
   "source": [
    "In above Classification report:- \n",
    "\n",
    "Precision has shown the 58% correct prediction about the product delivery.\n",
    "\n",
    "Recall has shown 85% of positive cases predicted by Cat boost Classifier\n",
    "\n",
    "F1 score has shown 69% of positive prediction which are correct."
   ]
  },
  {
   "cell_type": "markdown",
   "id": "66a06d22",
   "metadata": {},
   "source": [
    "# Using LGBM Classifier"
   ]
  },
  {
   "cell_type": "code",
   "execution_count": 134,
   "id": "93e28068",
   "metadata": {},
   "outputs": [],
   "source": [
    "import lightgbm as lgbm"
   ]
  },
  {
   "cell_type": "code",
   "execution_count": 135,
   "id": "1dbb1ab1",
   "metadata": {},
   "outputs": [],
   "source": [
    "lg=lgbm.LGBMClassifier(max_depth=1,n_estimators=100)"
   ]
  },
  {
   "cell_type": "code",
   "execution_count": 136,
   "id": "7962b273",
   "metadata": {},
   "outputs": [
    {
     "data": {
      "text/html": [
       "<style>#sk-container-id-6 {color: black;background-color: white;}#sk-container-id-6 pre{padding: 0;}#sk-container-id-6 div.sk-toggleable {background-color: white;}#sk-container-id-6 label.sk-toggleable__label {cursor: pointer;display: block;width: 100%;margin-bottom: 0;padding: 0.3em;box-sizing: border-box;text-align: center;}#sk-container-id-6 label.sk-toggleable__label-arrow:before {content: \"▸\";float: left;margin-right: 0.25em;color: #696969;}#sk-container-id-6 label.sk-toggleable__label-arrow:hover:before {color: black;}#sk-container-id-6 div.sk-estimator:hover label.sk-toggleable__label-arrow:before {color: black;}#sk-container-id-6 div.sk-toggleable__content {max-height: 0;max-width: 0;overflow: hidden;text-align: left;background-color: #f0f8ff;}#sk-container-id-6 div.sk-toggleable__content pre {margin: 0.2em;color: black;border-radius: 0.25em;background-color: #f0f8ff;}#sk-container-id-6 input.sk-toggleable__control:checked~div.sk-toggleable__content {max-height: 200px;max-width: 100%;overflow: auto;}#sk-container-id-6 input.sk-toggleable__control:checked~label.sk-toggleable__label-arrow:before {content: \"▾\";}#sk-container-id-6 div.sk-estimator input.sk-toggleable__control:checked~label.sk-toggleable__label {background-color: #d4ebff;}#sk-container-id-6 div.sk-label input.sk-toggleable__control:checked~label.sk-toggleable__label {background-color: #d4ebff;}#sk-container-id-6 input.sk-hidden--visually {border: 0;clip: rect(1px 1px 1px 1px);clip: rect(1px, 1px, 1px, 1px);height: 1px;margin: -1px;overflow: hidden;padding: 0;position: absolute;width: 1px;}#sk-container-id-6 div.sk-estimator {font-family: monospace;background-color: #f0f8ff;border: 1px dotted black;border-radius: 0.25em;box-sizing: border-box;margin-bottom: 0.5em;}#sk-container-id-6 div.sk-estimator:hover {background-color: #d4ebff;}#sk-container-id-6 div.sk-parallel-item::after {content: \"\";width: 100%;border-bottom: 1px solid gray;flex-grow: 1;}#sk-container-id-6 div.sk-label:hover label.sk-toggleable__label {background-color: #d4ebff;}#sk-container-id-6 div.sk-serial::before {content: \"\";position: absolute;border-left: 1px solid gray;box-sizing: border-box;top: 0;bottom: 0;left: 50%;z-index: 0;}#sk-container-id-6 div.sk-serial {display: flex;flex-direction: column;align-items: center;background-color: white;padding-right: 0.2em;padding-left: 0.2em;position: relative;}#sk-container-id-6 div.sk-item {position: relative;z-index: 1;}#sk-container-id-6 div.sk-parallel {display: flex;align-items: stretch;justify-content: center;background-color: white;position: relative;}#sk-container-id-6 div.sk-item::before, #sk-container-id-6 div.sk-parallel-item::before {content: \"\";position: absolute;border-left: 1px solid gray;box-sizing: border-box;top: 0;bottom: 0;left: 50%;z-index: -1;}#sk-container-id-6 div.sk-parallel-item {display: flex;flex-direction: column;z-index: 1;position: relative;background-color: white;}#sk-container-id-6 div.sk-parallel-item:first-child::after {align-self: flex-end;width: 50%;}#sk-container-id-6 div.sk-parallel-item:last-child::after {align-self: flex-start;width: 50%;}#sk-container-id-6 div.sk-parallel-item:only-child::after {width: 0;}#sk-container-id-6 div.sk-dashed-wrapped {border: 1px dashed gray;margin: 0 0.4em 0.5em 0.4em;box-sizing: border-box;padding-bottom: 0.4em;background-color: white;}#sk-container-id-6 div.sk-label label {font-family: monospace;font-weight: bold;display: inline-block;line-height: 1.2em;}#sk-container-id-6 div.sk-label-container {text-align: center;}#sk-container-id-6 div.sk-container {/* jupyter's `normalize.less` sets `[hidden] { display: none; }` but bootstrap.min.css set `[hidden] { display: none !important; }` so we also need the `!important` here to be able to override the default hidden behavior on the sphinx rendered scikit-learn.org. See: https://github.com/scikit-learn/scikit-learn/issues/21755 */display: inline-block !important;position: relative;}#sk-container-id-6 div.sk-text-repr-fallback {display: none;}</style><div id=\"sk-container-id-6\" class=\"sk-top-container\"><div class=\"sk-text-repr-fallback\"><pre>LGBMClassifier(max_depth=1)</pre><b>In a Jupyter environment, please rerun this cell to show the HTML representation or trust the notebook. <br />On GitHub, the HTML representation is unable to render, please try loading this page with nbviewer.org.</b></div><div class=\"sk-container\" hidden><div class=\"sk-item\"><div class=\"sk-estimator sk-toggleable\"><input class=\"sk-toggleable__control sk-hidden--visually\" id=\"sk-estimator-id-6\" type=\"checkbox\" checked><label for=\"sk-estimator-id-6\" class=\"sk-toggleable__label sk-toggleable__label-arrow\">LGBMClassifier</label><div class=\"sk-toggleable__content\"><pre>LGBMClassifier(max_depth=1)</pre></div></div></div></div></div>"
      ],
      "text/plain": [
       "LGBMClassifier(max_depth=1)"
      ]
     },
     "execution_count": 136,
     "metadata": {},
     "output_type": "execute_result"
    }
   ],
   "source": [
    "lg.fit(X_train,y_train)"
   ]
  },
  {
   "cell_type": "code",
   "execution_count": 137,
   "id": "8b41b49b",
   "metadata": {},
   "outputs": [
    {
     "data": {
      "text/plain": [
       "array([0, 1, 1, ..., 0, 0, 1], dtype=int64)"
      ]
     },
     "execution_count": 137,
     "metadata": {},
     "output_type": "execute_result"
    }
   ],
   "source": [
    "lg_pred=lg.predict(X_test)\n",
    "lg_pred"
   ]
  },
  {
   "cell_type": "code",
   "execution_count": 138,
   "id": "d2c9528b",
   "metadata": {},
   "outputs": [
    {
     "data": {
      "text/plain": [
       "array([[1007,  372],\n",
       "       [ 701, 1220]], dtype=int64)"
      ]
     },
     "execution_count": 138,
     "metadata": {},
     "output_type": "execute_result"
    }
   ],
   "source": [
    "cf_lg=confusion_matrix(y_test,lg_pred)\n",
    "cf_lg"
   ]
  },
  {
   "cell_type": "code",
   "execution_count": 139,
   "id": "fbae8d88",
   "metadata": {},
   "outputs": [
    {
     "data": {
      "image/png": "[encoded data removed]",
      "text/plain": [
       "<Figure size 720x360 with 2 Axes>"
      ]
     },
     "metadata": {
      "needs_background": "light"
     },
     "output_type": "display_data"
    }
   ],
   "source": [
    "plt.figure(figsize=(10,5))\n",
    "sns.heatmap(cf_lg,cmap='Blues',annot=True,fmt='g')\n",
    "plt.title('Confusion_Matrix_LGBMClassifier',fontsize=10)\n",
    "plt.show()"
   ]
  },
  {
   "cell_type": "markdown",
   "id": "6a8eb7de",
   "metadata": {},
   "source": [
    "In confusion matrix of Light Gradient Boosting . we see that there are 1007 True Postive , 372 are False Positive, 701 are False Negative and 1220 are True Negative.\n",
    "\n",
    "So, according to confusion matrix \n",
    "1.) 1007 are True Positive which means that our prediction has predited the same which are in actual.\n",
    "\n",
    "2.) 372 are the False Positive which means that our model has predicted it but in actual there will be a delay in delivery of product.\n",
    "\n",
    "3.) 701 are False negativewhich means that our model has predicted the delay in delivery of product but in actual there will be on time delivery.\n",
    "\n",
    "4.) 1220 are True Negative so in this case our model has correctetly predicted that there will be delay in delivery."
   ]
  },
  {
   "cell_type": "code",
   "execution_count": 140,
   "id": "d3d9ec09",
   "metadata": {},
   "outputs": [
    {
     "data": {
      "text/plain": [
       "67.37238602415898"
      ]
     },
     "execution_count": 140,
     "metadata": {},
     "output_type": "execute_result"
    }
   ],
   "source": [
    "lg.score(X_train,y_train)*100"
   ]
  },
  {
   "cell_type": "code",
   "execution_count": 141,
   "id": "4cc6d01e",
   "metadata": {},
   "outputs": [
    {
     "data": {
      "text/plain": [
       "67.48484848484848"
      ]
     },
     "execution_count": 141,
     "metadata": {},
     "output_type": "execute_result"
    }
   ],
   "source": [
    "accuracy_score(y_test,lg_pred)*100"
   ]
  },
  {
   "cell_type": "markdown",
   "id": "b8f5d68f",
   "metadata": {},
   "source": [
    "# Using Bagging Classifier"
   ]
  },
  {
   "cell_type": "code",
   "execution_count": 142,
   "id": "16f8b255",
   "metadata": {},
   "outputs": [],
   "source": [
    "from sklearn.ensemble import BaggingClassifier"
   ]
  },
  {
   "cell_type": "code",
   "execution_count": 143,
   "id": "e216d196",
   "metadata": {},
   "outputs": [],
   "source": [
    "bc=BaggingClassifier(n_estimators=2)"
   ]
  },
  {
   "cell_type": "code",
   "execution_count": 144,
   "id": "6d00c04a",
   "metadata": {},
   "outputs": [
    {
     "data": {
      "text/html": [
       "<style>#sk-container-id-7 {color: black;background-color: white;}#sk-container-id-7 pre{padding: 0;}#sk-container-id-7 div.sk-toggleable {background-color: white;}#sk-container-id-7 label.sk-toggleable__label {cursor: pointer;display: block;width: 100%;margin-bottom: 0;padding: 0.3em;box-sizing: border-box;text-align: center;}#sk-container-id-7 label.sk-toggleable__label-arrow:before {content: \"▸\";float: left;margin-right: 0.25em;color: #696969;}#sk-container-id-7 label.sk-toggleable__label-arrow:hover:before {color: black;}#sk-container-id-7 div.sk-estimator:hover label.sk-toggleable__label-arrow:before {color: black;}#sk-container-id-7 div.sk-toggleable__content {max-height: 0;max-width: 0;overflow: hidden;text-align: left;background-color: #f0f8ff;}#sk-container-id-7 div.sk-toggleable__content pre {margin: 0.2em;color: black;border-radius: 0.25em;background-color: #f0f8ff;}#sk-container-id-7 input.sk-toggleable__control:checked~div.sk-toggleable__content {max-height: 200px;max-width: 100%;overflow: auto;}#sk-container-id-7 input.sk-toggleable__control:checked~label.sk-toggleable__label-arrow:before {content: \"▾\";}#sk-container-id-7 div.sk-estimator input.sk-toggleable__control:checked~label.sk-toggleable__label {background-color: #d4ebff;}#sk-container-id-7 div.sk-label input.sk-toggleable__control:checked~label.sk-toggleable__label {background-color: #d4ebff;}#sk-container-id-7 input.sk-hidden--visually {border: 0;clip: rect(1px 1px 1px 1px);clip: rect(1px, 1px, 1px, 1px);height: 1px;margin: -1px;overflow: hidden;padding: 0;position: absolute;width: 1px;}#sk-container-id-7 div.sk-estimator {font-family: monospace;background-color: #f0f8ff;border: 1px dotted black;border-radius: 0.25em;box-sizing: border-box;margin-bottom: 0.5em;}#sk-container-id-7 div.sk-estimator:hover {background-color: #d4ebff;}#sk-container-id-7 div.sk-parallel-item::after {content: \"\";width: 100%;border-bottom: 1px solid gray;flex-grow: 1;}#sk-container-id-7 div.sk-label:hover label.sk-toggleable__label {background-color: #d4ebff;}#sk-container-id-7 div.sk-serial::before {content: \"\";position: absolute;border-left: 1px solid gray;box-sizing: border-box;top: 0;bottom: 0;left: 50%;z-index: 0;}#sk-container-id-7 div.sk-serial {display: flex;flex-direction: column;align-items: center;background-color: white;padding-right: 0.2em;padding-left: 0.2em;position: relative;}#sk-container-id-7 div.sk-item {position: relative;z-index: 1;}#sk-container-id-7 div.sk-parallel {display: flex;align-items: stretch;justify-content: center;background-color: white;position: relative;}#sk-container-id-7 div.sk-item::before, #sk-container-id-7 div.sk-parallel-item::before {content: \"\";position: absolute;border-left: 1px solid gray;box-sizing: border-box;top: 0;bottom: 0;left: 50%;z-index: -1;}#sk-container-id-7 div.sk-parallel-item {display: flex;flex-direction: column;z-index: 1;position: relative;background-color: white;}#sk-container-id-7 div.sk-parallel-item:first-child::after {align-self: flex-end;width: 50%;}#sk-container-id-7 div.sk-parallel-item:last-child::after {align-self: flex-start;width: 50%;}#sk-container-id-7 div.sk-parallel-item:only-child::after {width: 0;}#sk-container-id-7 div.sk-dashed-wrapped {border: 1px dashed gray;margin: 0 0.4em 0.5em 0.4em;box-sizing: border-box;padding-bottom: 0.4em;background-color: white;}#sk-container-id-7 div.sk-label label {font-family: monospace;font-weight: bold;display: inline-block;line-height: 1.2em;}#sk-container-id-7 div.sk-label-container {text-align: center;}#sk-container-id-7 div.sk-container {/* jupyter's `normalize.less` sets `[hidden] { display: none; }` but bootstrap.min.css set `[hidden] { display: none !important; }` so we also need the `!important` here to be able to override the default hidden behavior on the sphinx rendered scikit-learn.org. See: https://github.com/scikit-learn/scikit-learn/issues/21755 */display: inline-block !important;position: relative;}#sk-container-id-7 div.sk-text-repr-fallback {display: none;}</style><div id=\"sk-container-id-7\" class=\"sk-top-container\"><div class=\"sk-text-repr-fallback\"><pre>BaggingClassifier(n_estimators=2)</pre><b>In a Jupyter environment, please rerun this cell to show the HTML representation or trust the notebook. <br />On GitHub, the HTML representation is unable to render, please try loading this page with nbviewer.org.</b></div><div class=\"sk-container\" hidden><div class=\"sk-item\"><div class=\"sk-estimator sk-toggleable\"><input class=\"sk-toggleable__control sk-hidden--visually\" id=\"sk-estimator-id-7\" type=\"checkbox\" checked><label for=\"sk-estimator-id-7\" class=\"sk-toggleable__label sk-toggleable__label-arrow\">BaggingClassifier</label><div class=\"sk-toggleable__content\"><pre>BaggingClassifier(n_estimators=2)</pre></div></div></div></div></div>"
      ],
      "text/plain": [
       "BaggingClassifier(n_estimators=2)"
      ]
     },
     "execution_count": 144,
     "metadata": {},
     "output_type": "execute_result"
    }
   ],
   "source": [
    "bc.fit(X_train,y_train)"
   ]
  },
  {
   "cell_type": "code",
   "execution_count": 145,
   "id": "fdcb4fdd",
   "metadata": {},
   "outputs": [
    {
     "data": {
      "text/plain": [
       "array([1, 0, 1, ..., 0, 0, 0], dtype=int64)"
      ]
     },
     "execution_count": 145,
     "metadata": {},
     "output_type": "execute_result"
    }
   ],
   "source": [
    "bc_pred=bc.predict(X_test)\n",
    "bc_pred"
   ]
  },
  {
   "cell_type": "code",
   "execution_count": 146,
   "id": "758eaa4f",
   "metadata": {},
   "outputs": [
    {
     "data": {
      "text/plain": [
       "87.28406286530719"
      ]
     },
     "execution_count": 146,
     "metadata": {},
     "output_type": "execute_result"
    }
   ],
   "source": [
    "bc.score(X_train,y_train)*100"
   ]
  },
  {
   "cell_type": "code",
   "execution_count": 147,
   "id": "d4c8900b",
   "metadata": {},
   "outputs": [
    {
     "data": {
      "text/plain": [
       "66.51515151515152"
      ]
     },
     "execution_count": 147,
     "metadata": {},
     "output_type": "execute_result"
    }
   ],
   "source": [
    "accuracy_score(y_test,bc_pred)*100"
   ]
  },
  {
   "cell_type": "markdown",
   "id": "bc73bf12",
   "metadata": {},
   "source": [
    "# Using KNN (K-Nearest neighbor)"
   ]
  },
  {
   "cell_type": "code",
   "execution_count": 148,
   "id": "410521f8",
   "metadata": {},
   "outputs": [],
   "source": [
    "from sklearn.neighbors import KNeighborsClassifier"
   ]
  },
  {
   "cell_type": "code",
   "execution_count": 149,
   "id": "ef4c4055",
   "metadata": {},
   "outputs": [],
   "source": [
    "knn=KNeighborsClassifier(n_neighbors=10)"
   ]
  },
  {
   "cell_type": "code",
   "execution_count": 150,
   "id": "ca64f37d",
   "metadata": {},
   "outputs": [
    {
     "data": {
      "text/html": [
       "<style>#sk-container-id-8 {color: black;background-color: white;}#sk-container-id-8 pre{padding: 0;}#sk-container-id-8 div.sk-toggleable {background-color: white;}#sk-container-id-8 label.sk-toggleable__label {cursor: pointer;display: block;width: 100%;margin-bottom: 0;padding: 0.3em;box-sizing: border-box;text-align: center;}#sk-container-id-8 label.sk-toggleable__label-arrow:before {content: \"▸\";float: left;margin-right: 0.25em;color: #696969;}#sk-container-id-8 label.sk-toggleable__label-arrow:hover:before {color: black;}#sk-container-id-8 div.sk-estimator:hover label.sk-toggleable__label-arrow:before {color: black;}#sk-container-id-8 div.sk-toggleable__content {max-height: 0;max-width: 0;overflow: hidden;text-align: left;background-color: #f0f8ff;}#sk-container-id-8 div.sk-toggleable__content pre {margin: 0.2em;color: black;border-radius: 0.25em;background-color: #f0f8ff;}#sk-container-id-8 input.sk-toggleable__control:checked~div.sk-toggleable__content {max-height: 200px;max-width: 100%;overflow: auto;}#sk-container-id-8 input.sk-toggleable__control:checked~label.sk-toggleable__label-arrow:before {content: \"▾\";}#sk-container-id-8 div.sk-estimator input.sk-toggleable__control:checked~label.sk-toggleable__label {background-color: #d4ebff;}#sk-container-id-8 div.sk-label input.sk-toggleable__control:checked~label.sk-toggleable__label {background-color: #d4ebff;}#sk-container-id-8 input.sk-hidden--visually {border: 0;clip: rect(1px 1px 1px 1px);clip: rect(1px, 1px, 1px, 1px);height: 1px;margin: -1px;overflow: hidden;padding: 0;position: absolute;width: 1px;}#sk-container-id-8 div.sk-estimator {font-family: monospace;background-color: #f0f8ff;border: 1px dotted black;border-radius: 0.25em;box-sizing: border-box;margin-bottom: 0.5em;}#sk-container-id-8 div.sk-estimator:hover {background-color: #d4ebff;}#sk-container-id-8 div.sk-parallel-item::after {content: \"\";width: 100%;border-bottom: 1px solid gray;flex-grow: 1;}#sk-container-id-8 div.sk-label:hover label.sk-toggleable__label {background-color: #d4ebff;}#sk-container-id-8 div.sk-serial::before {content: \"\";position: absolute;border-left: 1px solid gray;box-sizing: border-box;top: 0;bottom: 0;left: 50%;z-index: 0;}#sk-container-id-8 div.sk-serial {display: flex;flex-direction: column;align-items: center;background-color: white;padding-right: 0.2em;padding-left: 0.2em;position: relative;}#sk-container-id-8 div.sk-item {position: relative;z-index: 1;}#sk-container-id-8 div.sk-parallel {display: flex;align-items: stretch;justify-content: center;background-color: white;position: relative;}#sk-container-id-8 div.sk-item::before, #sk-container-id-8 div.sk-parallel-item::before {content: \"\";position: absolute;border-left: 1px solid gray;box-sizing: border-box;top: 0;bottom: 0;left: 50%;z-index: -1;}#sk-container-id-8 div.sk-parallel-item {display: flex;flex-direction: column;z-index: 1;position: relative;background-color: white;}#sk-container-id-8 div.sk-parallel-item:first-child::after {align-self: flex-end;width: 50%;}#sk-container-id-8 div.sk-parallel-item:last-child::after {align-self: flex-start;width: 50%;}#sk-container-id-8 div.sk-parallel-item:only-child::after {width: 0;}#sk-container-id-8 div.sk-dashed-wrapped {border: 1px dashed gray;margin: 0 0.4em 0.5em 0.4em;box-sizing: border-box;padding-bottom: 0.4em;background-color: white;}#sk-container-id-8 div.sk-label label {font-family: monospace;font-weight: bold;display: inline-block;line-height: 1.2em;}#sk-container-id-8 div.sk-label-container {text-align: center;}#sk-container-id-8 div.sk-container {/* jupyter's `normalize.less` sets `[hidden] { display: none; }` but bootstrap.min.css set `[hidden] { display: none !important; }` so we also need the `!important` here to be able to override the default hidden behavior on the sphinx rendered scikit-learn.org. See: https://github.com/scikit-learn/scikit-learn/issues/21755 */display: inline-block !important;position: relative;}#sk-container-id-8 div.sk-text-repr-fallback {display: none;}</style><div id=\"sk-container-id-8\" class=\"sk-top-container\"><div class=\"sk-text-repr-fallback\"><pre>KNeighborsClassifier(n_neighbors=10)</pre><b>In a Jupyter environment, please rerun this cell to show the HTML representation or trust the notebook. <br />On GitHub, the HTML representation is unable to render, please try loading this page with nbviewer.org.</b></div><div class=\"sk-container\" hidden><div class=\"sk-item\"><div class=\"sk-estimator sk-toggleable\"><input class=\"sk-toggleable__control sk-hidden--visually\" id=\"sk-estimator-id-8\" type=\"checkbox\" checked><label for=\"sk-estimator-id-8\" class=\"sk-toggleable__label sk-toggleable__label-arrow\">KNeighborsClassifier</label><div class=\"sk-toggleable__content\"><pre>KNeighborsClassifier(n_neighbors=10)</pre></div></div></div></div></div>"
      ],
      "text/plain": [
       "KNeighborsClassifier(n_neighbors=10)"
      ]
     },
     "execution_count": 150,
     "metadata": {},
     "output_type": "execute_result"
    }
   ],
   "source": [
    "knn.fit(X_train,y_train)"
   ]
  },
  {
   "cell_type": "code",
   "execution_count": 151,
   "id": "9a64c816",
   "metadata": {},
   "outputs": [
    {
     "data": {
      "text/plain": [
       "array([0, 0, 1, ..., 0, 0, 0], dtype=int64)"
      ]
     },
     "execution_count": 151,
     "metadata": {},
     "output_type": "execute_result"
    }
   ],
   "source": [
    "knn_pred=knn.predict(X_test)\n",
    "knn_pred"
   ]
  },
  {
   "cell_type": "code",
   "execution_count": 152,
   "id": "66392566",
   "metadata": {},
   "outputs": [
    {
     "data": {
      "text/plain": [
       "array([[1008,  371],\n",
       "       [ 747, 1174]], dtype=int64)"
      ]
     },
     "execution_count": 152,
     "metadata": {},
     "output_type": "execute_result"
    }
   ],
   "source": [
    "cf_knn=confusion_matrix(y_test,knn_pred)\n",
    "cf_knn"
   ]
  },
  {
   "cell_type": "code",
   "execution_count": 153,
   "id": "83af9e9b",
   "metadata": {},
   "outputs": [
    {
     "data": {
      "image/png": "[encoded data removed]",
      "text/plain": [
       "<Figure size 720x360 with 2 Axes>"
      ]
     },
     "metadata": {
      "needs_background": "light"
     },
     "output_type": "display_data"
    }
   ],
   "source": [
    "plt.figure(figsize=(10,5))\n",
    "sns.heatmap(cf_knn,cmap=\"Blues\",annot=True,fmt='g')\n",
    "plt.title('Confusion_Matrix_KNN',fontsize=10)\n",
    "plt.show()"
   ]
  },
  {
   "cell_type": "markdown",
   "id": "aa9f8d16",
   "metadata": {},
   "source": [
    "In this confusion matrix we see that there are 1008 values are True Positive which means that our prediction is same as actual that the delivery of the product will reach on time.\n",
    "\n",
    "In second case theere are 371 values for false Positive which means that our model has predicted that the delivery of the product will be on time but in actual there will be delay in reaching the product.\n",
    "\n",
    "In third case we see that 747 values are the False negative with this our model has predicted that there will be delay in delivery of the product but in actual there will be a on time delivery of the product.\n",
    "\n",
    "In fourth and last case we see that there are 1174 values of True Negative which means that our model has predicted correctly about in delay in delivery of the product."
   ]
  },
  {
   "cell_type": "code",
   "execution_count": 154,
   "id": "f3b71d84",
   "metadata": {},
   "outputs": [
    {
     "data": {
      "text/plain": [
       "66.12121212121212"
      ]
     },
     "execution_count": 154,
     "metadata": {},
     "output_type": "execute_result"
    }
   ],
   "source": [
    "accuracy_score(y_test,knn_pred)*100"
   ]
  },
  {
   "cell_type": "code",
   "execution_count": 155,
   "id": "00aa181d",
   "metadata": {},
   "outputs": [
    {
     "data": {
      "text/plain": [
       "73.74983764125211"
      ]
     },
     "execution_count": 155,
     "metadata": {},
     "output_type": "execute_result"
    }
   ],
   "source": [
    "knn.score(X_train,y_train)*100"
   ]
  },
  {
   "cell_type": "markdown",
   "id": "2b2b81a9",
   "metadata": {},
   "source": [
    "#  Principle Component Analysis (PCA)- Dimensionally Reduction"
   ]
  },
  {
   "cell_type": "code",
   "execution_count": 156,
   "id": "6e185566",
   "metadata": {},
   "outputs": [],
   "source": [
    "from sklearn.preprocessing import StandardScaler"
   ]
  },
  {
   "cell_type": "code",
   "execution_count": 157,
   "id": "450b8cdf",
   "metadata": {},
   "outputs": [],
   "source": [
    "std= StandardScaler()"
   ]
  },
  {
   "cell_type": "code",
   "execution_count": 158,
   "id": "d7db7bbf",
   "metadata": {},
   "outputs": [],
   "source": [
    "df_std=df.drop(['Reached.on.Time_Y.N'],axis=1)"
   ]
  },
  {
   "cell_type": "code",
   "execution_count": 159,
   "id": "5da5946e",
   "metadata": {},
   "outputs": [],
   "source": [
    "df_std=std.fit_transform(df_std)"
   ]
  },
  {
   "cell_type": "code",
   "execution_count": 160,
   "id": "162c4b68",
   "metadata": {},
   "outputs": [],
   "source": [
    "from sklearn.decomposition import PCA"
   ]
  },
  {
   "cell_type": "code",
   "execution_count": 161,
   "id": "c187005d",
   "metadata": {},
   "outputs": [],
   "source": [
    "pca= PCA(n_components=3)"
   ]
  },
  {
   "cell_type": "code",
   "execution_count": 162,
   "id": "d6fa84e2",
   "metadata": {},
   "outputs": [],
   "source": [
    "pca1=pca.fit_transform(df_std)"
   ]
  },
  {
   "cell_type": "code",
   "execution_count": 163,
   "id": "95b9db74",
   "metadata": {},
   "outputs": [],
   "source": [
    "df_decomposed=pd.DataFrame(pca1)"
   ]
  },
  {
   "cell_type": "code",
   "execution_count": 164,
   "id": "155a477c",
   "metadata": {},
   "outputs": [
    {
     "data": {
      "text/plain": [
       "(10999, 3)"
      ]
     },
     "execution_count": 164,
     "metadata": {},
     "output_type": "execute_result"
    }
   ],
   "source": [
    "df_decomposed.shape"
   ]
  },
  {
   "cell_type": "markdown",
   "id": "117d24f5",
   "metadata": {},
   "source": [
    "# So, after performing all types of Machine Learning algorithms we got the accuracy of train data and test data.\n",
    "\n",
    "\n",
    "1.) Performed Logistic Regression on data and got the accuracy\n",
    "a) Test:- 62.33\n",
    "b) Train:- 64.09\n",
    "\n",
    "2.) Performed Decision tree Classifier on data and got the accuracy\n",
    "a) Test :- 68.15\n",
    "b) Train:- 67.58\n",
    "\n",
    "3.) Performed Random Forest Classifier on data and got the accuracy \n",
    "a) Test:- 67.39\n",
    "b) Train:- 68.34\n",
    "\n",
    "4.) Performed AdaBoost Classifier on data and got the accuracy\n",
    "a) Test:- 66.96\n",
    "b) Train:- 67.99\n",
    "\n",
    "5.) Performed Gradient Boosting Classifier on data and got the accuracy \n",
    "a) Test:- 68.03\n",
    "b) Train:- 70.61\n",
    "\n",
    "6.) Performed XGBoost Classifier on data and got the accuracy \n",
    "a) Test:- 67.42\n",
    "b) Train:- 67.71\n",
    "\n",
    "7.) Performed Cat Boost Classifier on data and got the accuracy \n",
    "a) Test:- 68.18\n",
    "b) Train:- 70.84\n",
    "\n",
    "8.) Performed LGBM Classifier on data and got the accuracy \n",
    "a) Test:- 67.48\n",
    "b) Train:- 67.37\n",
    "\n",
    "9.) Performed Bagging Classifier on data and got the accuracy \n",
    "a) Test:- 66.51\n",
    "b) Train:- 87.28\n",
    "\n",
    "10.) Performed KNN (K-Nearest neighbors) on data and got the accuracy \n",
    "a) Test:- 66.12\n",
    "b) Train:- 73.74\n",
    "\n",
    "\n",
    "\n",
    "# So, we got the accuracy now we can see that LGBM has performed well in getting the test accuracy and train accuracy so we will consider the LGBM classifier for this data set to know whether the product will reach on time or not. LGBM shows the appropriate accuracy for this dataset.."
   ]
  },
  {
   "cell_type": "markdown",
   "id": "b0008466",
   "metadata": {},
   "source": [
    "# Project Made by:\n",
    "\n",
    "# Praful Saxena\n",
    "# Imarticus Learning"
   ]
  },
  {
   "cell_type": "code",
   "execution_count": null,
   "id": "75597c89",
   "metadata": {},
   "outputs": [],
   "source": []
  }
 ],
 "metadata": {
  "kernelspec": {
   "display_name": "Python 3",
   "language": "python",
   "name": "python3"
  },
  "language_info": {
   "codemirror_mode": {
    "name": "ipython",
    "version": 3
   },
   "file_extension": ".py",
   "mimetype": "text/x-python",
   "name": "python",
   "nbconvert_exporter": "python",
   "pygments_lexer": "ipython3",
   "version": "3.8.8"
  }
 },
 "nbformat": 4,
 "nbformat_minor": 5
}
